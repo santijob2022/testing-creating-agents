{
 "cells": [
  {
   "cell_type": "code",
   "execution_count": 1,
   "metadata": {},
   "outputs": [],
   "source": [
    "# %% [Imports]\n",
    "# from langchain_community.document_loaders import WebBaseLoader\n",
    "# from langchain_community.vectorstores import FAISS\n",
    "# from langchain_openai import OpenAIEmbeddings\n",
    "# from langchain_text_splitters import RecursiveCharacterTextSplitter\n",
    "# from langchain.tools.retriever import create_retriever_tool\n",
    "from langchain_groq import ChatGroq\n",
    "# from langchain import hub\n",
    "# from langchain_core.prompts import ChatPromptTemplate\n",
    "# from langchain_core.messages import SystemMessage\n",
    "from bs4 import BeautifulSoup\n",
    "import requests\n",
    "import os\n",
    "from dotenv import load_dotenv"
   ]
  },
  {
   "cell_type": "code",
   "execution_count": 2,
   "metadata": {},
   "outputs": [],
   "source": [
    "# %% [Load API Keys]\n",
    "load_dotenv()\n",
    "groq_api_key = os.getenv(\"GROQ_API_KEY\")\n",
    "openai_api_key = os.getenv(\"OPENAI_API_KEY\")\n",
    "\n",
    "# Initialize LLM\n",
    "llm = ChatGroq(groq_api_key=groq_api_key, model_name=\"Llama3-8b-8192\")"
   ]
  },
  {
   "cell_type": "code",
   "execution_count": 3,
   "metadata": {},
   "outputs": [
    {
     "name": "stdout",
     "output_type": "stream",
     "text": [
      "Found 43 links to process.\n"
     ]
    }
   ],
   "source": [
    "# %% [Step 1: Crawl All Links in the Website]\n",
    "def extract_links(url):\n",
    "    \"\"\"Extracts all hyperlinks from a given webpage.\"\"\"\n",
    "    response = requests.get(url)\n",
    "    soup = BeautifulSoup(response.text, \"html.parser\")\n",
    "    # print(soup)\n",
    "\n",
    "    # Find all hyperlinks on the page\n",
    "    links = set()\n",
    "    for link in soup.find_all(\"a\", href=True):\n",
    "        href = link[\"href\"]\n",
    "        # Convert relative links to absolute\n",
    "        if href.startswith(\"/\"):\n",
    "            href = url.rstrip(\"/\") + href\n",
    "        if href.startswith(\"http\"):  # Only store valid URLs\n",
    "            links.add(href)\n",
    "    \n",
    "    return list(links)\n",
    "\n",
    "# Get all links on the main page\n",
    "base_url = \"https://docs.smith.langchain.com/\"\n",
    "all_links = extract_links(base_url)\n",
    "\n",
    "print(f\"Found {len(all_links)} links to process.\")"
   ]
  },
  {
   "cell_type": "code",
   "execution_count": 4,
   "metadata": {},
   "outputs": [
    {
     "name": "stdout",
     "output_type": "stream",
     "text": [
      "https://docs.smith.langchain.com/observability/how_to_guides/dashboards <class 'str'>\n",
      "https://docs.smith.langchain.com/observability/how_to_guides/tracing/trace_with_langgraph <class 'str'>\n",
      "https://docs.smith.langchain.com/observability/how_to_guides/trace_with_langchain <class 'str'>\n",
      "https://docs.smith.langchain.com/observability <class 'str'>\n"
     ]
    }
   ],
   "source": [
    "for i in range(len(all_links)):\n",
    "    if \"https://docs.smith.langchain.com/observability\" in all_links[i]:\n",
    "        print(all_links[i], type(all_links[i]))"
   ]
  },
  {
   "cell_type": "code",
   "execution_count": null,
   "metadata": {},
   "outputs": [
    {
     "name": "stderr",
     "output_type": "stream",
     "text": [
      "C:\\Users\\Valentin\\AppData\\Local\\Temp\\ipykernel_35568\\711428107.py:20: LangChainDeprecationWarning: The method `BaseRetriever.get_relevant_documents` was deprecated in langchain-core 0.1.46 and will be removed in 1.0. Use :meth:`~invoke` instead.\n",
      "  results = retriever.get_relevant_documents(query)\n"
     ]
    },
    {
     "name": "stdout",
     "output_type": "stream",
     "text": [
      "Answer: Get started with LangSmith | 🦜️🛠️ LangSmith\n",
      "\n",
      "Source URL: https://docs.smith.langchain.com/\n"
     ]
    }
   ],
   "source": []
  },
  {
   "cell_type": "markdown",
   "metadata": {},
   "source": [
    "# Trying to add recursivity"
   ]
  },
  {
   "cell_type": "code",
   "execution_count": null,
   "metadata": {},
   "outputs": [],
   "source": [
    "from bs4 import BeautifulSoup\n",
    "import requests\n",
    "import time\n",
    "\n",
    "def extract_links_recursively(url, visited=None, depth=2):\n",
    "    \"\"\"\n",
    "    Recursively extracts all hyperlinks from a given webpage and its subpages.\n",
    "    \n",
    "    Args:\n",
    "        url (str): The starting URL to scrape.\n",
    "        visited (set): A set to keep track of visited URLs.\n",
    "        depth (int): How deep to follow links (default = 2).\n",
    "    \n",
    "    Returns:\n",
    "        list: A list of unique URLs found on the site.\n",
    "    \"\"\"\n",
    "    if visited is None:\n",
    "        visited = set()\n",
    "    \n",
    "    # Stop recursion if max depth is reached\n",
    "    if depth == 0:\n",
    "        return visited\n",
    "\n",
    "    try:\n",
    "        response = requests.get(url, timeout=5)\n",
    "        soup = BeautifulSoup(response.text, \"html.parser\")\n",
    "\n",
    "        for link in soup.find_all(\"a\", href=True):\n",
    "            href = link[\"href\"]\n",
    "\n",
    "            # Convert relative links to absolute\n",
    "            if href.startswith(\"/\"):\n",
    "                href = url.rstrip(\"/\") + href\n",
    "            \n",
    "            # If it's a valid link and not visited, add to the set\n",
    "            if href.startswith(\"http\") and href not in visited:\n",
    "                visited.add(href)\n",
    "                print(f\"Found: {href}\")  # Debugging output\n",
    "                \n",
    "                # Recursively extract links from this new page\n",
    "                time.sleep(1)  # Avoid overloading the server\n",
    "                extract_links_recursively(href, visited, depth - 1)\n",
    "\n",
    "    except requests.RequestException as e:\n",
    "        print(f\"Skipping {url} due to an error: {e}\")\n",
    "\n",
    "    return visited\n",
    "\n",
    "# Start crawling from the base URL with recursion (depth 2)\n",
    "base_url = \"https://docs.smith.langchain.com/\"\n",
    "all_links = extract_links_recursively(base_url, depth=2)\n",
    "\n",
    "print(f\"\\nTotal Links Found: {len(all_links)}\")\n"
   ]
  },
  {
   "cell_type": "code",
   "execution_count": null,
   "metadata": {},
   "outputs": [],
   "source": []
  },
  {
   "cell_type": "markdown",
   "metadata": {},
   "source": [
    "# Get the URL's from the metada"
   ]
  },
  {
   "cell_type": "code",
   "execution_count": null,
   "metadata": {},
   "outputs": [],
   "source": [
    "from langchain_community.document_loaders import WebBaseLoader\n",
    "from langchain_community.vectorstores import FAISS\n",
    "from langchain_openai import OpenAIEmbeddings\n",
    "from langchain_text_splitters import RecursiveCharacterTextSplitter\n",
    "\n",
    "# Load the webpage using WebBaseLoader\n",
    "url = \"https://docs.smith.langchain.com/\"\n",
    "loader = WebBaseLoader(url)\n",
    "docs = loader.load()\n",
    "\n",
    "# Store source URL in metadata\n",
    "for doc in docs:\n",
    "    doc.metadata[\"source_url\"] = url\n",
    "\n",
    "# Split documents into chunks\n",
    "splitter = RecursiveCharacterTextSplitter(chunk_size=1000, chunk_overlap=200)\n",
    "documents = splitter.split_documents(docs)\n",
    "\n",
    "# Store in FAISS vector database\n",
    "vectordb = FAISS.from_documents(documents, OpenAIEmbeddings())\n",
    "retriever = vectordb.as_retriever()\n",
    "\n",
    "# Custom function to retrieve answer + source URL\n",
    "def retrieve_answer_with_source(query):\n",
    "    results = retriever.get_relevant_documents(query)\n",
    "    \n",
    "    if not results:\n",
    "        return \"Not found within the document's scope. Do you want me to look it up within my general knowledge?\"\n",
    "    \n",
    "    response = f\"Answer: {results[0].page_content}\\n\\nSource URL: {results[0].metadata['source_url']}\"\n",
    "    return response\n",
    "\n",
    "# Test the retrieval function\n",
    "query = \"What is LangSmith?\"\n",
    "print(retrieve_answer_with_source(query))\n"
   ]
  },
  {
   "cell_type": "code",
   "execution_count": null,
   "metadata": {},
   "outputs": [],
   "source": []
  },
  {
   "cell_type": "code",
   "execution_count": null,
   "metadata": {},
   "outputs": [],
   "source": []
  },
  {
   "cell_type": "code",
   "execution_count": null,
   "metadata": {},
   "outputs": [],
   "source": []
  },
  {
   "cell_type": "code",
   "execution_count": null,
   "metadata": {},
   "outputs": [],
   "source": []
  },
  {
   "cell_type": "code",
   "execution_count": null,
   "metadata": {},
   "outputs": [],
   "source": []
  },
  {
   "cell_type": "code",
   "execution_count": null,
   "metadata": {},
   "outputs": [],
   "source": []
  },
  {
   "cell_type": "code",
   "execution_count": null,
   "metadata": {},
   "outputs": [],
   "source": []
  }
 ],
 "metadata": {
  "kernelspec": {
   "display_name": "Python 3",
   "language": "python",
   "name": "python3"
  },
  "language_info": {
   "codemirror_mode": {
    "name": "ipython",
    "version": 3
   },
   "file_extension": ".py",
   "mimetype": "text/x-python",
   "name": "python",
   "nbconvert_exporter": "python",
   "pygments_lexer": "ipython3",
   "version": "3.12.0"
  }
 },
 "nbformat": 4,
 "nbformat_minor": 2
}
