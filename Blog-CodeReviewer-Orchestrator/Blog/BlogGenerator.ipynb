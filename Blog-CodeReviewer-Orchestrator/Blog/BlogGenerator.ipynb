{
 "cells": [
  {
   "cell_type": "markdown",
   "metadata": {},
   "source": [
    "## Defining the Model to use"
   ]
  },
  {
   "cell_type": "code",
   "execution_count": 1,
   "metadata": {},
   "outputs": [],
   "source": [
    "import os\n",
    "import json\n",
    "from dotenv import load_dotenv\n",
    "load_dotenv() ## aloading all the environment variable\n",
    "\n",
    "os.environ[\"LANGCHAIN_TRACING_V2\"] = \"true\"\n",
    "os.environ[\"LANGCHAIN_API_KEY\"] = os.getenv(\"LANGCHAIN_API_KEY\")\n",
    "os.environ[\"LANGCHAIN_PROJECT\"] = \"langgraph-Blog-Generator\"\n",
    "\n",
    "# os.environ[\"GROQ_API_KEY\"]=os.getenv(\"GROQ_API_KEY\")\n",
    "os.environ[\"OPENAI_API_KEY\"]=os.getenv(\"OPENAI_API_KEY\")\n",
    "\n",
    "from langchain_openai import ChatOpenAI\n",
    "from langchain_groq import ChatGroq\n",
    "from langsmith import traceable\n",
    "\n",
    "llm = ChatOpenAI(model=\"gpt-4o-mini\",temperature=0)\n",
    "# llm=ChatGroq(model=\"qwen-2.5-32b\")"
   ]
  },
  {
   "cell_type": "markdown",
   "metadata": {},
   "source": [
    "## Defining the tools"
   ]
  },
  {
   "cell_type": "markdown",
   "metadata": {},
   "source": [
    "#### Arxiv"
   ]
  },
  {
   "cell_type": "code",
   "execution_count": 2,
   "metadata": {},
   "outputs": [],
   "source": [
    "from langchain_community.utilities import WikipediaAPIWrapper, ArxivAPIWrapper\n",
    "\n",
    "listed_articles = [] # global variables. This should be saved into a vector database\n",
    "\n",
    "@traceable\n",
    "def arxiv_search(query):\n",
    "    \"\"\"\n",
    "        Search for the top 2 results according to the user query using ArxivAPIWrapper.\n",
    "        The information returned is a list with the top 2 related articles with at least the following information:\n",
    "        Title\n",
    "        Published\n",
    "        Authors\n",
    "        Summary\n",
    "        PDF_url\n",
    "    \"\"\"\n",
    "\n",
    "    # Using qwen-2.5-32b limits to 6000 per minute so I set doc_content_chars_max = 5900\n",
    "    arxiv = ArxivAPIWrapper(\n",
    "        top_k_results = 2,\n",
    "        ARXIV_MAX_QUERY_LENGTH = 300,\n",
    "        load_all_available_meta = True,\n",
    "        doc_content_chars_max = 500\n",
    "    )\n",
    "\n",
    "    # Run Query and Get Results\n",
    "    # query = \"GAN's\"\n",
    "    results = arxiv.load(query)\n",
    "\n",
    "    for article in results:\n",
    "        listed_articles.append(article.metadata.get('Title', 'N/A'))\n",
    "        print(f\"Title: {article.metadata.get('Title', 'N/A')}\")\n",
    "        print(f\"Published: {article.metadata.get('Published', 'N/A')}\")\n",
    "        print(f\"Authors: {article.metadata.get('Authors', 'N/A')}\\n\")\n",
    "        print(f\"Summary: {article.metadata.get('Summary', 'N/A')[:250]}\\n\")\n",
    "        print(f\"PDF url: {article.metadata.get('entry_id', 'N/A')}\\n\")\n",
    "    return results\n"
   ]
  },
  {
   "cell_type": "markdown",
   "metadata": {},
   "source": [
    "#### Wikipedia"
   ]
  },
  {
   "cell_type": "code",
   "execution_count": 3,
   "metadata": {},
   "outputs": [],
   "source": [
    "from langchain_community.tools import WikipediaQueryRun, ArxivQueryRun\n",
    "\n",
    "api_wrapper_wiki=WikipediaAPIWrapper(top_k_results=1,doc_content_chars_max=250)\n",
    "wiki=WikipediaQueryRun(api_wrapper=api_wrapper_wiki)"
   ]
  },
  {
   "cell_type": "markdown",
   "metadata": {},
   "source": [
    "## Binding the tools"
   ]
  },
  {
   "cell_type": "code",
   "execution_count": 4,
   "metadata": {},
   "outputs": [],
   "source": [
    "tools=[wiki,arxiv_search]\n",
    "\n",
    "llm_with_tools=llm.bind_tools(tools,parallel_tool_calls=True)"
   ]
  },
  {
   "cell_type": "markdown",
   "metadata": {},
   "source": [
    "## Define the Initial State"
   ]
  },
  {
   "cell_type": "code",
   "execution_count": 5,
   "metadata": {},
   "outputs": [],
   "source": [
    "from typing_extensions import TypedDict\n",
    "from typing import Annotated\n",
    "from langchain_core.messages import AnyMessage, HumanMessage, SystemMessage\n",
    "from langgraph.graph.message import add_messages\n",
    "from langgraph.graph import MessagesState"
   ]
  },
  {
   "cell_type": "code",
   "execution_count": 6,
   "metadata": {},
   "outputs": [],
   "source": [
    "# System message\n",
    "sys_msg = SystemMessage(content=\n",
    "                        \"\"\"You are a helpful assistant tasked with creating a blog.\n",
    "                        Your first commitment is:\n",
    "                        1. Use the arxiv tool to search for the top 2 articles related to the user's question.\n",
    "\n",
    "                        2. Give the user the option to use wikipedia in case they want to research a term in the summaries.\n",
    "\n",
    "                        3. Wait for user's feedback\n",
    "\n",
    "                        4. If rejected try again from point 1.\n",
    "\n",
    "                        5. If accepted create a blog with the articles information.\n",
    "                     \n",
    "                        \"\"\")                      \n",
    "\n",
    "\n",
    "def assistant(state:MessagesState):\n",
    "    return {\"messages\":[llm_with_tools.invoke([sys_msg] + state[\"messages\"])]}"
   ]
  },
  {
   "cell_type": "markdown",
   "metadata": {},
   "source": [
    "## Defining the graph"
   ]
  },
  {
   "cell_type": "markdown",
   "metadata": {},
   "source": [
    "#### First I define a node that will be helpful for the human feedback"
   ]
  },
  {
   "cell_type": "code",
   "execution_count": 7,
   "metadata": {},
   "outputs": [],
   "source": [
    "# def create_blog_entry(state: MessagesState):\n",
    "#     \"\"\"Indicates what arxiv articles should be selected to create a post.\"\"\"\n",
    "\n",
    "#     # Simulating user input (In real use, take input dynamically)\n",
    "#     user_input = \"Create a blog post about the second article\"\n",
    "\n",
    "#     # Append user input to state\n",
    "#     new_message = HumanMessage(content=user_input)\n",
    "\n",
    "#     # Return the updated state with all messages\n",
    "#     return {\"messages\": state[\"messages\"] + [new_message]}"
   ]
  },
  {
   "cell_type": "code",
   "execution_count": 8,
   "metadata": {},
   "outputs": [],
   "source": [
    "def create_blog_entry(state: MessagesState):\n",
    "    \"\"\"This function is called when the user has accepted the blog post creation.\n",
    "    It will be created manually durin execution\"\"\"\n",
    "    pass"
   ]
  },
  {
   "cell_type": "code",
   "execution_count": 9,
   "metadata": {},
   "outputs": [],
   "source": [
    "from langgraph.graph import START, StateGraph, END\n",
    "\n",
    "@traceable\n",
    "def human_feedback(state: MessagesState):\n",
    "    \"\"\" Return the next node to execute \"\"\"\n",
    "    \n",
    "    user_input = state[\"messages\"][-1].content.lower()\n",
    "    if \"yes\" in user_input:\n",
    "        return \"tools\"\n",
    "    elif \"no\" in user_input or \"end\" in user_input:\n",
    "        return create_blog_entry \n",
    "    return create_blog_entry\n"
   ]
  },
  {
   "cell_type": "code",
   "execution_count": 10,
   "metadata": {},
   "outputs": [],
   "source": [
    "@traceable\n",
    "def custom_condition(state: MessagesState):\n",
    "    \"\"\" Manually decide whether to go to tools or end. \"\"\"\n",
    "    decision = human_feedback(state)  # Use the updated function\n",
    "\n",
    "    if decision == \"tools\":\n",
    "        return \"tools\"\n",
    "    return \"create_blog_entry\"  "
   ]
  },
  {
   "cell_type": "markdown",
   "metadata": {},
   "source": [
    "#### Then I define the graph"
   ]
  },
  {
   "cell_type": "code",
   "execution_count": 11,
   "metadata": {},
   "outputs": [
    {
     "data": {
      "image/png": "[encoded data removed]",
      "text/plain": [
       "<IPython.core.display.Image object>"
      ]
     },
     "metadata": {},
     "output_type": "display_data"
    }
   ],
   "source": [
    "from langgraph.checkpoint.memory import MemorySaver\n",
    "from langgraph.graph import START, StateGraph, END\n",
    "from langgraph.prebuilt import tools_condition, ToolNode\n",
    "from IPython.display import Image, display\n",
    "\n",
    "builder = StateGraph(MessagesState)\n",
    "\n",
    "## Define the node\n",
    "builder.add_node(\"assistant\",assistant)\n",
    "builder.add_node(\"human_feedback\",human_feedback)\n",
    "builder.add_node(\"tools\",ToolNode(tools))\n",
    "builder.add_node(\"create_blog_entry\",create_blog_entry)\n",
    "# Define edges\n",
    "builder.add_edge(START,\"assistant\")\n",
    "builder.add_edge(\"assistant\",\"tools\")\n",
    "builder.add_edge(\"tools\",\"human_feedback\")\n",
    "builder.add_conditional_edges(\n",
    "    \"human_feedback\", custom_condition, {\"tools\": \"tools\", \"create_blog_entry\": \"create_blog_entry\"}\n",
    ")\n",
    "builder.add_edge(\"create_blog_entry\",END)   \n",
    "\n",
    "# Set up memory\n",
    "memory = MemorySaver()\n",
    "# Compile the graph with memory\n",
    "scienceBlogCreator = builder.compile(interrupt_before=[\"human_feedback\"],checkpointer=memory)\n",
    "\n",
    "# Show\n",
    "display(Image(scienceBlogCreator.get_graph().draw_mermaid_png()))"
   ]
  },
  {
   "cell_type": "markdown",
   "metadata": {},
   "source": [
    "## Using the Agent\n",
    "\n",
    "#### First call to use the Arxiv tool"
   ]
  },
  {
   "cell_type": "markdown",
   "metadata": {},
   "source": [
    "#### Invoking the llm"
   ]
  },
  {
   "cell_type": "code",
   "execution_count": 12,
   "metadata": {},
   "outputs": [
    {
     "name": "stdout",
     "output_type": "stream",
     "text": [
      "================================\u001b[1m Human Message \u001b[0m=================================\n",
      "\n",
      "GANs\n",
      "==================================\u001b[1m Ai Message \u001b[0m==================================\n",
      "Tool Calls:\n",
      "  arxiv_search (call_lQCI1yJ2qxRi5N9e18mv1qMl)\n",
      " Call ID: call_lQCI1yJ2qxRi5N9e18mv1qMl\n",
      "  Args:\n",
      "    query: GANs\n",
      "Title: Generative Adversarial Networks and Adversarial Autoencoders: Tutorial and Survey\n",
      "Published: 2021-11-26\n",
      "Authors: Benyamin Ghojogh, Ali Ghodsi, Fakhri Karray, Mark Crowley\n",
      "\n",
      "Summary: This is a tutorial and survey paper on Generative Adversarial Network (GAN),\n",
      "adversarial autoencoders, and their variants. We start with explaining\n",
      "adversarial learning and the vanilla GAN. Then, we explain the conditional GAN\n",
      "and DCGAN. The mode col\n",
      "\n",
      "PDF url: http://arxiv.org/abs/2111.13282v1\n",
      "\n",
      "Title: GAN You Do the GAN GAN?\n",
      "Published: 2019-04-01\n",
      "Authors: Joseph Suarez\n",
      "\n",
      "Summary: Generative Adversarial Networks (GANs) have become a dominant class of\n",
      "generative models. In recent years, GAN variants have yielded especially\n",
      "impressive results in the synthesis of a variety of forms of data. Examples\n",
      "include compelling natural and\n",
      "\n",
      "PDF url: http://arxiv.org/abs/1904.00724v1\n",
      "\n",
      "=================================\u001b[1m Tool Message \u001b[0m=================================\n",
      "Name: arxiv_search\n",
      "\n",
      "[Document(metadata={'Published': '2021-11-26', 'Title': 'Generative Adversarial Networks and Adversarial Autoencoders: Tutorial and Survey', 'Authors': 'Benyamin Ghojogh, Ali Ghodsi, Fakhri Karray, Mark Crowley', 'Summary': 'This is a tutorial and survey paper on Generative Adversarial Network (GAN),\\nadversarial autoencoders, and their variants. We start with explaining\\nadversarial learning and the vanilla GAN. Then, we explain the conditional GAN\\nand DCGAN. The mode collapse problem is introduced and various methods,\\nincluding minibatch GAN, unrolled GAN, BourGAN, mixture GAN, D2GAN, and\\nWasserstein GAN, are introduced for resolving this problem. Then, maximum\\nlikelihood estimation in GAN are explained along with f-GAN, adversarial\\nvariational Bayes, and Bayesian GAN. Then, we cover feature matching in GAN,\\nInfoGAN, GRAN, LSGAN, energy-based GAN, CatGAN, MMD GAN, LapGAN, progressive\\nGAN, triple GAN, LAG, GMAN, AdaGAN, CoGAN, inverse GAN, BiGAN, ALI, SAGAN,\\nFew-shot GAN, SinGAN, and interpolation and evaluation of GAN. Then, we\\nintroduce some applications of GAN such as image-to-image translation\\n(including PatchGAN, CycleGAN, DeepFaceDrawing, simulated GAN, interactive\\nGAN), text-to-image translation (including StackGAN), and mixing image\\ncharacteristics (including FineGAN and MixNMatch). Finally, we explain the\\nautoencoders based on adversarial learning including adversarial autoencoder,\\nPixelGAN, and implicit autoencoder.', 'entry_id': 'http://arxiv.org/abs/2111.13282v1', 'published_first_time': '2021-11-26', 'comment': 'To appear as a part of an upcoming textbook on dimensionality\\n  reduction and manifold learning', 'journal_ref': None, 'doi': None, 'primary_category': 'cs.LG', 'categories': ['cs.LG', 'cs.CV', 'eess.IV', 'stat.ML'], 'links': ['http://arxiv.org/abs/2111.13282v1', 'http://arxiv.org/pdf/2111.13282v1']}, page_content='To appear as a part of an upcoming textbook on dimensionality reduction and manifold learning.\\nGenerative Adversarial Networks and Adversarial Autoencoders:\\nTutorial and Survey\\nBenyamin Ghojogh\\nBGHOJOGH@UWATERLOO.CA\\nDepartment of Electrical and Computer Engineering,\\nMachine Learning Laboratory, University of Waterloo, Waterloo, ON, Canada\\nAli Ghodsi\\nALI.GHODSI@UWATERLOO.CA\\nDepartment of Statistics and Actuarial Science & David R. Cheriton School of Computer Science,\\nData Analytics Laboratory, Un'), Document(metadata={'Published': '2019-04-01', 'Title': 'GAN You Do the GAN GAN?', 'Authors': 'Joseph Suarez', 'Summary': \"Generative Adversarial Networks (GANs) have become a dominant class of\\ngenerative models. In recent years, GAN variants have yielded especially\\nimpressive results in the synthesis of a variety of forms of data. Examples\\ninclude compelling natural and artistic images, textures, musical sequences,\\nand 3D object files. However, one obvious synthesis candidate is missing. In\\nthis work, we answer one of deep learning's most pressing questions: GAN you do\\nthe GAN GAN? That is, is it possible to train a GAN to model a distribution of\\nGANs? We release the full source code for this project under the MIT license.\", 'entry_id': 'http://arxiv.org/abs/1904.00724v1', 'published_first_time': '2019-04-01', 'comment': '3 pages', 'journal_ref': None, 'doi': None, 'primary_category': 'cs.CV', 'categories': ['cs.CV', 'cs.LG'], 'links': ['http://arxiv.org/abs/1904.00724v1', 'http://arxiv.org/pdf/1904.00724v1']}, page_content='GAN You Do the GAN GAN?\\nJoseph Suarez\\nAbstract\\nGenerative Adversarial Networks (GANs) have\\nbecome a dominant class of generative models.\\nIn recent years, GAN variants have yielded es-\\npecially impressive results in the synthesis of a\\nvariety of forms of data. Examples include com-\\npelling natural and artistic images, textures, mu-\\nsical sequences, and 3D object ﬁles. However,\\none obvious synthesis candidate is missing. In\\nthis work, we answer one of deep learning’s most\\npressing questions: GAN y')]\n"
     ]
    }
   ],
   "source": [
    "# Input\n",
    "# user_input=input(\"What do you want to research about?\")\n",
    "user_input=\"GANs\"\n",
    "messages = {\"messages\": HumanMessage(content=user_input)}\n",
    "\n",
    "thread={\"configurable\":{\"thread_id\":\"arxiv_call_1\"}}\n",
    "\n",
    "for event in scienceBlogCreator.stream(messages,thread,stream_mode=\"values\"):\n",
    "    event['messages'][-1].pretty_print()\n"
   ]
  },
  {
   "cell_type": "code",
   "execution_count": 13,
   "metadata": {},
   "outputs": [
    {
     "name": "stdout",
     "output_type": "stream",
     "text": [
      "================================\u001b[1m Human Message \u001b[0m=================================\n",
      "\n",
      "GANs\n",
      "==================================\u001b[1m Ai Message \u001b[0m==================================\n",
      "Tool Calls:\n",
      "  arxiv_search (call_lQCI1yJ2qxRi5N9e18mv1qMl)\n",
      " Call ID: call_lQCI1yJ2qxRi5N9e18mv1qMl\n",
      "  Args:\n",
      "    query: GANs\n",
      "=================================\u001b[1m Tool Message \u001b[0m=================================\n",
      "Name: arxiv_search\n",
      "\n",
      "[Document(metadata={'Published': '2021-11-26', 'Title': 'Generative Adversarial Networks and Adversarial Autoencoders: Tutorial and Survey', 'Authors': 'Benyamin Ghojogh, Ali Ghodsi, Fakhri Karray, Mark Crowley', 'Summary': 'This is a tutorial and survey paper on Generative Adversarial Network (GAN),\\nadversarial autoencoders, and their variants. We start with explaining\\nadversarial learning and the vanilla GAN. Then, we explain the conditional GAN\\nand DCGAN. The mode collapse problem is introduced and various methods,\\nincluding minibatch GAN, unrolled GAN, BourGAN, mixture GAN, D2GAN, and\\nWasserstein GAN, are introduced for resolving this problem. Then, maximum\\nlikelihood estimation in GAN are explained along with f-GAN, adversarial\\nvariational Bayes, and Bayesian GAN. Then, we cover feature matching in GAN,\\nInfoGAN, GRAN, LSGAN, energy-based GAN, CatGAN, MMD GAN, LapGAN, progressive\\nGAN, triple GAN, LAG, GMAN, AdaGAN, CoGAN, inverse GAN, BiGAN, ALI, SAGAN,\\nFew-shot GAN, SinGAN, and interpolation and evaluation of GAN. Then, we\\nintroduce some applications of GAN such as image-to-image translation\\n(including PatchGAN, CycleGAN, DeepFaceDrawing, simulated GAN, interactive\\nGAN), text-to-image translation (including StackGAN), and mixing image\\ncharacteristics (including FineGAN and MixNMatch). Finally, we explain the\\nautoencoders based on adversarial learning including adversarial autoencoder,\\nPixelGAN, and implicit autoencoder.', 'entry_id': 'http://arxiv.org/abs/2111.13282v1', 'published_first_time': '2021-11-26', 'comment': 'To appear as a part of an upcoming textbook on dimensionality\\n  reduction and manifold learning', 'journal_ref': None, 'doi': None, 'primary_category': 'cs.LG', 'categories': ['cs.LG', 'cs.CV', 'eess.IV', 'stat.ML'], 'links': ['http://arxiv.org/abs/2111.13282v1', 'http://arxiv.org/pdf/2111.13282v1']}, page_content='To appear as a part of an upcoming textbook on dimensionality reduction and manifold learning.\\nGenerative Adversarial Networks and Adversarial Autoencoders:\\nTutorial and Survey\\nBenyamin Ghojogh\\nBGHOJOGH@UWATERLOO.CA\\nDepartment of Electrical and Computer Engineering,\\nMachine Learning Laboratory, University of Waterloo, Waterloo, ON, Canada\\nAli Ghodsi\\nALI.GHODSI@UWATERLOO.CA\\nDepartment of Statistics and Actuarial Science & David R. Cheriton School of Computer Science,\\nData Analytics Laboratory, Un'), Document(metadata={'Published': '2019-04-01', 'Title': 'GAN You Do the GAN GAN?', 'Authors': 'Joseph Suarez', 'Summary': \"Generative Adversarial Networks (GANs) have become a dominant class of\\ngenerative models. In recent years, GAN variants have yielded especially\\nimpressive results in the synthesis of a variety of forms of data. Examples\\ninclude compelling natural and artistic images, textures, musical sequences,\\nand 3D object files. However, one obvious synthesis candidate is missing. In\\nthis work, we answer one of deep learning's most pressing questions: GAN you do\\nthe GAN GAN? That is, is it possible to train a GAN to model a distribution of\\nGANs? We release the full source code for this project under the MIT license.\", 'entry_id': 'http://arxiv.org/abs/1904.00724v1', 'published_first_time': '2019-04-01', 'comment': '3 pages', 'journal_ref': None, 'doi': None, 'primary_category': 'cs.CV', 'categories': ['cs.CV', 'cs.LG'], 'links': ['http://arxiv.org/abs/1904.00724v1', 'http://arxiv.org/pdf/1904.00724v1']}, page_content='GAN You Do the GAN GAN?\\nJoseph Suarez\\nAbstract\\nGenerative Adversarial Networks (GANs) have\\nbecome a dominant class of generative models.\\nIn recent years, GAN variants have yielded es-\\npecially impressive results in the synthesis of a\\nvariety of forms of data. Examples include com-\\npelling natural and artistic images, textures, mu-\\nsical sequences, and 3D object ﬁles. However,\\none obvious synthesis candidate is missing. In\\nthis work, we answer one of deep learning’s most\\npressing questions: GAN y')]\n"
     ]
    }
   ],
   "source": [
    "new_state = scienceBlogCreator.get_state(thread).values\n",
    "for m in new_state['messages']:\n",
    "    m.pretty_print()"
   ]
  },
  {
   "cell_type": "code",
   "execution_count": 14,
   "metadata": {},
   "outputs": [
    {
     "data": {
      "text/plain": [
       "('human_feedback',)"
      ]
     },
     "execution_count": 14,
     "metadata": {},
     "output_type": "execute_result"
    }
   ],
   "source": [
    "scienceBlogCreator.get_state(thread).next"
   ]
  },
  {
   "cell_type": "code",
   "execution_count": 15,
   "metadata": {},
   "outputs": [
    {
     "data": {
      "text/plain": [
       "(PregelTask(id='ce729d1e-4b0d-1116-8283-9a9f265580bf', name='human_feedback', path=('__pregel_pull', 'human_feedback'), error=None, interrupts=(), state=None, result=None),)"
      ]
     },
     "execution_count": 15,
     "metadata": {},
     "output_type": "execute_result"
    }
   ],
   "source": [
    "scienceBlogCreator.get_state(thread).tasks"
   ]
  },
  {
   "cell_type": "markdown",
   "metadata": {},
   "source": [
    "## Human Feedback"
   ]
  },
  {
   "cell_type": "markdown",
   "metadata": {},
   "source": [
    "#### Update the state asking to the user if they want to research a topic in wikipedia"
   ]
  },
  {
   "cell_type": "code",
   "execution_count": 16,
   "metadata": {},
   "outputs": [
    {
     "name": "stdout",
     "output_type": "stream",
     "text": [
      "================================\u001b[1m Human Message \u001b[0m=================================\n",
      "\n",
      "yes, research what is a network in machine learning using wikipedia\n",
      "==================================\u001b[1m Ai Message \u001b[0m==================================\n",
      "Tool Calls:\n",
      "  wikipedia (call_0iiVLvMuy0JmZCNyaHkMtOCr)\n",
      " Call ID: call_0iiVLvMuy0JmZCNyaHkMtOCr\n",
      "  Args:\n",
      "    query: network in machine learning\n",
      "=================================\u001b[1m Tool Message \u001b[0m=================================\n",
      "Name: wikipedia\n",
      "\n",
      "Page: Machine learning\n",
      "Summary: Machine learning (ML) is a field of study in artificial intelligence concerned with the development and study of statistical algorithms that can learn from data and generalize to unseen data, and thus perform tasks wit\n"
     ]
    }
   ],
   "source": [
    "# user_input=input(\"Do you want to clarify any term by using Wikipedia?\")\n",
    "user_input=\"yes, research what is a network in machine learning using wikipedia\"\n",
    "scienceBlogCreator.update_state(\n",
    "    thread,\n",
    "    {\"messages\": [\n",
    "        SystemMessage(content=\"\"\"Based on the next user answer, decide if you should return to the tools \n",
    "                      node to make a wikipedia search or if you should proceed to create  the blog entry.\"\"\"),\n",
    "        HumanMessage(content=user_input)\n",
    "    ]},\n",
    "    #  as_node=\"human_feedback\"\n",
    ")\n",
    "\n",
    "for event in scienceBlogCreator.stream(messages,thread,stream_mode=\"values\"):\n",
    "    event['messages'][-1].pretty_print()"
   ]
  },
  {
   "cell_type": "code",
   "execution_count": 17,
   "metadata": {},
   "outputs": [
    {
     "name": "stdout",
     "output_type": "stream",
     "text": [
      "================================\u001b[1m Human Message \u001b[0m=================================\n",
      "\n",
      "GANs\n",
      "==================================\u001b[1m Ai Message \u001b[0m==================================\n",
      "Tool Calls:\n",
      "  arxiv_search (call_lQCI1yJ2qxRi5N9e18mv1qMl)\n",
      " Call ID: call_lQCI1yJ2qxRi5N9e18mv1qMl\n",
      "  Args:\n",
      "    query: GANs\n",
      "=================================\u001b[1m Tool Message \u001b[0m=================================\n",
      "Name: arxiv_search\n",
      "\n",
      "[Document(metadata={'Published': '2021-11-26', 'Title': 'Generative Adversarial Networks and Adversarial Autoencoders: Tutorial and Survey', 'Authors': 'Benyamin Ghojogh, Ali Ghodsi, Fakhri Karray, Mark Crowley', 'Summary': 'This is a tutorial and survey paper on Generative Adversarial Network (GAN),\\nadversarial autoencoders, and their variants. We start with explaining\\nadversarial learning and the vanilla GAN. Then, we explain the conditional GAN\\nand DCGAN. The mode collapse problem is introduced and various methods,\\nincluding minibatch GAN, unrolled GAN, BourGAN, mixture GAN, D2GAN, and\\nWasserstein GAN, are introduced for resolving this problem. Then, maximum\\nlikelihood estimation in GAN are explained along with f-GAN, adversarial\\nvariational Bayes, and Bayesian GAN. Then, we cover feature matching in GAN,\\nInfoGAN, GRAN, LSGAN, energy-based GAN, CatGAN, MMD GAN, LapGAN, progressive\\nGAN, triple GAN, LAG, GMAN, AdaGAN, CoGAN, inverse GAN, BiGAN, ALI, SAGAN,\\nFew-shot GAN, SinGAN, and interpolation and evaluation of GAN. Then, we\\nintroduce some applications of GAN such as image-to-image translation\\n(including PatchGAN, CycleGAN, DeepFaceDrawing, simulated GAN, interactive\\nGAN), text-to-image translation (including StackGAN), and mixing image\\ncharacteristics (including FineGAN and MixNMatch). Finally, we explain the\\nautoencoders based on adversarial learning including adversarial autoencoder,\\nPixelGAN, and implicit autoencoder.', 'entry_id': 'http://arxiv.org/abs/2111.13282v1', 'published_first_time': '2021-11-26', 'comment': 'To appear as a part of an upcoming textbook on dimensionality\\n  reduction and manifold learning', 'journal_ref': None, 'doi': None, 'primary_category': 'cs.LG', 'categories': ['cs.LG', 'cs.CV', 'eess.IV', 'stat.ML'], 'links': ['http://arxiv.org/abs/2111.13282v1', 'http://arxiv.org/pdf/2111.13282v1']}, page_content='To appear as a part of an upcoming textbook on dimensionality reduction and manifold learning.\\nGenerative Adversarial Networks and Adversarial Autoencoders:\\nTutorial and Survey\\nBenyamin Ghojogh\\nBGHOJOGH@UWATERLOO.CA\\nDepartment of Electrical and Computer Engineering,\\nMachine Learning Laboratory, University of Waterloo, Waterloo, ON, Canada\\nAli Ghodsi\\nALI.GHODSI@UWATERLOO.CA\\nDepartment of Statistics and Actuarial Science & David R. Cheriton School of Computer Science,\\nData Analytics Laboratory, Un'), Document(metadata={'Published': '2019-04-01', 'Title': 'GAN You Do the GAN GAN?', 'Authors': 'Joseph Suarez', 'Summary': \"Generative Adversarial Networks (GANs) have become a dominant class of\\ngenerative models. In recent years, GAN variants have yielded especially\\nimpressive results in the synthesis of a variety of forms of data. Examples\\ninclude compelling natural and artistic images, textures, musical sequences,\\nand 3D object files. However, one obvious synthesis candidate is missing. In\\nthis work, we answer one of deep learning's most pressing questions: GAN you do\\nthe GAN GAN? That is, is it possible to train a GAN to model a distribution of\\nGANs? We release the full source code for this project under the MIT license.\", 'entry_id': 'http://arxiv.org/abs/1904.00724v1', 'published_first_time': '2019-04-01', 'comment': '3 pages', 'journal_ref': None, 'doi': None, 'primary_category': 'cs.CV', 'categories': ['cs.CV', 'cs.LG'], 'links': ['http://arxiv.org/abs/1904.00724v1', 'http://arxiv.org/pdf/1904.00724v1']}, page_content='GAN You Do the GAN GAN?\\nJoseph Suarez\\nAbstract\\nGenerative Adversarial Networks (GANs) have\\nbecome a dominant class of generative models.\\nIn recent years, GAN variants have yielded es-\\npecially impressive results in the synthesis of a\\nvariety of forms of data. Examples include com-\\npelling natural and artistic images, textures, mu-\\nsical sequences, and 3D object ﬁles. However,\\none obvious synthesis candidate is missing. In\\nthis work, we answer one of deep learning’s most\\npressing questions: GAN y')]\n",
      "================================\u001b[1m System Message \u001b[0m================================\n",
      "\n",
      "Based on the next user answer, decide if you should return to the tools \n",
      "                      node to make a wikipedia search or if you should proceed to create  the blog entry.\n",
      "================================\u001b[1m Human Message \u001b[0m=================================\n",
      "\n",
      "yes, research what is a network in machine learning using wikipedia\n",
      "==================================\u001b[1m Ai Message \u001b[0m==================================\n",
      "Tool Calls:\n",
      "  wikipedia (call_0iiVLvMuy0JmZCNyaHkMtOCr)\n",
      " Call ID: call_0iiVLvMuy0JmZCNyaHkMtOCr\n",
      "  Args:\n",
      "    query: network in machine learning\n",
      "=================================\u001b[1m Tool Message \u001b[0m=================================\n",
      "Name: wikipedia\n",
      "\n",
      "Page: Machine learning\n",
      "Summary: Machine learning (ML) is a field of study in artificial intelligence concerned with the development and study of statistical algorithms that can learn from data and generalize to unseen data, and thus perform tasks wit\n"
     ]
    }
   ],
   "source": [
    "new_state = scienceBlogCreator.get_state(thread).values\n",
    "for m in new_state['messages']:\n",
    "    m.pretty_print()"
   ]
  },
  {
   "cell_type": "code",
   "execution_count": 18,
   "metadata": {},
   "outputs": [
    {
     "data": {
      "text/plain": [
       "('human_feedback',)"
      ]
     },
     "execution_count": 18,
     "metadata": {},
     "output_type": "execute_result"
    }
   ],
   "source": [
    "scienceBlogCreator.get_state(thread).next"
   ]
  },
  {
   "cell_type": "code",
   "execution_count": 19,
   "metadata": {},
   "outputs": [
    {
     "name": "stdout",
     "output_type": "stream",
     "text": [
      "================================\u001b[1m Human Message \u001b[0m=================================\n",
      "\n",
      "yes, research who created the adversarial architecture\n",
      "==================================\u001b[1m Ai Message \u001b[0m==================================\n",
      "Tool Calls:\n",
      "  wikipedia (call_9pQrYomP3MI7vaBMTfqjkbmz)\n",
      " Call ID: call_9pQrYomP3MI7vaBMTfqjkbmz\n",
      "  Args:\n",
      "    query: adversarial architecture\n",
      "=================================\u001b[1m Tool Message \u001b[0m=================================\n",
      "Name: wikipedia\n",
      "\n",
      "Page: Generative adversarial network\n",
      "Summary: A generative adversarial network (GAN) is a class of machine learning frameworks and a prominent framework for approaching generative artificial intelligence. The concept was initially developed by Ian Go\n"
     ]
    }
   ],
   "source": [
    "# Input\n",
    "# user_input=input(\"Do you want to research another term in wiki?\")\n",
    "user_input=\"yes, research who created the adversarial architecture\"\n",
    "scienceBlogCreator.update_state(\n",
    "    thread,\n",
    "    {\"messages\": [\n",
    "        SystemMessage(content=\"\"\"Based on the next user answer, decide if you should return to the tools \n",
    "                      node to make a wikipedia search or if you should proceed to create  the blog entry.\"\"\"),\n",
    "        # HumanMessage(content=f'{{\"arguments\": {{\"query\": \"{user_input}\"}}}}')\n",
    "        HumanMessage(content=user_input)\n",
    "    ]}\n",
    ")\n",
    "\n",
    "for event in scienceBlogCreator.stream(messages,thread,stream_mode=\"values\"):\n",
    "    event['messages'][-1].pretty_print()"
   ]
  },
  {
   "cell_type": "code",
   "execution_count": 20,
   "metadata": {},
   "outputs": [
    {
     "data": {
      "text/plain": [
       "('human_feedback',)"
      ]
     },
     "execution_count": 20,
     "metadata": {},
     "output_type": "execute_result"
    }
   ],
   "source": [
    "scienceBlogCreator.get_state(thread).next"
   ]
  },
  {
   "cell_type": "code",
   "execution_count": 21,
   "metadata": {},
   "outputs": [
    {
     "name": "stdout",
     "output_type": "stream",
     "text": [
      "================================\u001b[1m Human Message \u001b[0m=================================\n",
      "\n",
      "GANs\n",
      "==================================\u001b[1m Ai Message \u001b[0m==================================\n",
      "Tool Calls:\n",
      "  arxiv_search (call_lQCI1yJ2qxRi5N9e18mv1qMl)\n",
      " Call ID: call_lQCI1yJ2qxRi5N9e18mv1qMl\n",
      "  Args:\n",
      "    query: GANs\n",
      "=================================\u001b[1m Tool Message \u001b[0m=================================\n",
      "Name: arxiv_search\n",
      "\n",
      "[Document(metadata={'Published': '2021-11-26', 'Title': 'Generative Adversarial Networks and Adversarial Autoencoders: Tutorial and Survey', 'Authors': 'Benyamin Ghojogh, Ali Ghodsi, Fakhri Karray, Mark Crowley', 'Summary': 'This is a tutorial and survey paper on Generative Adversarial Network (GAN),\\nadversarial autoencoders, and their variants. We start with explaining\\nadversarial learning and the vanilla GAN. Then, we explain the conditional GAN\\nand DCGAN. The mode collapse problem is introduced and various methods,\\nincluding minibatch GAN, unrolled GAN, BourGAN, mixture GAN, D2GAN, and\\nWasserstein GAN, are introduced for resolving this problem. Then, maximum\\nlikelihood estimation in GAN are explained along with f-GAN, adversarial\\nvariational Bayes, and Bayesian GAN. Then, we cover feature matching in GAN,\\nInfoGAN, GRAN, LSGAN, energy-based GAN, CatGAN, MMD GAN, LapGAN, progressive\\nGAN, triple GAN, LAG, GMAN, AdaGAN, CoGAN, inverse GAN, BiGAN, ALI, SAGAN,\\nFew-shot GAN, SinGAN, and interpolation and evaluation of GAN. Then, we\\nintroduce some applications of GAN such as image-to-image translation\\n(including PatchGAN, CycleGAN, DeepFaceDrawing, simulated GAN, interactive\\nGAN), text-to-image translation (including StackGAN), and mixing image\\ncharacteristics (including FineGAN and MixNMatch). Finally, we explain the\\nautoencoders based on adversarial learning including adversarial autoencoder,\\nPixelGAN, and implicit autoencoder.', 'entry_id': 'http://arxiv.org/abs/2111.13282v1', 'published_first_time': '2021-11-26', 'comment': 'To appear as a part of an upcoming textbook on dimensionality\\n  reduction and manifold learning', 'journal_ref': None, 'doi': None, 'primary_category': 'cs.LG', 'categories': ['cs.LG', 'cs.CV', 'eess.IV', 'stat.ML'], 'links': ['http://arxiv.org/abs/2111.13282v1', 'http://arxiv.org/pdf/2111.13282v1']}, page_content='To appear as a part of an upcoming textbook on dimensionality reduction and manifold learning.\\nGenerative Adversarial Networks and Adversarial Autoencoders:\\nTutorial and Survey\\nBenyamin Ghojogh\\nBGHOJOGH@UWATERLOO.CA\\nDepartment of Electrical and Computer Engineering,\\nMachine Learning Laboratory, University of Waterloo, Waterloo, ON, Canada\\nAli Ghodsi\\nALI.GHODSI@UWATERLOO.CA\\nDepartment of Statistics and Actuarial Science & David R. Cheriton School of Computer Science,\\nData Analytics Laboratory, Un'), Document(metadata={'Published': '2019-04-01', 'Title': 'GAN You Do the GAN GAN?', 'Authors': 'Joseph Suarez', 'Summary': \"Generative Adversarial Networks (GANs) have become a dominant class of\\ngenerative models. In recent years, GAN variants have yielded especially\\nimpressive results in the synthesis of a variety of forms of data. Examples\\ninclude compelling natural and artistic images, textures, musical sequences,\\nand 3D object files. However, one obvious synthesis candidate is missing. In\\nthis work, we answer one of deep learning's most pressing questions: GAN you do\\nthe GAN GAN? That is, is it possible to train a GAN to model a distribution of\\nGANs? We release the full source code for this project under the MIT license.\", 'entry_id': 'http://arxiv.org/abs/1904.00724v1', 'published_first_time': '2019-04-01', 'comment': '3 pages', 'journal_ref': None, 'doi': None, 'primary_category': 'cs.CV', 'categories': ['cs.CV', 'cs.LG'], 'links': ['http://arxiv.org/abs/1904.00724v1', 'http://arxiv.org/pdf/1904.00724v1']}, page_content='GAN You Do the GAN GAN?\\nJoseph Suarez\\nAbstract\\nGenerative Adversarial Networks (GANs) have\\nbecome a dominant class of generative models.\\nIn recent years, GAN variants have yielded es-\\npecially impressive results in the synthesis of a\\nvariety of forms of data. Examples include com-\\npelling natural and artistic images, textures, mu-\\nsical sequences, and 3D object ﬁles. However,\\none obvious synthesis candidate is missing. In\\nthis work, we answer one of deep learning’s most\\npressing questions: GAN y')]\n",
      "================================\u001b[1m System Message \u001b[0m================================\n",
      "\n",
      "Based on the next user answer, decide if you should return to the tools \n",
      "                      node to make a wikipedia search or if you should proceed to create  the blog entry.\n",
      "================================\u001b[1m Human Message \u001b[0m=================================\n",
      "\n",
      "yes, research what is a network in machine learning using wikipedia\n",
      "==================================\u001b[1m Ai Message \u001b[0m==================================\n",
      "Tool Calls:\n",
      "  wikipedia (call_0iiVLvMuy0JmZCNyaHkMtOCr)\n",
      " Call ID: call_0iiVLvMuy0JmZCNyaHkMtOCr\n",
      "  Args:\n",
      "    query: network in machine learning\n",
      "=================================\u001b[1m Tool Message \u001b[0m=================================\n",
      "Name: wikipedia\n",
      "\n",
      "Page: Machine learning\n",
      "Summary: Machine learning (ML) is a field of study in artificial intelligence concerned with the development and study of statistical algorithms that can learn from data and generalize to unseen data, and thus perform tasks wit\n",
      "================================\u001b[1m System Message \u001b[0m================================\n",
      "\n",
      "Based on the next user answer, decide if you should return to the tools \n",
      "                      node to make a wikipedia search or if you should proceed to create  the blog entry.\n",
      "================================\u001b[1m Human Message \u001b[0m=================================\n",
      "\n",
      "yes, research who created the adversarial architecture\n",
      "==================================\u001b[1m Ai Message \u001b[0m==================================\n",
      "Tool Calls:\n",
      "  wikipedia (call_9pQrYomP3MI7vaBMTfqjkbmz)\n",
      " Call ID: call_9pQrYomP3MI7vaBMTfqjkbmz\n",
      "  Args:\n",
      "    query: adversarial architecture\n",
      "=================================\u001b[1m Tool Message \u001b[0m=================================\n",
      "Name: wikipedia\n",
      "\n",
      "Page: Generative adversarial network\n",
      "Summary: A generative adversarial network (GAN) is a class of machine learning frameworks and a prominent framework for approaching generative artificial intelligence. The concept was initially developed by Ian Go\n"
     ]
    }
   ],
   "source": [
    "new_state = scienceBlogCreator.get_state(thread).values\n",
    "for m in new_state['messages']:\n",
    "    m.pretty_print()"
   ]
  },
  {
   "cell_type": "code",
   "execution_count": 22,
   "metadata": {},
   "outputs": [
    {
     "name": "stdout",
     "output_type": "stream",
     "text": [
      "Decision: <function create_blog_entry at 0x00000230986619E0>\n"
     ]
    },
    {
     "data": {
      "text/plain": [
       "('human_feedback',)"
      ]
     },
     "execution_count": 22,
     "metadata": {},
     "output_type": "execute_result"
    }
   ],
   "source": [
    "# user_input=input(\"Do you want to research another term in wiki?\")\n",
    "user_input = \"No, I do not want to research another term in wiki\"\n",
    "\n",
    "scienceBlogCreator.update_state(\n",
    "    thread,\n",
    "    {\"messages\": [\n",
    "        SystemMessage(content=\"\"\"Based on the next user answer, decide if you should return to the tools \n",
    "                      node to make a wikipedia search or if you should proceed to create  the blog entry.\"\"\"),\n",
    "        # HumanMessage(content=f'{{\"arguments\": {{\"query\": \"{user_input}\"}}}}')\n",
    "        HumanMessage(content=user_input)\n",
    "    ]}\n",
    ")\n",
    "\n",
    "decision = human_feedback(scienceBlogCreator.get_state(thread).values)\n",
    "print(f\"Decision: {decision}\")\n",
    "\n",
    "scienceBlogCreator.get_state(thread).next\n",
    "# Stream execution\n",
    "# for event in scienceBlogCreator.stream(messages, thread, stream_mode=\"values\"):\n",
    "#     event['messages'][-1].pretty_print()"
   ]
  },
  {
   "cell_type": "markdown",
   "metadata": {},
   "source": [
    "## Creating the Blog entry"
   ]
  },
  {
   "cell_type": "code",
   "execution_count": 23,
   "metadata": {},
   "outputs": [
    {
     "name": "stdout",
     "output_type": "stream",
     "text": [
      "================================\u001b[1m System Message \u001b[0m================================\n",
      "\n",
      "The arxiv articles are ordered here: ['Generative Adversarial Networks and Adversarial Autoencoders: Tutorial and Survey', 'GAN You Do the GAN GAN?'].\n",
      "                          Pick the appropriate article in the list according to the number requested by the user\n",
      "                          here Create a blog post about the second article.\n",
      "                          For instance, if the user wants to create a blog post about the first article,\n",
      "                          then you should create a blog post about Generative Adversarial Networks and Adversarial Autoencoders: Tutorial and Survey.\n",
      "                          If the user wants to create a blog post about the second article,\n",
      "                          then you should create a blog post about GAN You Do the GAN GAN?, and so on                       \n",
      "                          It should be an engaging post of at most 200 words.\n",
      "                          The title of the post should be the title of the article.\n",
      "                          \n",
      "==================================\u001b[1m Ai Message \u001b[0m==================================\n",
      "\n",
      "### GAN You Do the GAN GAN?\n",
      "\n",
      "Generative Adversarial Networks (GANs) have revolutionized the field of generative models, showcasing remarkable capabilities in synthesizing diverse forms of data, from stunning images to intricate musical sequences. In the intriguing paper \"GAN You Do the GAN GAN?\" by Joseph Suarez, the author explores a novel concept: the possibility of training a GAN to model a distribution of GANs themselves.\n",
      "\n",
      "This work addresses a playful yet profound question in deep learning: can we create a GAN that generates other GANs? The paper not only delves into the theoretical implications of this idea but also provides the full source code for the project, making it accessible for further exploration and experimentation.\n",
      "\n",
      "As GANs continue to evolve, this research opens up exciting avenues for understanding the architecture and dynamics of generative models. By pushing the boundaries of what GANs can achieve, Suarez's work invites researchers and enthusiasts alike to ponder the future of artificial intelligence and the creative potential of machine learning. \n",
      "\n",
      "For those interested in the technical details, the full paper can be accessed [here](http://arxiv.org/abs/1904.00724v1).\n",
      "==================================\u001b[1m Ai Message \u001b[0m==================================\n",
      "\n",
      "### GAN You Do the GAN GAN?\n",
      "\n",
      "Generative Adversarial Networks (GANs) have revolutionized the field of generative models, showcasing remarkable capabilities in synthesizing diverse forms of data, from stunning images to intricate musical sequences. In the intriguing paper \"GAN You Do the GAN GAN?\" by Joseph Suarez, the author explores a novel concept: the possibility of training a GAN to model a distribution of GANs themselves.\n",
      "\n",
      "This work addresses a playful yet profound question in deep learning: can we create a GAN that generates other GANs? The paper not only delves into the theoretical implications of this idea but also provides the full source code for the project, making it accessible for further exploration and experimentation.\n",
      "\n",
      "As GANs continue to evolve, this research opens up exciting avenues for understanding the architecture and dynamics of generative models. By pushing the boundaries of what GANs can achieve, Suarez's work invites researchers and enthusiasts alike to ponder the future of artificial intelligence and the creative potential of machine learning. \n",
      "\n",
      "For those interested in the technical details, the full paper can be accessed [here](http://arxiv.org/abs/1904.00724v1).\n"
     ]
    }
   ],
   "source": [
    "# Simulating user input (In real use, take input dynamically)\n",
    "user_input = \"Create a blog post about the second article\"\n",
    "\n",
    "scienceBlogCreator.update_state(\n",
    "        thread,\n",
    "        {\"messages\": [            \n",
    "            # HumanMessage(content=user_input),\n",
    "            SystemMessage(content=f\"\"\"The arxiv articles are ordered here: {listed_articles}.\n",
    "                          Pick the appropriate article in the list according to the number requested by the user\n",
    "                          here {user_input}.\n",
    "                          For instance, if the user wants to create a blog post about the first article,\n",
    "                          then you should create a blog post about {listed_articles[0]}.\n",
    "                          If the user wants to create a blog post about the second article,\n",
    "                          then you should create a blog post about {listed_articles[1]}, and so on                       \n",
    "                          It should be an engaging post of at most 200 words.\n",
    "                          The title of the post should be the title of the article.\n",
    "                          \"\"\")\n",
    "        ]}, as_node=\"create_blog_entry\"\n",
    "    )\n",
    "\n",
    "for event in scienceBlogCreator.stream(messages,thread,stream_mode=\"values\"):\n",
    "    event['messages'][-1].pretty_print()"
   ]
  },
  {
   "cell_type": "code",
   "execution_count": null,
   "metadata": {},
   "outputs": [
    {
     "data": {
      "text/plain": [
       "('human_feedback',)"
      ]
     },
     "execution_count": 29,
     "metadata": {},
     "output_type": "execute_result"
    }
   ],
   "source": [
    "# scienceBlogCreator.get_state(thread).next"
   ]
  },
  {
   "cell_type": "code",
   "execution_count": null,
   "metadata": {},
   "outputs": [
    {
     "data": {
      "text/plain": [
       "{'messages': [HumanMessage(content='GANs', additional_kwargs={}, response_metadata={}, id='d06eaef6-4e47-4e0a-a893-bba6b2778391'),\n",
       "  AIMessage(content='', additional_kwargs={'tool_calls': [{'id': 'call_lQCI1yJ2qxRi5N9e18mv1qMl', 'function': {'arguments': '{\"query\":\"GANs\"}', 'name': 'arxiv_search'}, 'type': 'function'}], 'refusal': None}, response_metadata={'token_usage': {'completion_tokens': 17, 'prompt_tokens': 263, 'total_tokens': 280, 'completion_tokens_details': {'accepted_prediction_tokens': 0, 'audio_tokens': 0, 'reasoning_tokens': 0, 'rejected_prediction_tokens': 0}, 'prompt_tokens_details': {'audio_tokens': 0, 'cached_tokens': 0}}, 'model_name': 'gpt-4o-mini-2024-07-18', 'system_fingerprint': 'fp_06737a9306', 'finish_reason': 'tool_calls', 'logprobs': None}, id='run-6e5e97b2-66e1-4c7c-a092-1e8c61301b3b-0', tool_calls=[{'name': 'arxiv_search', 'args': {'query': 'GANs'}, 'id': 'call_lQCI1yJ2qxRi5N9e18mv1qMl', 'type': 'tool_call'}], usage_metadata={'input_tokens': 263, 'output_tokens': 17, 'total_tokens': 280, 'input_token_details': {'audio': 0, 'cache_read': 0}, 'output_token_details': {'audio': 0, 'reasoning': 0}}),\n",
       "  ToolMessage(content='[Document(metadata={\\'Published\\': \\'2021-11-26\\', \\'Title\\': \\'Generative Adversarial Networks and Adversarial Autoencoders: Tutorial and Survey\\', \\'Authors\\': \\'Benyamin Ghojogh, Ali Ghodsi, Fakhri Karray, Mark Crowley\\', \\'Summary\\': \\'This is a tutorial and survey paper on Generative Adversarial Network (GAN),\\\\nadversarial autoencoders, and their variants. We start with explaining\\\\nadversarial learning and the vanilla GAN. Then, we explain the conditional GAN\\\\nand DCGAN. The mode collapse problem is introduced and various methods,\\\\nincluding minibatch GAN, unrolled GAN, BourGAN, mixture GAN, D2GAN, and\\\\nWasserstein GAN, are introduced for resolving this problem. Then, maximum\\\\nlikelihood estimation in GAN are explained along with f-GAN, adversarial\\\\nvariational Bayes, and Bayesian GAN. Then, we cover feature matching in GAN,\\\\nInfoGAN, GRAN, LSGAN, energy-based GAN, CatGAN, MMD GAN, LapGAN, progressive\\\\nGAN, triple GAN, LAG, GMAN, AdaGAN, CoGAN, inverse GAN, BiGAN, ALI, SAGAN,\\\\nFew-shot GAN, SinGAN, and interpolation and evaluation of GAN. Then, we\\\\nintroduce some applications of GAN such as image-to-image translation\\\\n(including PatchGAN, CycleGAN, DeepFaceDrawing, simulated GAN, interactive\\\\nGAN), text-to-image translation (including StackGAN), and mixing image\\\\ncharacteristics (including FineGAN and MixNMatch). Finally, we explain the\\\\nautoencoders based on adversarial learning including adversarial autoencoder,\\\\nPixelGAN, and implicit autoencoder.\\', \\'entry_id\\': \\'http://arxiv.org/abs/2111.13282v1\\', \\'published_first_time\\': \\'2021-11-26\\', \\'comment\\': \\'To appear as a part of an upcoming textbook on dimensionality\\\\n  reduction and manifold learning\\', \\'journal_ref\\': None, \\'doi\\': None, \\'primary_category\\': \\'cs.LG\\', \\'categories\\': [\\'cs.LG\\', \\'cs.CV\\', \\'eess.IV\\', \\'stat.ML\\'], \\'links\\': [\\'http://arxiv.org/abs/2111.13282v1\\', \\'http://arxiv.org/pdf/2111.13282v1\\']}, page_content=\\'To appear as a part of an upcoming textbook on dimensionality reduction and manifold learning.\\\\nGenerative Adversarial Networks and Adversarial Autoencoders:\\\\nTutorial and Survey\\\\nBenyamin Ghojogh\\\\nBGHOJOGH@UWATERLOO.CA\\\\nDepartment of Electrical and Computer Engineering,\\\\nMachine Learning Laboratory, University of Waterloo, Waterloo, ON, Canada\\\\nAli Ghodsi\\\\nALI.GHODSI@UWATERLOO.CA\\\\nDepartment of Statistics and Actuarial Science & David R. Cheriton School of Computer Science,\\\\nData Analytics Laboratory, Un\\'), Document(metadata={\\'Published\\': \\'2019-04-01\\', \\'Title\\': \\'GAN You Do the GAN GAN?\\', \\'Authors\\': \\'Joseph Suarez\\', \\'Summary\\': \"Generative Adversarial Networks (GANs) have become a dominant class of\\\\ngenerative models. In recent years, GAN variants have yielded especially\\\\nimpressive results in the synthesis of a variety of forms of data. Examples\\\\ninclude compelling natural and artistic images, textures, musical sequences,\\\\nand 3D object files. However, one obvious synthesis candidate is missing. In\\\\nthis work, we answer one of deep learning\\'s most pressing questions: GAN you do\\\\nthe GAN GAN? That is, is it possible to train a GAN to model a distribution of\\\\nGANs? We release the full source code for this project under the MIT license.\", \\'entry_id\\': \\'http://arxiv.org/abs/1904.00724v1\\', \\'published_first_time\\': \\'2019-04-01\\', \\'comment\\': \\'3 pages\\', \\'journal_ref\\': None, \\'doi\\': None, \\'primary_category\\': \\'cs.CV\\', \\'categories\\': [\\'cs.CV\\', \\'cs.LG\\'], \\'links\\': [\\'http://arxiv.org/abs/1904.00724v1\\', \\'http://arxiv.org/pdf/1904.00724v1\\']}, page_content=\\'GAN You Do the GAN GAN?\\\\nJoseph Suarez\\\\nAbstract\\\\nGenerative Adversarial Networks (GANs) have\\\\nbecome a dominant class of generative models.\\\\nIn recent years, GAN variants have yielded es-\\\\npecially impressive results in the synthesis of a\\\\nvariety of forms of data. Examples include com-\\\\npelling natural and artistic images, textures, mu-\\\\nsical sequences, and 3D object ﬁles. However,\\\\none obvious synthesis candidate is missing. In\\\\nthis work, we answer one of deep learning’s most\\\\npressing questions: GAN y\\')]', name='arxiv_search', id='8b462754-5f9c-44be-82ff-d824331a2f5a', tool_call_id='call_lQCI1yJ2qxRi5N9e18mv1qMl'),\n",
       "  SystemMessage(content='Based on the next user answer, decide if you should return to the tools \\n                      node to make a wikipedia search or if you should proceed to create  the blog entry.', additional_kwargs={}, response_metadata={}, id='6a4962d7-d696-487d-97a2-f1930c75d178'),\n",
       "  HumanMessage(content='yes, research what is a network in machine learning using wikipedia', additional_kwargs={}, response_metadata={}, id='f2a62c3e-aa4e-4668-9929-c8091121d4f9'),\n",
       "  AIMessage(content='', additional_kwargs={'tool_calls': [{'id': 'call_0iiVLvMuy0JmZCNyaHkMtOCr', 'function': {'arguments': '{\"query\":\"network in machine learning\"}', 'name': 'wikipedia'}, 'type': 'function'}], 'refusal': None}, response_metadata={'token_usage': {'completion_tokens': 17, 'prompt_tokens': 1375, 'total_tokens': 1392, 'completion_tokens_details': {'accepted_prediction_tokens': 0, 'audio_tokens': 0, 'reasoning_tokens': 0, 'rejected_prediction_tokens': 0}, 'prompt_tokens_details': {'audio_tokens': 0, 'cached_tokens': 1280}}, 'model_name': 'gpt-4o-mini-2024-07-18', 'system_fingerprint': 'fp_06737a9306', 'finish_reason': 'tool_calls', 'logprobs': None}, id='run-fb0fc368-cd4e-4b06-8ef0-fbf0b44efde4-0', tool_calls=[{'name': 'wikipedia', 'args': {'query': 'network in machine learning'}, 'id': 'call_0iiVLvMuy0JmZCNyaHkMtOCr', 'type': 'tool_call'}], usage_metadata={'input_tokens': 1375, 'output_tokens': 17, 'total_tokens': 1392, 'input_token_details': {'audio': 0, 'cache_read': 1280}, 'output_token_details': {'audio': 0, 'reasoning': 0}}),\n",
       "  ToolMessage(content='Page: Machine learning\\nSummary: Machine learning (ML) is a field of study in artificial intelligence concerned with the development and study of statistical algorithms that can learn from data and generalize to unseen data, and thus perform tasks wit', name='wikipedia', id='8f7bfe63-406b-49cd-a8c5-00343549fe8b', tool_call_id='call_0iiVLvMuy0JmZCNyaHkMtOCr'),\n",
       "  SystemMessage(content='Based on the next user answer, decide if you should return to the tools \\n                      node to make a wikipedia search or if you should proceed to create  the blog entry.', additional_kwargs={}, response_metadata={}, id='5cc300f6-bfcf-4f04-b1ab-7d6f08e2972f'),\n",
       "  HumanMessage(content='yes, research who created the adversarial architecture', additional_kwargs={}, response_metadata={}, id='a38089be-e814-40d0-9a09-e279130a10dc'),\n",
       "  AIMessage(content='', additional_kwargs={'tool_calls': [{'id': 'call_9pQrYomP3MI7vaBMTfqjkbmz', 'function': {'arguments': '{\"query\":\"adversarial architecture\"}', 'name': 'wikipedia'}, 'type': 'function'}], 'refusal': None}, response_metadata={'token_usage': {'completion_tokens': 17, 'prompt_tokens': 1497, 'total_tokens': 1514, 'completion_tokens_details': {'accepted_prediction_tokens': 0, 'audio_tokens': 0, 'reasoning_tokens': 0, 'rejected_prediction_tokens': 0}, 'prompt_tokens_details': {'audio_tokens': 0, 'cached_tokens': 1408}}, 'model_name': 'gpt-4o-mini-2024-07-18', 'system_fingerprint': 'fp_06737a9306', 'finish_reason': 'tool_calls', 'logprobs': None}, id='run-a7e57616-a840-4f8c-8def-cb354c0530ce-0', tool_calls=[{'name': 'wikipedia', 'args': {'query': 'adversarial architecture'}, 'id': 'call_9pQrYomP3MI7vaBMTfqjkbmz', 'type': 'tool_call'}], usage_metadata={'input_tokens': 1497, 'output_tokens': 17, 'total_tokens': 1514, 'input_token_details': {'audio': 0, 'cache_read': 1408}, 'output_token_details': {'audio': 0, 'reasoning': 0}}),\n",
       "  ToolMessage(content='Page: Generative adversarial network\\nSummary: A generative adversarial network (GAN) is a class of machine learning frameworks and a prominent framework for approaching generative artificial intelligence. The concept was initially developed by Ian Go', name='wikipedia', id='03aa6373-8ed6-432e-ad67-ccfc5cd16050', tool_call_id='call_9pQrYomP3MI7vaBMTfqjkbmz'),\n",
       "  SystemMessage(content='Based on the next user answer, decide if you should return to the tools \\n                      node to make a wikipedia search or if you should proceed to create  the blog entry.', additional_kwargs={}, response_metadata={}, id='ff986577-70c5-4da2-967e-82e0b86fdd3f'),\n",
       "  HumanMessage(content='No, I do not want to research another term in wiki', additional_kwargs={}, response_metadata={}, id='d832ac64-8c41-4dba-99b6-6fae2a7fec7f'),\n",
       "  SystemMessage(content=\"The arxiv articles are ordered here: ['Generative Adversarial Networks and Adversarial Autoencoders: Tutorial and Survey', 'GAN You Do the GAN GAN?'].\\n                          Pick the appropriate article in the list according to the number requested by the user\\n                          here Create a blog post about the second article.\\n                          For instance, if the user wants to create a blog post about the first article,\\n                          then you should create a blog post about Generative Adversarial Networks and Adversarial Autoencoders: Tutorial and Survey.\\n                          If the user wants to create a blog post about the second article,\\n                          then you should create a blog post about GAN You Do the GAN GAN?, and so on                       \\n                          It should be an engaging post of at most 200 words.\\n                          The title of the post should be the title of the article.\\n                          \", additional_kwargs={}, response_metadata={}, id='2840c36c-cc1e-4c21-9f4d-969ce728c22d'),\n",
       "  AIMessage(content='### GAN You Do the GAN GAN?\\n\\nGenerative Adversarial Networks (GANs) have revolutionized the field of generative models, showcasing remarkable capabilities in synthesizing diverse forms of data, from stunning images to intricate musical sequences. In the intriguing paper \"GAN You Do the GAN GAN?\" by Joseph Suarez, the author explores a novel concept: the possibility of training a GAN to model a distribution of GANs themselves.\\n\\nThis work addresses a playful yet profound question in deep learning: can we create a GAN that generates other GANs? The paper not only delves into the theoretical implications of this idea but also provides the full source code for the project, making it accessible for further exploration and experimentation.\\n\\nAs GANs continue to evolve, this research opens up exciting avenues for understanding the architecture and dynamics of generative models. By pushing the boundaries of what GANs can achieve, Suarez\\'s work invites researchers and enthusiasts alike to ponder the future of artificial intelligence and the creative potential of machine learning. \\n\\nFor those interested in the technical details, the full paper can be accessed [here](http://arxiv.org/abs/1904.00724v1).', additional_kwargs={'refusal': None}, response_metadata={'token_usage': {'completion_tokens': 235, 'prompt_tokens': 1799, 'total_tokens': 2034, 'completion_tokens_details': {'accepted_prediction_tokens': 0, 'audio_tokens': 0, 'reasoning_tokens': 0, 'rejected_prediction_tokens': 0}, 'prompt_tokens_details': {'audio_tokens': 0, 'cached_tokens': 1664}}, 'model_name': 'gpt-4o-mini-2024-07-18', 'system_fingerprint': 'fp_06737a9306', 'finish_reason': 'stop', 'logprobs': None}, id='run-ac5b30aa-34d3-47d4-91a8-acf8e16b4324-0', usage_metadata={'input_tokens': 1799, 'output_tokens': 235, 'total_tokens': 2034, 'input_token_details': {'audio': 0, 'cache_read': 1664}, 'output_token_details': {'audio': 0, 'reasoning': 0}})]}"
      ]
     },
     "execution_count": 25,
     "metadata": {},
     "output_type": "execute_result"
    }
   ],
   "source": [
    "# scienceBlogCreator.get_state(thread).values"
   ]
  },
  {
   "cell_type": "code",
   "execution_count": 26,
   "metadata": {},
   "outputs": [],
   "source": [
    "# # Continue the graph execution\n",
    "# for event in scienceBlogCreator.stream(None, thread, stream_mode=\"values\"):\n",
    "#     event['messages'][-1].pretty_print()\n"
   ]
  },
  {
   "cell_type": "code",
   "execution_count": 30,
   "metadata": {},
   "outputs": [
    {
     "name": "stdout",
     "output_type": "stream",
     "text": [
      "🛠️ tools_condition decision: __end__\n"
     ]
    }
   ],
   "source": [
    "state_after_feedback = scienceBlogCreator.get_state(thread).values\n",
    "decision = tools_condition(state_after_feedback)\n",
    "print(f\"🛠️ tools_condition decision: {decision}\")\n"
   ]
  },
  {
   "cell_type": "code",
   "execution_count": null,
   "metadata": {},
   "outputs": [],
   "source": []
  },
  {
   "cell_type": "markdown",
   "metadata": {},
   "source": []
  }
 ],
 "metadata": {
  "kernelspec": {
   "display_name": "Python 3",
   "language": "python",
   "name": "python3"
  },
  "language_info": {
   "codemirror_mode": {
    "name": "ipython",
    "version": 3
   },
   "file_extension": ".py",
   "mimetype": "text/x-python",
   "name": "python",
   "nbconvert_exporter": "python",
   "pygments_lexer": "ipython3",
   "version": "3.12.0"
  }
 },
 "nbformat": 4,
 "nbformat_minor": 2
}
