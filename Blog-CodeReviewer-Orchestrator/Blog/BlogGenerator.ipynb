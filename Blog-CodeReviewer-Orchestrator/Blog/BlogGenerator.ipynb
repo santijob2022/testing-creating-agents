{
 "cells": [
  {
   "cell_type": "markdown",
   "metadata": {},
   "source": [
    "## Defining the Model to use"
   ]
  },
  {
   "cell_type": "code",
   "execution_count": 25,
   "metadata": {},
   "outputs": [],
   "source": [
    "import os\n",
    "import json\n",
    "from dotenv import load_dotenv\n",
    "load_dotenv() ## aloading all the environment variable\n",
    "\n",
    "os.environ[\"LANGCHAIN_TRACING_V2\"] = \"true\"\n",
    "os.environ[\"LANGCHAIN_API_KEY\"] = os.getenv(\"LANGCHAIN_API_KEY\")\n",
    "os.environ[\"LANGCHAIN_PROJECT\"] = \"langgraph-Blog-Generator\"\n",
    "\n",
    "# os.environ[\"GROQ_API_KEY\"]=os.getenv(\"GROQ_API_KEY\")\n",
    "os.environ[\"OPENAI_API_KEY\"]=os.getenv(\"OPENAI_API_KEY\")\n",
    "\n",
    "from langchain_openai import ChatOpenAI\n",
    "model = ChatOpenAI(model=\"gpt-4o-mini\",temperature=0)"
   ]
  },
  {
   "cell_type": "markdown",
   "metadata": {},
   "source": [
    "## Defining the tools"
   ]
  },
  {
   "cell_type": "code",
   "execution_count": null,
   "metadata": {},
   "outputs": [
    {
     "name": "stdout",
     "output_type": "stream",
     "text": [
      "Title: Generative Adversarial Networks and Adversarial Autoencoders: Tutorial and Survey\n",
      "Published: 2021-11-26\n",
      "Authors: Benyamin Ghojogh, Ali Ghodsi, Fakhri Karray, Mark Crowley\n",
      "\n",
      "Summary: This is a tutorial and survey paper on Generative Adversarial Network (GAN),\n",
      "adversarial autoencoders, and their variants. We start with explaining\n",
      "adversarial learning and the vanilla GAN. Then, we explain the conditional GAN\n",
      "and DCGAN. The mode col\n",
      "\n",
      "PDF url: http://arxiv.org/abs/2111.13282v1\n",
      "\n",
      "Title: GAN You Do the GAN GAN?\n",
      "Published: 2019-04-01\n",
      "Authors: Joseph Suarez\n",
      "\n",
      "Summary: Generative Adversarial Networks (GANs) have become a dominant class of\n",
      "generative models. In recent years, GAN variants have yielded especially\n",
      "impressive results in the synthesis of a variety of forms of data. Examples\n",
      "include compelling natural and\n",
      "\n",
      "PDF url: http://arxiv.org/abs/1904.00724v1\n",
      "\n",
      "Title: Sequential training of GANs against GAN-classifiers reveals correlated \"knowledge gaps\" present among independently trained GAN instances\n",
      "Published: 2023-03-27\n",
      "Authors: Arkanath Pathak, Nicholas Dufour\n",
      "\n",
      "Summary: Modern Generative Adversarial Networks (GANs) generate realistic images\n",
      "remarkably well. Previous work has demonstrated the feasibility of\n",
      "\"GAN-classifiers\" that are distinct from the co-trained discriminator, and\n",
      "operate on images generated from a f\n",
      "\n",
      "PDF url: http://arxiv.org/abs/2303.15533v1\n",
      "\n"
     ]
    }
   ],
   "source": [
    "from langchain_community.utilities import WikipediaAPIWrapper, ArxivAPIWrapper\n",
    "from langchain_community.tools import WikipediaQueryRun, ArxivQueryRun\n",
    "\n",
    "arxiv = ArxivAPIWrapper(\n",
    "    top_k_results = 3,\n",
    "    ARXIV_MAX_QUERY_LENGTH = 300,\n",
    "    load_all_available_meta = True,\n",
    "    doc_content_chars_max = 10000\n",
    ")\n",
    "\n",
    "# 🟢 Run Query and Get Results\n",
    "query = \"GAN's\"\n",
    "results = arxiv.load(query)\n",
    "\n",
    "# 🟢 Print the abstracts from results\n",
    "for article in results:\n",
    "    print(f\"Title: {article.metadata.get('Title', 'N/A')}\")\n",
    "    print(f\"Published: {article.metadata.get('Published', 'N/A')}\")\n",
    "    print(f\"Authors: {article.metadata.get('Authors', 'N/A')}\\n\")\n",
    "    print(f\"Summary: {article.metadata.get('Summary', 'N/A')[:250]}\\n\")\n",
    "    print(f\"PDF url: {article.metadata.get('entry_id', 'N/A')}\\n\")"
   ]
  },
  {
   "cell_type": "code",
   "execution_count": 7,
   "metadata": {},
   "outputs": [
    {
     "name": "stdout",
     "output_type": "stream",
     "text": [
      "Published: 2019-09-08\n",
      "Title: Lecture Notes: Optimization for Machine Learning\n",
      "Authors: Elad Hazan\n",
      "Summary: Lecture notes on optimization for machine learning, derived from a course at\n",
      "Princeton University and tutorials given in MLSS, Buenos Aires, as\n"
     ]
    }
   ],
   "source": [
    "print(results)"
   ]
  },
  {
   "cell_type": "code",
   "execution_count": 3,
   "metadata": {},
   "outputs": [
    {
     "ename": "ImportError",
     "evalue": "Could not import wikipedia python package. Please install it with `pip install wikipedia`.",
     "output_type": "error",
     "traceback": [
      "\u001b[31m---------------------------------------------------------------------------\u001b[39m",
      "\u001b[31mModuleNotFoundError\u001b[39m                       Traceback (most recent call last)",
      "\u001b[36mFile \u001b[39m\u001b[32mc:\\Users\\Valentin\\Documents\\VJDS\\Programming\\youtube\\DaveEbbelaar\\Agents\\Blog-CodeReviewer-Orchestrator\\envBlog\\Lib\\site-packages\\langchain_community\\utilities\\wikipedia.py:35\u001b[39m, in \u001b[36mWikipediaAPIWrapper.validate_environment\u001b[39m\u001b[34m(cls, values)\u001b[39m\n\u001b[32m     34\u001b[39m \u001b[38;5;28;01mtry\u001b[39;00m:\n\u001b[32m---> \u001b[39m\u001b[32m35\u001b[39m     \u001b[38;5;28;01mimport\u001b[39;00m\u001b[38;5;250m \u001b[39m\u001b[34;01mwikipedia\u001b[39;00m\n\u001b[32m     37\u001b[39m     lang = values.get(\u001b[33m\"\u001b[39m\u001b[33mlang\u001b[39m\u001b[33m\"\u001b[39m, \u001b[33m\"\u001b[39m\u001b[33men\u001b[39m\u001b[33m\"\u001b[39m)\n",
      "\u001b[31mModuleNotFoundError\u001b[39m: No module named 'wikipedia'",
      "\nDuring handling of the above exception, another exception occurred:\n",
      "\u001b[31mImportError\u001b[39m                               Traceback (most recent call last)",
      "\u001b[36mCell\u001b[39m\u001b[36m \u001b[39m\u001b[32mIn[3]\u001b[39m\u001b[32m, line 4\u001b[39m\n\u001b[32m      1\u001b[39m \u001b[38;5;28;01mfrom\u001b[39;00m\u001b[38;5;250m \u001b[39m\u001b[34;01mlangchain_community\u001b[39;00m\u001b[34;01m.\u001b[39;00m\u001b[34;01mutilities\u001b[39;00m\u001b[38;5;250m \u001b[39m\u001b[38;5;28;01mimport\u001b[39;00m WikipediaAPIWrapper, ArxivAPIWrapper\n\u001b[32m      2\u001b[39m \u001b[38;5;28;01mfrom\u001b[39;00m\u001b[38;5;250m \u001b[39m\u001b[34;01mlangchain_community\u001b[39;00m\u001b[34;01m.\u001b[39;00m\u001b[34;01mtools\u001b[39;00m\u001b[38;5;250m \u001b[39m\u001b[38;5;28;01mimport\u001b[39;00m WikipediaQueryRun, ArxivQueryRun\n\u001b[32m----> \u001b[39m\u001b[32m4\u001b[39m api_wrapper_wiki=\u001b[43mWikipediaAPIWrapper\u001b[49m\u001b[43m(\u001b[49m\u001b[43mtop_k_results\u001b[49m\u001b[43m=\u001b[49m\u001b[32;43m1\u001b[39;49m\u001b[43m,\u001b[49m\u001b[43mdoc_content_chars_max\u001b[49m\u001b[43m=\u001b[49m\u001b[32;43m250\u001b[39;49m\u001b[43m)\u001b[49m\n\u001b[32m      5\u001b[39m wiki=WikipediaQueryRun(api_wrapper=api_wrapper_wiki)\n\u001b[32m      7\u001b[39m api_wrapper_arxiv = ArxivAPIWrapper(top_k_results=\u001b[32m1\u001b[39m,  doc_content_chars_max=\u001b[32m250\u001b[39m)\n",
      "    \u001b[31m[... skipping hidden 1 frame]\u001b[39m\n",
      "\u001b[36mFile \u001b[39m\u001b[32mc:\\Users\\Valentin\\Documents\\VJDS\\Programming\\youtube\\DaveEbbelaar\\Agents\\Blog-CodeReviewer-Orchestrator\\envBlog\\Lib\\site-packages\\langchain_community\\utilities\\wikipedia.py:41\u001b[39m, in \u001b[36mWikipediaAPIWrapper.validate_environment\u001b[39m\u001b[34m(cls, values)\u001b[39m\n\u001b[32m     39\u001b[39m     values[\u001b[33m\"\u001b[39m\u001b[33mwiki_client\u001b[39m\u001b[33m\"\u001b[39m] = wikipedia\n\u001b[32m     40\u001b[39m \u001b[38;5;28;01mexcept\u001b[39;00m \u001b[38;5;167;01mImportError\u001b[39;00m:\n\u001b[32m---> \u001b[39m\u001b[32m41\u001b[39m     \u001b[38;5;28;01mraise\u001b[39;00m \u001b[38;5;167;01mImportError\u001b[39;00m(\n\u001b[32m     42\u001b[39m         \u001b[33m\"\u001b[39m\u001b[33mCould not import wikipedia python package. \u001b[39m\u001b[33m\"\u001b[39m\n\u001b[32m     43\u001b[39m         \u001b[33m\"\u001b[39m\u001b[33mPlease install it with `pip install wikipedia`.\u001b[39m\u001b[33m\"\u001b[39m\n\u001b[32m     44\u001b[39m     )\n\u001b[32m     45\u001b[39m \u001b[38;5;28;01mreturn\u001b[39;00m values\n",
      "\u001b[31mImportError\u001b[39m: Could not import wikipedia python package. Please install it with `pip install wikipedia`."
     ]
    }
   ],
   "source": [
    "from langchain_community.utilities import WikipediaAPIWrapper, ArxivAPIWrapper\n",
    "from langchain_community.tools import WikipediaQueryRun, ArxivQueryRun\n",
    "\n",
    "api_wrapper_wiki=WikipediaAPIWrapper(top_k_results=1,doc_content_chars_max=250)\n",
    "wiki=WikipediaQueryRun(api_wrapper=api_wrapper_wiki)\n",
    "\n",
    "api_wrapper_arxiv = ArxivAPIWrapper(top_k_results=1,  doc_content_chars_max=250)\n",
    "arxiv = ArxivQueryRun(api_wrapper=api_wrapper_arxiv)\n",
    "\n",
    "tools=[wiki,arxiv]\n",
    "\n",
    "llm_with_tools=llm.bind_tools(tools,parallel_tool_calls=False)"
   ]
  },
  {
   "cell_type": "markdown",
   "metadata": {},
   "source": [
    "## Define the Initial System behavior"
   ]
  },
  {
   "cell_type": "code",
   "execution_count": 19,
   "metadata": {},
   "outputs": [],
   "source": [
    "from typing_extensions import TypedDict\n",
    "from typing import Annotated\n",
    "from langchain_core.messages import AnyMessage, HumanMessage, SystemMessage\n",
    "from langgraph.graph.message import add_messages\n",
    "from langgraph.graph import MessagesState"
   ]
  },
  {
   "cell_type": "code",
   "execution_count": 20,
   "metadata": {},
   "outputs": [],
   "source": [
    "# System message\n",
    "sys_msg = SystemMessage(content=\n",
    "                        \"\"\"You are a helpful assistant tasked with creating a blog.\n",
    "                        Your first commitment is:\n",
    "                        1. From the user's question build a brief yet attractive blog title. \n",
    "                        If the question is very intricate research the topic in your tools.\n",
    "                        \n",
    "                        Your second commitment is:\n",
    "                        2. Build an entry blog based on the answer to the user's question.                        \n",
    "                        \"\"\")\n",
    "                        # If you made a reasearh in step 1, use that information to create the blog entry.\n",
    "\n",
    "\n",
    "def assistant(state:MessagesState):\n",
    "    return {\"messages\":[llm_with_tools.invoke([sys_msg] + state[\"messages\"])]}"
   ]
  },
  {
   "cell_type": "markdown",
   "metadata": {},
   "source": [
    "## Defining the graph"
   ]
  },
  {
   "cell_type": "code",
   "execution_count": 21,
   "metadata": {},
   "outputs": [
    {
     "data": {
      "image/png": "[encoded data removed]",
      "text/plain": [
       "<IPython.core.display.Image object>"
      ]
     },
     "metadata": {},
     "output_type": "display_data"
    }
   ],
   "source": [
    "from langgraph.graph import START, StateGraph\n",
    "from langgraph.prebuilt import tools_condition, ToolNode\n",
    "from IPython.display import Image, display\n",
    "\n",
    "builder = StateGraph(MessagesState)\n",
    "\n",
    "## Define the node\n",
    "builder.add_node(\"assistant\",assistant)\n",
    "builder.add_node(\"tools\",ToolNode(tools))\n",
    "\n",
    "## Define the edges\n",
    "\n",
    "builder.add_edge(START,\"assistant\")\n",
    "builder.add_conditional_edges(\n",
    "    \"assistant\", tools_condition, # If the topic is very intricate, the model will research in arxiv or wiki\n",
    ")\n",
    "\n",
    "builder.add_edge(\"tools\",\"assistant\")\n",
    "\n",
    "react_graph=builder.compile()\n",
    "\n",
    "# Show\n",
    "display(Image(react_graph.get_graph().draw_mermaid_png()))"
   ]
  },
  {
   "cell_type": "markdown",
   "metadata": {},
   "source": [
    "## Using the Agent"
   ]
  },
  {
   "cell_type": "code",
   "execution_count": 22,
   "metadata": {},
   "outputs": [],
   "source": [
    "messages = [HumanMessage(content=\"Is three js a good way to learn about Virtual reality?\")]\n",
    "messages = react_graph.invoke({\"messages\":messages})"
   ]
  },
  {
   "cell_type": "code",
   "execution_count": 23,
   "metadata": {},
   "outputs": [
    {
     "name": "stdout",
     "output_type": "stream",
     "text": [
      "================================\u001b[1m Human Message \u001b[0m=================================\n",
      "\n",
      "Is three js a good way to learn about Virtual reality?\n",
      "==================================\u001b[1m Ai Message \u001b[0m==================================\n",
      "\n",
      "### Exploring Virtual Reality: Is Three.js the Best Way to Learn?\n",
      "\n",
      "Three.js has gained significant popularity among developers and designers alike for creating 3D graphics in the web browser. This JavaScript library is particularly praised for its powerful capabilities and ease of use, making it an attractive option for those looking to dive into the world of virtual reality (VR).\n",
      "\n",
      "#### Why Three.js for Virtual Reality?\n",
      "\n",
      "1. **Ease of Use**: Three.js is designed with simplicity in mind. Its intuitive API allows newcomers to quickly get up to speed and start creating 3D experiences without needing deep knowledge of WebGL or complex graphics programming.\n",
      "\n",
      "2. **Rich Community and Resources**: The extensive community surrounding Three.js provides a wealth of tutorials, examples, and documentation. This makes it easier for learners to find help, share projects, and discover new techniques to implement in VR.\n",
      "\n",
      "3. **VR Support**: Three.js has robust support for VR, including compatibility with WebXR. This allows developers to create experiences that can be used with VR headsets, giving learners a hands-on feel of building immersive environments.\n",
      "\n",
      "4. **Cross-Platform Compatibility**: As a web-based library, Three.js enables the creation of VR experiences that can run across various devices, from desktops to mobile phones and VR headsets. This broad compatibility helps learners understand how VR can be accessible to a wider audience.\n",
      "\n",
      "#### What to Consider\n",
      "\n",
      "While Three.js is a great starting point for learning about VR, learners should keep in mind that mastering VR experiences goes beyond just using a library. Understanding concepts like 3D modeling, interaction design, and the user experience in VR is crucial for creating truly immersive applications.\n",
      "\n",
      "#### Conclusion\n",
      "\n",
      "In conclusion, Three.js is indeed a fantastic way to learn about virtual reality. Its ease of use, rich community, and solid VR support provide a platform for both beginners and experienced developers to explore and create engaging 3D environments. If you're looking to dive into the exciting world of VR, Three.js is a great entry point!\n"
     ]
    }
   ],
   "source": [
    "for m in messages[\"messages\"]:\n",
    "    m.pretty_print()\n"
   ]
  },
  {
   "cell_type": "code",
   "execution_count": null,
   "metadata": {},
   "outputs": [],
   "source": []
  },
  {
   "cell_type": "code",
   "execution_count": null,
   "metadata": {},
   "outputs": [],
   "source": []
  }
 ],
 "metadata": {
  "kernelspec": {
   "display_name": "Python 3",
   "language": "python",
   "name": "python3"
  },
  "language_info": {
   "codemirror_mode": {
    "name": "ipython",
    "version": 3
   },
   "file_extension": ".py",
   "mimetype": "text/x-python",
   "name": "python",
   "nbconvert_exporter": "python",
   "pygments_lexer": "ipython3",
   "version": "3.12.0"
  }
 },
 "nbformat": 4,
 "nbformat_minor": 2
}
