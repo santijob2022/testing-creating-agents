{
 "cells": [
  {
   "cell_type": "markdown",
   "metadata": {},
   "source": [
    "## Defining the Model to use"
   ]
  },
  {
   "cell_type": "code",
   "execution_count": 1,
   "metadata": {},
   "outputs": [],
   "source": [
    "import os\n",
    "import json\n",
    "from dotenv import load_dotenv\n",
    "load_dotenv() ## aloading all the environment variable\n",
    "\n",
    "os.environ[\"LANGCHAIN_TRACING_V2\"] = \"true\"\n",
    "os.environ[\"LANGCHAIN_API_KEY\"] = os.getenv(\"LANGCHAIN_API_KEY\")\n",
    "os.environ[\"LANGCHAIN_PROJECT\"] = \"langgraph-Blog-Generator\"\n",
    "\n",
    "os.environ[\"GROQ_API_KEY\"]=os.getenv(\"GROQ_API_KEY\")\n",
    "# os.environ[\"OPENAI_API_KEY\"]=os.getenv(\"OPENAI_API_KEY\")\n",
    "\n",
    "from langchain_openai import ChatOpenAI\n",
    "from langchain_groq import ChatGroq\n",
    "from langsmith import traceable\n",
    "\n",
    "# model = ChatOpenAI(model=\"gpt-4o-mini\",temperature=0)\n",
    "llm=ChatGroq(model=\"qwen-2.5-32b\")"
   ]
  },
  {
   "cell_type": "markdown",
   "metadata": {},
   "source": [
    "## Defining the tools"
   ]
  },
  {
   "cell_type": "markdown",
   "metadata": {},
   "source": [
    "#### Arxiv"
   ]
  },
  {
   "cell_type": "code",
   "execution_count": 2,
   "metadata": {},
   "outputs": [],
   "source": [
    "from langchain_community.utilities import WikipediaAPIWrapper, ArxivAPIWrapper\n",
    "\n",
    "@traceable\n",
    "def arxiv_search(query):\n",
    "    \"\"\"\n",
    "        Search for the top 3 results according to the user query using ArxivAPIWrapper.\n",
    "        The information returned is a list with the top 3 related articles with at least the following information:\n",
    "        Title\n",
    "        Published\n",
    "        Authors\n",
    "        Summary\n",
    "        PDF_url\n",
    "    \"\"\"\n",
    "\n",
    "    arxiv = ArxivAPIWrapper(\n",
    "        top_k_results = 3,\n",
    "        ARXIV_MAX_QUERY_LENGTH = 300,\n",
    "        load_all_available_meta = True,\n",
    "        doc_content_chars_max = 5900\n",
    "    )\n",
    "\n",
    "    # Run Query and Get Results\n",
    "    query = \"GAN's\"\n",
    "    results = arxiv.load(query)\n",
    "\n",
    "    # for article in results:\n",
    "    #     print(f\"Title: {article.metadata.get('Title', 'N/A')}\")\n",
    "    #     print(f\"Published: {article.metadata.get('Published', 'N/A')}\")\n",
    "    #     print(f\"Authors: {article.metadata.get('Authors', 'N/A')}\\n\")\n",
    "    #     print(f\"Summary: {article.metadata.get('Summary', 'N/A')[:250]}\\n\")\n",
    "    #     print(f\"PDF url: {article.metadata.get('entry_id', 'N/A')}\\n\")\n",
    "    return results\n"
   ]
  },
  {
   "cell_type": "markdown",
   "metadata": {},
   "source": [
    "#### Wikipedia"
   ]
  },
  {
   "cell_type": "code",
   "execution_count": 4,
   "metadata": {},
   "outputs": [],
   "source": [
    "from langchain_community.tools import WikipediaQueryRun, ArxivQueryRun\n",
    "\n",
    "api_wrapper_wiki=WikipediaAPIWrapper(top_k_results=1,doc_content_chars_max=250)\n",
    "wiki=WikipediaQueryRun(api_wrapper=api_wrapper_wiki)"
   ]
  },
  {
   "cell_type": "markdown",
   "metadata": {},
   "source": [
    "## Binding the tools"
   ]
  },
  {
   "cell_type": "code",
   "execution_count": 5,
   "metadata": {},
   "outputs": [],
   "source": [
    "tools=[wiki,arxiv_search]\n",
    "\n",
    "llm_with_tools=llm.bind_tools(tools,parallel_tool_calls=False)"
   ]
  },
  {
   "cell_type": "markdown",
   "metadata": {},
   "source": [
    "## Define the Initial State"
   ]
  },
  {
   "cell_type": "code",
   "execution_count": 6,
   "metadata": {},
   "outputs": [],
   "source": [
    "from typing_extensions import TypedDict\n",
    "from typing import Annotated\n",
    "from langchain_core.messages import AnyMessage, HumanMessage, SystemMessage\n",
    "from langgraph.graph.message import add_messages\n",
    "from langgraph.graph import MessagesState"
   ]
  },
  {
   "cell_type": "code",
   "execution_count": 7,
   "metadata": {},
   "outputs": [],
   "source": [
    "# System message\n",
    "sys_msg = SystemMessage(content=\n",
    "                        \"\"\"You are a helpful assistant tasked with creating a blog.\n",
    "                        Your first commitment is:\n",
    "                        1. From the user's question, first use the arxiv tool to search for the top 3 articles.\n",
    "\n",
    "                        2. Give the user the option to use wikipedia in case they want to research a term in the summaries.\n",
    "\n",
    "                        3. Wait for user's feedback\n",
    "\n",
    "                        4. If rejected try again from point 1.\n",
    "\n",
    "                        5. If accepted create a blog with the articles information.\n",
    "                     \n",
    "                        \"\"\")\n",
    "                        # If you made a reasearh in step 1, use that information to create the blog entry.\n",
    "\n",
    "\n",
    "def assistant(state:MessagesState):\n",
    "    return {\"messages\":[llm_with_tools.invoke([sys_msg] + state[\"messages\"])]}"
   ]
  },
  {
   "cell_type": "markdown",
   "metadata": {},
   "source": [
    "## Defining the graph"
   ]
  },
  {
   "cell_type": "code",
   "execution_count": 8,
   "metadata": {},
   "outputs": [
    {
     "data": {
      "image/png": "[encoded data removed]",
      "text/plain": [
       "<IPython.core.display.Image object>"
      ]
     },
     "metadata": {},
     "output_type": "display_data"
    }
   ],
   "source": [
    "from langgraph.graph import START, StateGraph, END\n",
    "from langgraph.prebuilt import tools_condition, ToolNode\n",
    "from IPython.display import Image, display\n",
    "\n",
    "builder = StateGraph(MessagesState)\n",
    "\n",
    "## Define the node\n",
    "builder.add_edge(START,\"assistant\")\n",
    "builder.add_node(\"assistant\",assistant)\n",
    "builder.add_node(\"tools\",ToolNode(tools))\n",
    "builder.add_edge(\"assistant\",\"tools\")\n",
    "builder.add_edge(\"tools\",END)\n",
    "\n",
    "\n",
    "scienceBlogCreator=builder.compile()\n",
    "\n",
    "# Show\n",
    "display(Image(scienceBlogCreator.get_graph().draw_mermaid_png()))"
   ]
  },
  {
   "cell_type": "markdown",
   "metadata": {},
   "source": [
    "## Using the Agent"
   ]
  },
  {
   "cell_type": "code",
   "execution_count": 9,
   "metadata": {},
   "outputs": [],
   "source": [
    "messages = [HumanMessage(content=\"What are GAN's?\")]\n",
    "messages = scienceBlogCreator.invoke({\"messages\":messages})"
   ]
  },
  {
   "cell_type": "code",
   "execution_count": 10,
   "metadata": {},
   "outputs": [
    {
     "name": "stdout",
     "output_type": "stream",
     "text": [
      "================================\u001b[1m Human Message \u001b[0m=================================\n",
      "\n",
      "What are GAN's?\n",
      "==================================\u001b[1m Ai Message \u001b[0m==================================\n",
      "Tool Calls:\n",
      "  arxiv_search (call_1v3m)\n",
      " Call ID: call_1v3m\n",
      "  Args:\n",
      "    query: GANs\n",
      "=================================\u001b[1m Tool Message \u001b[0m=================================\n",
      "Name: arxiv_search\n",
      "\n",
      "[Document(metadata={'Published': '2021-11-26', 'Title': 'Generative Adversarial Networks and Adversarial Autoencoders: Tutorial and Survey', 'Authors': 'Benyamin Ghojogh, Ali Ghodsi, Fakhri Karray, Mark Crowley', 'Summary': 'This is a tutorial and survey paper on Generative Adversarial Network (GAN),\\nadversarial autoencoders, and their variants. We start with explaining\\nadversarial learning and the vanilla GAN. Then, we explain the conditional GAN\\nand DCGAN. The mode collapse problem is introduced and various methods,\\nincluding minibatch GAN, unrolled GAN, BourGAN, mixture GAN, D2GAN, and\\nWasserstein GAN, are introduced for resolving this problem. Then, maximum\\nlikelihood estimation in GAN are explained along with f-GAN, adversarial\\nvariational Bayes, and Bayesian GAN. Then, we cover feature matching in GAN,\\nInfoGAN, GRAN, LSGAN, energy-based GAN, CatGAN, MMD GAN, LapGAN, progressive\\nGAN, triple GAN, LAG, GMAN, AdaGAN, CoGAN, inverse GAN, BiGAN, ALI, SAGAN,\\nFew-shot GAN, SinGAN, and interpolation and evaluation of GAN. Then, we\\nintroduce some applications of GAN such as image-to-image translation\\n(including PatchGAN, CycleGAN, DeepFaceDrawing, simulated GAN, interactive\\nGAN), text-to-image translation (including StackGAN), and mixing image\\ncharacteristics (including FineGAN and MixNMatch). Finally, we explain the\\nautoencoders based on adversarial learning including adversarial autoencoder,\\nPixelGAN, and implicit autoencoder.', 'entry_id': 'http://arxiv.org/abs/2111.13282v1', 'published_first_time': '2021-11-26', 'comment': 'To appear as a part of an upcoming textbook on dimensionality\\n  reduction and manifold learning', 'journal_ref': None, 'doi': None, 'primary_category': 'cs.LG', 'categories': ['cs.LG', 'cs.CV', 'eess.IV', 'stat.ML'], 'links': ['http://arxiv.org/abs/2111.13282v1', 'http://arxiv.org/pdf/2111.13282v1']}, page_content='To appear as a part of an upcoming textbook on dimensionality reduction and manifold learning.\\nGenerative Adversarial Networks and Adversarial Autoencoders:\\nTutorial and Survey\\nBenyamin Ghojogh\\nBGHOJOGH@UWATERLOO.CA\\nDepartment of Electrical and Computer Engineering,\\nMachine Learning Laboratory, University of Waterloo, Waterloo, ON, Canada\\nAli Ghodsi\\nALI.GHODSI@UWATERLOO.CA\\nDepartment of Statistics and Actuarial Science & David R. Cheriton School of Computer Science,\\nData Analytics Laboratory, University of Waterloo, Waterloo, ON, Canada\\nFakhri Karray\\nKARRAY@UWATERLOO.CA\\nDepartment of Electrical and Computer Engineering,\\nCentre for Pattern Analysis and Machine Intelligence, University of Waterloo, Waterloo, ON, Canada\\nMark Crowley\\nMCROWLEY@UWATERLOO.CA\\nDepartment of Electrical and Computer Engineering,\\nMachine Learning Laboratory, University of Waterloo, Waterloo, ON, Canada\\nAbstract\\nThis is a tutorial and survey paper on Generative\\nAdversarial Network (GAN), adversarial autoen-\\ncoders, and their variants. We start with explain-\\ning adversarial learning and the vanilla GAN.\\nThen, we explain the conditional GAN and\\nDCGAN. The mode collapse problem is intro-\\nduced and various methods, including minibatch\\nGAN, unrolled GAN, BourGAN, mixture GAN,\\nD2GAN, and Wasserstein GAN, are introduced\\nfor resolving this problem. Then, maximum like-\\nlihood estimation in GAN are explained along\\nwith f-GAN, adversarial variational Bayes, and\\nBayesian GAN. Then, we cover feature match-\\ning in GAN, InfoGAN, GRAN, LSGAN, energy-\\nbased GAN, CatGAN, MMD GAN, LapGAN,\\nprogressive GAN, triple GAN, LAG, GMAN,\\nAdaGAN, CoGAN, inverse GAN, BiGAN, ALI,\\nSAGAN, Few-shot GAN, SinGAN, and interpo-\\nlation and evaluation of GAN. Then, we intro-\\nduce some applications of GAN such as image-\\nto-image translation (including PatchGAN, Cy-\\ncleGAN, DeepFaceDrawing, simulated GAN, in-\\nteractive GAN), text-to-image translation (in-\\ncluding StackGAN), and mixing image charac-\\nteristics (including FineGAN and MixNMatch).\\nFinally, we explain the autoencoders based on\\nadversarial learning including adversarial au-\\ntoencoder, PixelGAN, and implicit autoencoder.\\n1. Introduction\\nSuppose we have a generative model which takes a ran-\\ndom noise as input and generates a data point. We want\\nthe generated data point to be of good quality; hence, we\\nshould somehow judge its quality. One way to judge it is\\nto observe the generated sample and assess its quality vi-\\nsually. In this case, the judge is a human. However, we\\ncannot take derivative of human’s judgment for optimiza-\\ntion. Generative Adversarial Network (GAN), proposed in\\n(Goodfellow et al., 2014), has the same idea but it can take\\nderivative of the judgment. For that, it uses a classiﬁer as\\nthe judge rather than a human. Hence, we have a generator\\ngenerating a sample and a binary classiﬁer (or discrimina-\\ntor) to classify the generated sample as a real or generated\\nsample. This classiﬁer can be a pre-trained network which\\nis already trained by some real and generated (fake) data\\npoints. However, GAN puts a step ahead and lets the clas-\\nsiﬁer be trained simultaneously with training the genera-\\ntor. This is the core idea of adversarial learning with the\\nclassiﬁer, also called the discriminator, and the generator\\ncompete each other; hence, they make each other stronger\\ngradually by this competition (Goodfellow et al., 2020).\\nIt is noteworthy that the term “adversarial” is used in two\\nmain streams of research in machine learning and they\\narXiv:2111.13282v1  [cs.LG]  26 Nov 2021\\nGenerative Adversarial Networks and Adversarial Autoencoders: Tutorial and Survey\\n2\\nshould not be confused. These two research areas are:\\n• Adversarial attack, also called learning with adversar-\\nial examples or adversarial machine learning. This\\nline of research inspects some examples which can\\nbe changed slightly but wisely to fool a trained learn-\\ning model. For example, perturbation of some speciﬁc\\npixels in the input image may change the decision of\\nlearning model. The reason for this can be analyzed\\ntheoretically. Some example works in this area are\\n(Huang et al., 2011; Moosavi-Dezfooli et al., 2016;\\nKurakin et al., 2017a;b; Madry et al., 2018).\\n• Adversarial learning for generation. This line of re-\\nsearch is categorized as generative models (Ng & Jor-\\ndan, 2002) and/or methods based on that. GAN is in\\nthis line of research. This paper focuses on this re-\\nsearch area.\\nAnother good tutorial on GAN is (Goodfellow, 2016) but it\\ndoes not cover most recent methods in adversarial learning.\\nAlso, an honorary introduction of GAN, by several main\\ncontributors of GAN, is (Goodfellow et al., 2020). Some\\nother existing surveys on GAN are (Wang et al., 2017;\\nCreswell et al., 2018; Gonog & Zhou, 2019; Hong et al.,\\n2019; Pan et al., 2019). This paper is a tutorial and survey\\non GAN and its variants.\\nRequired Background for the Reader\\nThis paper assumes that the reader has general knowledge\\nof calculus, probability, linear algebra, and basics of opti-\\nmization.\\n2. Generative Adversarial Network (GAN)\\n2.1. Adversarial Learning: The Adversarial Game\\nThe original GAN, also called the vanilla GAN, was\\nproposed in (Goodfellow et al., 2014).\\nConsider a d-\\ndimensional dataset with n data points, i.e., {xi\\n∈\\nRd}n\\ni=1. In GAN, we have a generator G which takes a\\np-dimensional random noise z ∈Rp as input and outputs\\na d-dimensional generated point x ∈Rd. Hence, it is the\\nmapping G : z →x where:\\nG(z) = x.\\n(1)\\nThe random noise can be seen as a latent factor on which\\nthe generated data point is conditioned. The probabilistic\\ngraphical model of generator is a variable x conditioned on\\na latent variable z (see (Goodfellow, 2016, Fig. 13) for its\\nvisualization).\\nLet the distribution of random noise be denoted by z ∼\\npz(z). We want the generated bx to be very similar to some\\noriginal (or real) data point x in the dataset. We need a\\nmodule to judge t'), Document(metadata={'Published': '2019-04-01', 'Title': 'GAN You Do the GAN GAN?', 'Authors': 'Joseph Suarez', 'Summary': \"Generative Adversarial Networks (GANs) have become a dominant class of\\ngenerative models. In recent years, GAN variants have yielded especially\\nimpressive results in the synthesis of a variety of forms of data. Examples\\ninclude compelling natural and artistic images, textures, musical sequences,\\nand 3D object files. However, one obvious synthesis candidate is missing. In\\nthis work, we answer one of deep learning's most pressing questions: GAN you do\\nthe GAN GAN? That is, is it possible to train a GAN to model a distribution of\\nGANs? We release the full source code for this project under the MIT license.\", 'entry_id': 'http://arxiv.org/abs/1904.00724v1', 'published_first_time': '2019-04-01', 'comment': '3 pages', 'journal_ref': None, 'doi': None, 'primary_category': 'cs.CV', 'categories': ['cs.CV', 'cs.LG'], 'links': ['http://arxiv.org/abs/1904.00724v1', 'http://arxiv.org/pdf/1904.00724v1']}, page_content='GAN You Do the GAN GAN?\\nJoseph Suarez\\nAbstract\\nGenerative Adversarial Networks (GANs) have\\nbecome a dominant class of generative models.\\nIn recent years, GAN variants have yielded es-\\npecially impressive results in the synthesis of a\\nvariety of forms of data. Examples include com-\\npelling natural and artistic images, textures, mu-\\nsical sequences, and 3D object ﬁles. However,\\none obvious synthesis candidate is missing. In\\nthis work, we answer one of deep learning’s most\\npressing questions: GAN you do the GAN GAN?\\nThat is, is it possible to train a GAN to model a\\ndistribution of GANs? We release the full source\\ncode for this project under the MIT license.1\\n1. Introduction, Background, Related Work\\nGANs (Goodfellow et al., 2014) have become perhaps the\\nsingle most prevalent class of generative models in recent\\nyears, spawning hundreds of variants and an entire subﬁeld\\nof surrounding work. While they are notoriously difﬁcult to\\ntrain and often suffer from mode collapse, under the right\\nconditions, GANs have been shown to generate compelling\\nartiﬁcial data distributions and are perhaps best known for\\nrealistic image synthesis (Zhu et al., 2017).\\nOur objective is to apply GANs to a different class of data:\\nGANs themselves. Instead of using a GAN to model images,\\nwe use a GAN to model a distribution of GANs that model\\nimages. We refer to this architecture over architectures\\nas a GAN-GAN. We do not consider GAN-GAN-GANs\\nor GAN-GAN-GAN-GANs in this work. While these are\\nstraightforward to implement, they would require an ex-\\nponential parameter budget (at least as formulated in the\\npresent work) which we lack the hardware to support.\\nHypernetworks (Ha et al., 2016) and extensions thereof\\n(Deutsch, 2018; Suarez, 2017) have also explored the con-\\ncept of using one network to generate the weights of another.\\nHowever, to our knowledge, all such settings typically learn\\nboth the architecture and the meta-architecture end-to-end.\\nIn contrast, we are interested in whether it is possible to\\ndirectly learn a distribution over architectures within the\\n1Full source code:\\nhttps://github.com/jsuarez5341/gan-you-do-the-gan-gan\\nFigure 1. GAN-GAN: a GAN trained on a dataset of GANs\\nstandard setting of generative modeling. We treat GANs\\nthemselves as examples and learn a GAN-GAN by training\\non small set of trained GANs.\\nThis paper is a joke; however, the results are in fact real.\\nInterpretability is a key problem in deep learning, especially\\nin models to be deployed in real world systems. Generative\\nmodeling over networks could serve as a useful tool for\\nvisualization and analysis of network decisions and results.\\n2. Methods\\nGANs formulate a two player game between networks. For-\\nmally, GANs deﬁnes a Generator G and a Discriminator\\nD. The Discriminator models the probability P(G|x) that\\na given example x is fake. The Generator maximizes the\\nprobability P(D(G(z))) (z is sampled noise) that the Dis-\\ncriminator will output an incorrect prediction. A GAN-GAN\\nis simply a GAN trained on a dataset of GAN weights.\\nAlgorithm 1 GAN-GAN Training. We ﬁrst train a set of\\nGANs and save snapshots of the parameters each epoch. We\\nthen train a GAN-GAN (a GAN over GANS) by treating\\neach snapshot as an individual training example.\\nfor GAN Index = 1...#Networks do\\nInitialize an MNIST GAN\\nfor Epoch = 1...#Epochs do\\nTrain the MNIST GAN for one epoch\\nSave a snapshot of the GAN parameters\\nend for\\nend for\\nLoad all snapshots of all GANs into a dataset with #Net-\\nworks × #Epochs examples\\nTrain a GAN over the dataset of GAN snapshots\\narXiv:1904.00724v1  [cs.CV]  1 Apr 2019\\nGAN-GAN\\nFigure 2. Example samples from the training of an MNIST GAN (top-bottom left-right: epochs 1, 2, 10, 25, 27, 30, 32, 35, 40, 49)\\nFigure 3. Image samples from GANs sampled from the trained GAN-GAN. Rows correspond to GANs linearly sampled from 1D\\nGAN-GAN latent space in the interval (-2, 2). Columns correspond to a particular noise vector input to all GANs.\\nGAN-GAN\\n3. Experiments and Discussion\\nGAN Architecture\\nThe generator and discriminator are\\nthree layer (input-hidden-output) fully connected neural net-\\nworks with hidden dimension 64. We use Leaky ReLU(Xu\\net al., 2015) activations with 0.2 negative slope after the\\ninput and hidden layers. We use tanh for the generator out-\\nput (dimensionality 28 × 28 = 784 to match MNIST) and\\nsigmoid for the discriminator output (dimensionality 1). The\\ngenerator samples from latent dimension 64.\\nGAN-GAN Architecture\\nThe GAN-GAN generator and\\ndiscriminator have the same layer and activation structure\\nas the MNIST GAN. The input dimensionality is 113745,\\nwhich is equal to the dimensionality of the GAN parameter\\nvector. We found that using a smaller hidden dimension\\nfor the discriminator (8) than the generator (64) helped to\\nstabilize training. We use latent dimension 1 for the GAN-\\nGAN in order to enable visualizations. Results improve\\nwith a larger latent space.\\nTraining\\nWe use Adam(Kingma & Ba, 2014) for all net-\\nworks. The learning rate is ﬁxed to 0.0002; all other pa-\\nrameters are PyTorch defaults. We use batch sizes 128 and\\n32 for MNIST and the GAN-GAN, respectively. As de-\\nscribed in Algorithm 1, we train 35 MNIST GANs for 100\\nepochs each, saving snapshots of the weights at each epoch.\\nWe train the GAN-GAN for 250 epochs using these 3500\\nsnapshots as training examples.\\nResults\\nIn order to evaluate the performance of the GAN-\\nGAN, we ﬁrst linearly sample 32 GANs from the 1-\\ndimensional latent space of the GAN-GAN. We then ﬁx\\n40 noise samples with the same dimensionality as the GAN\\nlatent space. Finally, we sample 40 images from each GAN\\nusing the ﬁxed noise samples. Fig. 3 shows the results. The\\nGAN-GAN produces neatly ordered GAN samples accord-\\ning to image quality. Surprisingly, the GAN-GAN actually\\nexhibits better performance than the trained GANs. Given\\nthat high quality GANs appear more real than low quality\\nGANs, it is'), Document(metadata={'Published': '2023-03-27', 'Title': 'Sequential training of GANs against GAN-classifiers reveals correlated \"knowledge gaps\" present among independently trained GAN instances', 'Authors': 'Arkanath Pathak, Nicholas Dufour', 'Summary': 'Modern Generative Adversarial Networks (GANs) generate realistic images\\nremarkably well. Previous work has demonstrated the feasibility of\\n\"GAN-classifiers\" that are distinct from the co-trained discriminator, and\\noperate on images generated from a frozen GAN. That such classifiers work at\\nall affirms the existence of \"knowledge gaps\" (out-of-distribution artifacts\\nacross samples) present in GAN training. We iteratively train GAN-classifiers\\nand train GANs that \"fool\" the classifiers (in an attempt to fill the knowledge\\ngaps), and examine the effect on GAN training dynamics, output quality, and\\nGAN-classifier generalization. We investigate two settings, a small DCGAN\\narchitecture trained on low dimensional images (MNIST), and StyleGAN2, a SOTA\\nGAN architecture trained on high dimensional images (FFHQ). We find that the\\nDCGAN is unable to effectively fool a held-out GAN-classifier without\\ncompromising the output quality. However, StyleGAN2 can fool held-out\\nclassifiers with no change in output quality, and this effect persists over\\nmultiple rounds of GAN/classifier training which appears to reveal an ordering\\nover optima in the generator parameter space. Finally, we study different\\nclassifier architectures and show that the architecture of the GAN-classifier\\nhas a strong influence on the set of its learned artifacts.', 'entry_id': 'http://arxiv.org/abs/2303.15533v1', 'published_first_time': '2023-03-27', 'comment': None, 'journal_ref': None, 'doi': None, 'primary_category': 'cs.LG', 'categories': ['cs.LG', 'cs.CV'], 'links': ['http://arxiv.org/abs/2303.15533v1', 'http://arxiv.org/pdf/2303.15533v1']}, page_content='Sequential training of GANs against GAN-classifiers reveals correlated\\n“knowledge gaps” present among independently trained GAN instances\\nArkanath Pathak\\nNicholas Dufour\\nGoogle Research\\n{arkanath,ndufour}@google.com\\nAbstract\\nModern Generative Adversarial Networks (GANs) gen-\\nerate realistic images remarkably well. Previous work has\\ndemonstrated the feasibility of “GAN-classifiers” that are\\ndistinct from the co-trained discriminator, and operate on\\nimages generated from a frozen GAN. That such classifiers\\nwork at all affirms the existence of “knowledge gaps” (out-of-\\ndistribution artifacts across samples) present in GAN train-\\ning. We iteratively train GAN-classifiers and train GANs that\\n“fool” the classifiers (in an attempt to fill the knowledge gaps),\\nand examine the effect on GAN training dynamics, output\\nquality, and GAN-classifier generalization. We investigate\\ntwo settings, a small DCGAN architecture trained on low\\ndimensional images (MNIST), and StyleGAN2, a SOTA GAN\\narchitecture trained on high dimensional images (FFHQ).\\nWe find that the DCGAN is unable to effectively fool a held-\\nout GAN-classifier without compromising the output quality.\\nHowever, the StyleGAN2 can fool held-out classifiers with\\nno change in output quality, and this effect persists over\\nmultiple rounds of GAN/classifier training which appears to\\nreveal an ordering over optima in the generator parameter\\nspace. Finally, we study different classifier architectures and\\nshow that the architecture of the GAN-classifier has a strong\\ninfluence on the set of its learned artifacts.\\n1. Introduction\\nGAN [9] architectures like StyleGAN2 [18] generate\\nhigh-resolution images that appear largely indistinguishable\\nfrom real images to the untrained eye [15, 19, 25]. While\\nthere are many positive applications, the ability to generate\\nlarge amounts of realistic images is also a source of concern\\ngiven its potential application in scaled abuse and misin-\\nformation. In particular, GAN-generated human faces are\\nwidely available (e.g., thispersondoesnotexist.com) and have\\nbeen used for creating fake identities on the internet [13].\\nDetection of GAN-generated images is an active research\\narea (see [10] for a survey of approaches), with some us-\\ning custom methods and others using generic CNN-based\\nclassifiers. Such classifiers are distinct from the discrimina-\\ntor networks that are trained alongside the generator in the\\narchetypal GAN setup. Given the adversarial nature of the\\ntraining loss for GANs, the existence of the GAN-classifiers\\nsuggest consistent generator knowledge gaps (i.e., artifacts\\npresent across samples that distinguish generated images\\nfrom those of the underlying distribution) left by discrimi-\\nnators during training. Specialized classifiers [32] are able\\nto detect images sampled from held-out GAN instances and\\neven from held-out GAN architectures. These generalization\\ncapabilities imply that the knowledge gaps are consistent\\nnot only across samples from a GAN generator but across\\nindependent GAN generator instances.\\nIn this work we modify the GAN training loss in order\\nto fool a GAN-classifier in addition to the co-trained dis-\\ncriminator, and examine the effect on training dynamics and\\noutput quality. We conduct multiple rounds of training in-\\ndependent pools (initialized differently) of GANs followed\\nby GAN-classifiers, and gain new insights into the GAN\\noptimization process. We investigate two different settings:\\nin the first setting, we choose the low-dimensional domain\\nof handwritten digits (MNIST [20]), using a small DCGAN\\n[26] architecture and a vanilla GAN-classifier architecture.\\nFor the second setting, we choose a high-dimensional do-\\nmain of human faces (FFHQ [17]) with StyleGAN2 (SG2)\\nas a SOTA GAN architecture, and three different GAN-\\nclassifier architectures (ResNet-50 [11], Inception-v3 [29],\\nand MobileNetV2 [28]). Our findings in this paper are as\\nfollows:\\n• Samples drawn from a GAN instance exhibit a space of\\n“artifacts” that are exploited by the classifiers, and this\\nspace is strongly correlated with those of other GAN\\ngenerator instances. This effect is present in both the\\nDCGAN and SG2 settings.\\n• Upon introducing the need to fool held-out classifiers,\\nthe DCGAN is unable to generate high quality outputs.\\n• In the high dimensional setting, however, SG2 gener-\\nators can easily fool held-out trained classifiers, and\\nmove to a new artifact space. Strikingly, we find that\\nthe artifact space is correlated among the new popula-\\ntion of generators as it was in the original population.\\nThis correlation appears to persist in subsequent rounds\\nas new classifiers are introduced that are adapted to the\\nnew artifact spaces.\\n• MobileNetV2 classifier instances in the SG2 setting\\nappear unable to learn all of the artifacts available for\\nthem to exploit. Instead, MobileNetV2 instances form\\nclusters based on the subset of artifacts learned. We\\nhypothesize this being an effect of classifier capacity.\\n• An SG2 generator trained to reliably fool unseen classi-\\nfier instances from a given architecture is not guaran-\\nteed to fool classifiers from another architecture. There-\\nfore, the artifacts learned by a given classifier depends\\nstrongly on the classifier’s architecture.\\n2. Related Work\\nResearch into detection of GAN-generated media has\\nlargely tracked the increasing prominence and output quality\\nof GANs themselves. Several studies [4, 5, 6, 10, 14, 22,\\n24, 31, 32] focus on detection of GAN-generated images\\nusing CNNs, and their robustness to data augmentation at\\ntest time. Of particular interest to us is [32], who train a\\nResNet-50 classifier (pre-trained using ImageNet [27]) on\\nimages generated using just one modern GAN architecture,\\nProGAN [16]. They show that the classifier generalizes\\nto unseen GAN architectures, concluding that the task of\\ngeneral GAN detection is fairly straightforward, at least in\\nthe absence of')]\n"
     ]
    }
   ],
   "source": [
    "for m in messages[\"messages\"]:\n",
    "    m.pretty_print()\n"
   ]
  },
  {
   "cell_type": "code",
   "execution_count": null,
   "metadata": {},
   "outputs": [],
   "source": []
  },
  {
   "cell_type": "code",
   "execution_count": null,
   "metadata": {},
   "outputs": [],
   "source": []
  }
 ],
 "metadata": {
  "kernelspec": {
   "display_name": "Python 3",
   "language": "python",
   "name": "python3"
  },
  "language_info": {
   "codemirror_mode": {
    "name": "ipython",
    "version": 3
   },
   "file_extension": ".py",
   "mimetype": "text/x-python",
   "name": "python",
   "nbconvert_exporter": "python",
   "pygments_lexer": "ipython3",
   "version": "3.12.0"
  }
 },
 "nbformat": 4,
 "nbformat_minor": 2
}
