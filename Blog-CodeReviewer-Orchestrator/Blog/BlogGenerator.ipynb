{
 "cells": [
  {
   "cell_type": "markdown",
   "metadata": {},
   "source": [
    "## Defining the Model to use"
   ]
  },
  {
   "cell_type": "code",
   "execution_count": 1,
   "metadata": {},
   "outputs": [],
   "source": [
    "import os\n",
    "import json\n",
    "from dotenv import load_dotenv\n",
    "load_dotenv() ## aloading all the environment variable\n",
    "\n",
    "os.environ[\"LANGCHAIN_TRACING_V2\"] = \"true\"\n",
    "os.environ[\"LANGCHAIN_API_KEY\"] = os.getenv(\"LANGCHAIN_API_KEY\")\n",
    "os.environ[\"LANGCHAIN_PROJECT\"] = \"langgraph-Blog-Generator\"\n",
    "\n",
    "# os.environ[\"GROQ_API_KEY\"]=os.getenv(\"GROQ_API_KEY\")\n",
    "os.environ[\"OPENAI_API_KEY\"]=os.getenv(\"OPENAI_API_KEY\")\n",
    "\n",
    "from langchain_openai import ChatOpenAI\n",
    "from langchain_groq import ChatGroq\n",
    "from langsmith import traceable\n",
    "\n",
    "llm = ChatOpenAI(model=\"gpt-4o-mini\",temperature=0)\n",
    "# llm=ChatGroq(model=\"qwen-2.5-32b\")"
   ]
  },
  {
   "cell_type": "markdown",
   "metadata": {},
   "source": [
    "## Defining the tools"
   ]
  },
  {
   "cell_type": "markdown",
   "metadata": {},
   "source": [
    "#### Arxiv"
   ]
  },
  {
   "cell_type": "code",
   "execution_count": 2,
   "metadata": {},
   "outputs": [],
   "source": [
    "from langchain_community.utilities import WikipediaAPIWrapper, ArxivAPIWrapper\n",
    "\n",
    "@traceable\n",
    "def arxiv_search(query):\n",
    "    \"\"\"\n",
    "        Search for the top 3 results according to the user query using ArxivAPIWrapper.\n",
    "        The information returned is a list with the top 3 related articles with at least the following information:\n",
    "        Title\n",
    "        Published\n",
    "        Authors\n",
    "        Summary\n",
    "        PDF_url\n",
    "    \"\"\"\n",
    "\n",
    "    # Using qwen-2.5-32b limits to 6000 per minute so I set doc_content_chars_max = 5900\n",
    "    arxiv = ArxivAPIWrapper(\n",
    "        top_k_results = 1,\n",
    "        ARXIV_MAX_QUERY_LENGTH = 300,\n",
    "        load_all_available_meta = True,\n",
    "        doc_content_chars_max = 500\n",
    "    )\n",
    "\n",
    "    # Run Query and Get Results\n",
    "    # query = \"GAN's\"\n",
    "    results = arxiv.load(query)\n",
    "\n",
    "    for article in results:\n",
    "        print(f\"Title: {article.metadata.get('Title', 'N/A')}\")\n",
    "        print(f\"Published: {article.metadata.get('Published', 'N/A')}\")\n",
    "        print(f\"Authors: {article.metadata.get('Authors', 'N/A')}\\n\")\n",
    "        print(f\"Summary: {article.metadata.get('Summary', 'N/A')[:250]}\\n\")\n",
    "        print(f\"PDF url: {article.metadata.get('entry_id', 'N/A')}\\n\")\n",
    "    return results\n"
   ]
  },
  {
   "cell_type": "markdown",
   "metadata": {},
   "source": [
    "#### Wikipedia"
   ]
  },
  {
   "cell_type": "code",
   "execution_count": 3,
   "metadata": {},
   "outputs": [],
   "source": [
    "from langchain_community.tools import WikipediaQueryRun, ArxivQueryRun\n",
    "\n",
    "api_wrapper_wiki=WikipediaAPIWrapper(top_k_results=1,doc_content_chars_max=250)\n",
    "wiki=WikipediaQueryRun(api_wrapper=api_wrapper_wiki)"
   ]
  },
  {
   "cell_type": "markdown",
   "metadata": {},
   "source": [
    "## Binding the tools"
   ]
  },
  {
   "cell_type": "code",
   "execution_count": 4,
   "metadata": {},
   "outputs": [],
   "source": [
    "tools=[wiki,arxiv_search]\n",
    "\n",
    "llm_with_tools=llm.bind_tools(tools,parallel_tool_calls=True)"
   ]
  },
  {
   "cell_type": "markdown",
   "metadata": {},
   "source": [
    "## Define the Initial State"
   ]
  },
  {
   "cell_type": "code",
   "execution_count": 5,
   "metadata": {},
   "outputs": [],
   "source": [
    "from typing_extensions import TypedDict\n",
    "from typing import Annotated\n",
    "from langchain_core.messages import AnyMessage, HumanMessage, SystemMessage\n",
    "from langgraph.graph.message import add_messages\n",
    "from langgraph.graph import MessagesState"
   ]
  },
  {
   "cell_type": "code",
   "execution_count": 6,
   "metadata": {},
   "outputs": [],
   "source": [
    "# System message\n",
    "sys_msg = SystemMessage(content=\n",
    "                        \"\"\"You are a helpful assistant tasked with creating a blog.\n",
    "                        Your first commitment is:\n",
    "                        1. Use the arxiv tool to search for the top 3 articles related to the user's question.\n",
    "\n",
    "                        2. Give the user the option to use wikipedia in case they want to research a term in the summaries.\n",
    "\n",
    "                        3. Wait for user's feedback\n",
    "\n",
    "                        4. If rejected try again from point 1.\n",
    "\n",
    "                        5. If accepted create a blog with the articles information.\n",
    "                     \n",
    "                        \"\"\")                      \n",
    "\n",
    "\n",
    "def assistant(state:MessagesState):\n",
    "    return {\"messages\":[llm_with_tools.invoke([sys_msg] + state[\"messages\"])]}"
   ]
  },
  {
   "cell_type": "markdown",
   "metadata": {},
   "source": [
    "## Defining the graph"
   ]
  },
  {
   "cell_type": "markdown",
   "metadata": {},
   "source": [
    "#### First I define a node that will be helpful for the human feedback"
   ]
  },
  {
   "cell_type": "code",
   "execution_count": 7,
   "metadata": {},
   "outputs": [],
   "source": [
    "# from langgraph.graph import START, StateGraph, END\n",
    "# def human_feedback(state: MessagesState):\n",
    "#     \"\"\" Return the next node to execute \"\"\"\n",
    "\n",
    "#     # Check if human feedback\n",
    "#     # human_analyst_feedback=state.get('human_analyst_feedback', None)\n",
    "#     # if human_analyst_feedback:\n",
    "#     return \"tools\"\n",
    "    \n",
    "#     # Otherwise end\n",
    "#     return END"
   ]
  },
  {
   "cell_type": "code",
   "execution_count": 8,
   "metadata": {},
   "outputs": [],
   "source": [
    "from langgraph.graph import START, StateGraph, END\n",
    "\n",
    "@traceable\n",
    "def human_feedback(state: MessagesState):\n",
    "    \"\"\" Return the next node to execute \"\"\"\n",
    "    \n",
    "    user_input = state[\"messages\"][-1].content.lower()\n",
    "    if \"yes\" in user_input:\n",
    "        return \"tools\"\n",
    "    elif \"no\" in user_input or \"end\" in user_input:\n",
    "        print(\"🚨 Routing to END (Stopping Execution)\")\n",
    "        return END \n",
    "    print(\"⚠️ Defaulting to END (Shouldn't Happen)\")\n",
    "    return END\n"
   ]
  },
  {
   "cell_type": "code",
   "execution_count": 9,
   "metadata": {},
   "outputs": [],
   "source": [
    "@traceable\n",
    "def custom_condition(state: MessagesState):\n",
    "    \"\"\" Manually decide whether to go to tools or end. \"\"\"\n",
    "    decision = human_feedback(state)  # Use the updated function\n",
    "\n",
    "    if decision == \"tools\":\n",
    "        return \"tools\"\n",
    "    return END  # Ensure it stops properly"
   ]
  },
  {
   "cell_type": "markdown",
   "metadata": {},
   "source": [
    "#### Then I define the graph"
   ]
  },
  {
   "cell_type": "code",
   "execution_count": 10,
   "metadata": {},
   "outputs": [
    {
     "data": {
      "image/png": "[encoded data removed]",
      "text/plain": [
       "<IPython.core.display.Image object>"
      ]
     },
     "metadata": {},
     "output_type": "display_data"
    }
   ],
   "source": [
    "from langgraph.checkpoint.memory import MemorySaver\n",
    "from langgraph.graph import START, StateGraph, END\n",
    "from langgraph.prebuilt import tools_condition, ToolNode\n",
    "from IPython.display import Image, display\n",
    "\n",
    "builder = StateGraph(MessagesState)\n",
    "\n",
    "## Define the node\n",
    "builder.add_node(\"assistant\",assistant)\n",
    "builder.add_node(\"human_feedback\",human_feedback)\n",
    "builder.add_node(\"tools\",ToolNode(tools))\n",
    "# Define edges\n",
    "builder.add_edge(START,\"assistant\")\n",
    "builder.add_edge(\"assistant\",\"tools\")\n",
    "builder.add_edge(\"tools\",\"human_feedback\")\n",
    "builder.add_conditional_edges(\n",
    "    \"human_feedback\", custom_condition, {\"tools\": \"tools\", END: END}\n",
    ")\n",
    "# builder.add_conditional_edges(\n",
    "#     \"human_feedback\",tools_condition,[\"tools\",END]\n",
    "# )\n",
    "\n",
    "#workflow.add_conditional_edges(\"generate_joke\",check_punchline,{\"Fail\":\"improve_joke\",\"Pass\":END})\n",
    "\n",
    "# Set up memory\n",
    "memory = MemorySaver()\n",
    "# Compile the graph with memory\n",
    "scienceBlogCreator = builder.compile(interrupt_before=[\"human_feedback\"],checkpointer=memory)\n",
    "\n",
    "# Show\n",
    "display(Image(scienceBlogCreator.get_graph().draw_mermaid_png()))"
   ]
  },
  {
   "cell_type": "markdown",
   "metadata": {},
   "source": [
    "## Using the Agent\n",
    "\n",
    "#### First call to use the Arxiv tool"
   ]
  },
  {
   "cell_type": "markdown",
   "metadata": {},
   "source": [
    "#### Invoking the llm"
   ]
  },
  {
   "cell_type": "code",
   "execution_count": 11,
   "metadata": {},
   "outputs": [
    {
     "name": "stdout",
     "output_type": "stream",
     "text": [
      "================================\u001b[1m Human Message \u001b[0m=================================\n",
      "\n",
      "GANs\n",
      "==================================\u001b[1m Ai Message \u001b[0m==================================\n",
      "Tool Calls:\n",
      "  arxiv_search (call_pUPecDFYkAICO3AURmzUwQyu)\n",
      " Call ID: call_pUPecDFYkAICO3AURmzUwQyu\n",
      "  Args:\n",
      "    query: GANs\n",
      "Title: Generative Adversarial Networks and Adversarial Autoencoders: Tutorial and Survey\n",
      "Published: 2021-11-26\n",
      "Authors: Benyamin Ghojogh, Ali Ghodsi, Fakhri Karray, Mark Crowley\n",
      "\n",
      "Summary: This is a tutorial and survey paper on Generative Adversarial Network (GAN),\n",
      "adversarial autoencoders, and their variants. We start with explaining\n",
      "adversarial learning and the vanilla GAN. Then, we explain the conditional GAN\n",
      "and DCGAN. The mode col\n",
      "\n",
      "PDF url: http://arxiv.org/abs/2111.13282v1\n",
      "\n",
      "=================================\u001b[1m Tool Message \u001b[0m=================================\n",
      "Name: arxiv_search\n",
      "\n",
      "[Document(metadata={'Published': '2021-11-26', 'Title': 'Generative Adversarial Networks and Adversarial Autoencoders: Tutorial and Survey', 'Authors': 'Benyamin Ghojogh, Ali Ghodsi, Fakhri Karray, Mark Crowley', 'Summary': 'This is a tutorial and survey paper on Generative Adversarial Network (GAN),\\nadversarial autoencoders, and their variants. We start with explaining\\nadversarial learning and the vanilla GAN. Then, we explain the conditional GAN\\nand DCGAN. The mode collapse problem is introduced and various methods,\\nincluding minibatch GAN, unrolled GAN, BourGAN, mixture GAN, D2GAN, and\\nWasserstein GAN, are introduced for resolving this problem. Then, maximum\\nlikelihood estimation in GAN are explained along with f-GAN, adversarial\\nvariational Bayes, and Bayesian GAN. Then, we cover feature matching in GAN,\\nInfoGAN, GRAN, LSGAN, energy-based GAN, CatGAN, MMD GAN, LapGAN, progressive\\nGAN, triple GAN, LAG, GMAN, AdaGAN, CoGAN, inverse GAN, BiGAN, ALI, SAGAN,\\nFew-shot GAN, SinGAN, and interpolation and evaluation of GAN. Then, we\\nintroduce some applications of GAN such as image-to-image translation\\n(including PatchGAN, CycleGAN, DeepFaceDrawing, simulated GAN, interactive\\nGAN), text-to-image translation (including StackGAN), and mixing image\\ncharacteristics (including FineGAN and MixNMatch). Finally, we explain the\\nautoencoders based on adversarial learning including adversarial autoencoder,\\nPixelGAN, and implicit autoencoder.', 'entry_id': 'http://arxiv.org/abs/2111.13282v1', 'published_first_time': '2021-11-26', 'comment': 'To appear as a part of an upcoming textbook on dimensionality\\n  reduction and manifold learning', 'journal_ref': None, 'doi': None, 'primary_category': 'cs.LG', 'categories': ['cs.LG', 'cs.CV', 'eess.IV', 'stat.ML'], 'links': ['http://arxiv.org/abs/2111.13282v1', 'http://arxiv.org/pdf/2111.13282v1']}, page_content='To appear as a part of an upcoming textbook on dimensionality reduction and manifold learning.\\nGenerative Adversarial Networks and Adversarial Autoencoders:\\nTutorial and Survey\\nBenyamin Ghojogh\\nBGHOJOGH@UWATERLOO.CA\\nDepartment of Electrical and Computer Engineering,\\nMachine Learning Laboratory, University of Waterloo, Waterloo, ON, Canada\\nAli Ghodsi\\nALI.GHODSI@UWATERLOO.CA\\nDepartment of Statistics and Actuarial Science & David R. Cheriton School of Computer Science,\\nData Analytics Laboratory, Un')]\n"
     ]
    }
   ],
   "source": [
    "# Input\n",
    "# user_input=input(\"What do you want to research about?\")\n",
    "user_input=\"GANs\"\n",
    "messages = {\"messages\": HumanMessage(content=user_input)}\n",
    "\n",
    "thread={\"configurable\":{\"thread_id\":\"arxiv_call_1\"}}\n",
    "# messages = scienceBlogCreator.invoke({\"messages\":messages})\n",
    "# messages={'messages':HumanMessage(content=messages)}\n",
    "# scienceBlogCreator.stream(messages,thread,stream_mode=\"values\")\n",
    "for event in scienceBlogCreator.stream(messages,thread,stream_mode=\"values\"):\n",
    "    event['messages'][-1].pretty_print()\n"
   ]
  },
  {
   "cell_type": "code",
   "execution_count": 12,
   "metadata": {},
   "outputs": [
    {
     "name": "stdout",
     "output_type": "stream",
     "text": [
      "================================\u001b[1m Human Message \u001b[0m=================================\n",
      "\n",
      "GANs\n",
      "==================================\u001b[1m Ai Message \u001b[0m==================================\n",
      "Tool Calls:\n",
      "  arxiv_search (call_pUPecDFYkAICO3AURmzUwQyu)\n",
      " Call ID: call_pUPecDFYkAICO3AURmzUwQyu\n",
      "  Args:\n",
      "    query: GANs\n",
      "=================================\u001b[1m Tool Message \u001b[0m=================================\n",
      "Name: arxiv_search\n",
      "\n",
      "[Document(metadata={'Published': '2021-11-26', 'Title': 'Generative Adversarial Networks and Adversarial Autoencoders: Tutorial and Survey', 'Authors': 'Benyamin Ghojogh, Ali Ghodsi, Fakhri Karray, Mark Crowley', 'Summary': 'This is a tutorial and survey paper on Generative Adversarial Network (GAN),\\nadversarial autoencoders, and their variants. We start with explaining\\nadversarial learning and the vanilla GAN. Then, we explain the conditional GAN\\nand DCGAN. The mode collapse problem is introduced and various methods,\\nincluding minibatch GAN, unrolled GAN, BourGAN, mixture GAN, D2GAN, and\\nWasserstein GAN, are introduced for resolving this problem. Then, maximum\\nlikelihood estimation in GAN are explained along with f-GAN, adversarial\\nvariational Bayes, and Bayesian GAN. Then, we cover feature matching in GAN,\\nInfoGAN, GRAN, LSGAN, energy-based GAN, CatGAN, MMD GAN, LapGAN, progressive\\nGAN, triple GAN, LAG, GMAN, AdaGAN, CoGAN, inverse GAN, BiGAN, ALI, SAGAN,\\nFew-shot GAN, SinGAN, and interpolation and evaluation of GAN. Then, we\\nintroduce some applications of GAN such as image-to-image translation\\n(including PatchGAN, CycleGAN, DeepFaceDrawing, simulated GAN, interactive\\nGAN), text-to-image translation (including StackGAN), and mixing image\\ncharacteristics (including FineGAN and MixNMatch). Finally, we explain the\\nautoencoders based on adversarial learning including adversarial autoencoder,\\nPixelGAN, and implicit autoencoder.', 'entry_id': 'http://arxiv.org/abs/2111.13282v1', 'published_first_time': '2021-11-26', 'comment': 'To appear as a part of an upcoming textbook on dimensionality\\n  reduction and manifold learning', 'journal_ref': None, 'doi': None, 'primary_category': 'cs.LG', 'categories': ['cs.LG', 'cs.CV', 'eess.IV', 'stat.ML'], 'links': ['http://arxiv.org/abs/2111.13282v1', 'http://arxiv.org/pdf/2111.13282v1']}, page_content='To appear as a part of an upcoming textbook on dimensionality reduction and manifold learning.\\nGenerative Adversarial Networks and Adversarial Autoencoders:\\nTutorial and Survey\\nBenyamin Ghojogh\\nBGHOJOGH@UWATERLOO.CA\\nDepartment of Electrical and Computer Engineering,\\nMachine Learning Laboratory, University of Waterloo, Waterloo, ON, Canada\\nAli Ghodsi\\nALI.GHODSI@UWATERLOO.CA\\nDepartment of Statistics and Actuarial Science & David R. Cheriton School of Computer Science,\\nData Analytics Laboratory, Un')]\n"
     ]
    }
   ],
   "source": [
    "new_state = scienceBlogCreator.get_state(thread).values\n",
    "for m in new_state['messages']:\n",
    "    m.pretty_print()"
   ]
  },
  {
   "cell_type": "code",
   "execution_count": 13,
   "metadata": {},
   "outputs": [
    {
     "data": {
      "text/plain": [
       "('human_feedback',)"
      ]
     },
     "execution_count": 13,
     "metadata": {},
     "output_type": "execute_result"
    }
   ],
   "source": [
    "scienceBlogCreator.get_state(thread).next"
   ]
  },
  {
   "cell_type": "code",
   "execution_count": 14,
   "metadata": {},
   "outputs": [
    {
     "data": {
      "text/plain": [
       "(PregelTask(id='c4fc986e-3ea1-b93e-6138-e61deac63fe2', name='human_feedback', path=('__pregel_pull', 'human_feedback'), error=None, interrupts=(), state=None, result=None),)"
      ]
     },
     "execution_count": 14,
     "metadata": {},
     "output_type": "execute_result"
    }
   ],
   "source": [
    "scienceBlogCreator.get_state(thread).tasks"
   ]
  },
  {
   "cell_type": "markdown",
   "metadata": {},
   "source": [
    "## Human Feedback"
   ]
  },
  {
   "cell_type": "markdown",
   "metadata": {},
   "source": [
    "#### Update the state asking to the user if they want to research a topic in wikipedia"
   ]
  },
  {
   "cell_type": "code",
   "execution_count": 16,
   "metadata": {},
   "outputs": [
    {
     "name": "stdout",
     "output_type": "stream",
     "text": [
      "================================\u001b[1m Human Message \u001b[0m=================================\n",
      "\n",
      "yes, research what is a network in machine learning using wikipedia\n",
      "==================================\u001b[1m Ai Message \u001b[0m==================================\n",
      "Tool Calls:\n",
      "  wikipedia (call_aQTR2QBDxGG7OLFlXT9aZBEw)\n",
      " Call ID: call_aQTR2QBDxGG7OLFlXT9aZBEw\n",
      "  Args:\n",
      "    query: network in machine learning\n",
      "=================================\u001b[1m Tool Message \u001b[0m=================================\n",
      "Name: wikipedia\n",
      "\n",
      "Page: Machine learning\n",
      "Summary: Machine learning (ML) is a field of study in artificial intelligence concerned with the development and study of statistical algorithms that can learn from data and generalize to unseen data, and thus perform tasks wit\n"
     ]
    }
   ],
   "source": [
    "# user_input=input(\"Do you want to clarify any term by using Wikipedia?\")\n",
    "user_input=\"yes, research what is a network in machine learning using wikipedia\"\n",
    "scienceBlogCreator.update_state(\n",
    "    thread,\n",
    "    {\"messages\": [\n",
    "        SystemMessage(content=\"\"\"Based on the next user answer, decide if you should return to the tools \n",
    "                      node to make a wikipedia search or if you should go to END.\"\"\"),\n",
    "        HumanMessage(content=user_input)\n",
    "    ]},\n",
    "    #  as_node=\"human_feedback\"\n",
    ")\n",
    "\n",
    "for event in scienceBlogCreator.stream(messages,thread,stream_mode=\"values\"):\n",
    "    event['messages'][-1].pretty_print()"
   ]
  },
  {
   "cell_type": "code",
   "execution_count": 17,
   "metadata": {},
   "outputs": [
    {
     "name": "stdout",
     "output_type": "stream",
     "text": [
      "================================\u001b[1m Human Message \u001b[0m=================================\n",
      "\n",
      "GANs\n",
      "==================================\u001b[1m Ai Message \u001b[0m==================================\n",
      "Tool Calls:\n",
      "  arxiv_search (call_pUPecDFYkAICO3AURmzUwQyu)\n",
      " Call ID: call_pUPecDFYkAICO3AURmzUwQyu\n",
      "  Args:\n",
      "    query: GANs\n",
      "=================================\u001b[1m Tool Message \u001b[0m=================================\n",
      "Name: arxiv_search\n",
      "\n",
      "[Document(metadata={'Published': '2021-11-26', 'Title': 'Generative Adversarial Networks and Adversarial Autoencoders: Tutorial and Survey', 'Authors': 'Benyamin Ghojogh, Ali Ghodsi, Fakhri Karray, Mark Crowley', 'Summary': 'This is a tutorial and survey paper on Generative Adversarial Network (GAN),\\nadversarial autoencoders, and their variants. We start with explaining\\nadversarial learning and the vanilla GAN. Then, we explain the conditional GAN\\nand DCGAN. The mode collapse problem is introduced and various methods,\\nincluding minibatch GAN, unrolled GAN, BourGAN, mixture GAN, D2GAN, and\\nWasserstein GAN, are introduced for resolving this problem. Then, maximum\\nlikelihood estimation in GAN are explained along with f-GAN, adversarial\\nvariational Bayes, and Bayesian GAN. Then, we cover feature matching in GAN,\\nInfoGAN, GRAN, LSGAN, energy-based GAN, CatGAN, MMD GAN, LapGAN, progressive\\nGAN, triple GAN, LAG, GMAN, AdaGAN, CoGAN, inverse GAN, BiGAN, ALI, SAGAN,\\nFew-shot GAN, SinGAN, and interpolation and evaluation of GAN. Then, we\\nintroduce some applications of GAN such as image-to-image translation\\n(including PatchGAN, CycleGAN, DeepFaceDrawing, simulated GAN, interactive\\nGAN), text-to-image translation (including StackGAN), and mixing image\\ncharacteristics (including FineGAN and MixNMatch). Finally, we explain the\\nautoencoders based on adversarial learning including adversarial autoencoder,\\nPixelGAN, and implicit autoencoder.', 'entry_id': 'http://arxiv.org/abs/2111.13282v1', 'published_first_time': '2021-11-26', 'comment': 'To appear as a part of an upcoming textbook on dimensionality\\n  reduction and manifold learning', 'journal_ref': None, 'doi': None, 'primary_category': 'cs.LG', 'categories': ['cs.LG', 'cs.CV', 'eess.IV', 'stat.ML'], 'links': ['http://arxiv.org/abs/2111.13282v1', 'http://arxiv.org/pdf/2111.13282v1']}, page_content='To appear as a part of an upcoming textbook on dimensionality reduction and manifold learning.\\nGenerative Adversarial Networks and Adversarial Autoencoders:\\nTutorial and Survey\\nBenyamin Ghojogh\\nBGHOJOGH@UWATERLOO.CA\\nDepartment of Electrical and Computer Engineering,\\nMachine Learning Laboratory, University of Waterloo, Waterloo, ON, Canada\\nAli Ghodsi\\nALI.GHODSI@UWATERLOO.CA\\nDepartment of Statistics and Actuarial Science & David R. Cheriton School of Computer Science,\\nData Analytics Laboratory, Un')]\n",
      "================================\u001b[1m System Message \u001b[0m================================\n",
      "\n",
      "Based on the next user answer, decide if you should return to the tools \n",
      "                      node to make a wikipedia search or if you should go to END.\n",
      "================================\u001b[1m Human Message \u001b[0m=================================\n",
      "\n",
      "yes, research what is a network in machine learning using wikipedia\n",
      "==================================\u001b[1m Ai Message \u001b[0m==================================\n",
      "Tool Calls:\n",
      "  wikipedia (call_aQTR2QBDxGG7OLFlXT9aZBEw)\n",
      " Call ID: call_aQTR2QBDxGG7OLFlXT9aZBEw\n",
      "  Args:\n",
      "    query: network in machine learning\n",
      "=================================\u001b[1m Tool Message \u001b[0m=================================\n",
      "Name: wikipedia\n",
      "\n",
      "Page: Machine learning\n",
      "Summary: Machine learning (ML) is a field of study in artificial intelligence concerned with the development and study of statistical algorithms that can learn from data and generalize to unseen data, and thus perform tasks wit\n"
     ]
    }
   ],
   "source": [
    "new_state = scienceBlogCreator.get_state(thread).values\n",
    "for m in new_state['messages']:\n",
    "    m.pretty_print()"
   ]
  },
  {
   "cell_type": "code",
   "execution_count": 18,
   "metadata": {},
   "outputs": [
    {
     "data": {
      "text/plain": [
       "('human_feedback',)"
      ]
     },
     "execution_count": 18,
     "metadata": {},
     "output_type": "execute_result"
    }
   ],
   "source": [
    "scienceBlogCreator.get_state(thread).next"
   ]
  },
  {
   "cell_type": "code",
   "execution_count": 20,
   "metadata": {},
   "outputs": [
    {
     "name": "stdout",
     "output_type": "stream",
     "text": [
      "================================\u001b[1m Human Message \u001b[0m=================================\n",
      "\n",
      "yes, research who created the adversarial architecture\n",
      "==================================\u001b[1m Ai Message \u001b[0m==================================\n",
      "Tool Calls:\n",
      "  wikipedia (call_7t5noxfJDFY4w6mtwJaGTxmD)\n",
      " Call ID: call_7t5noxfJDFY4w6mtwJaGTxmD\n",
      "  Args:\n",
      "    query: adversarial architecture\n",
      "=================================\u001b[1m Tool Message \u001b[0m=================================\n",
      "Name: wikipedia\n",
      "\n",
      "Page: Generative adversarial network\n",
      "Summary: A generative adversarial network (GAN) is a class of machine learning frameworks and a prominent framework for approaching generative artificial intelligence. The concept was initially developed by Ian Go\n"
     ]
    }
   ],
   "source": [
    "# Input\n",
    "# user_input=input(\"Do you want to research another term in wiki?\")\n",
    "user_input=\"yes, research who created the adversarial architecture\"\n",
    "scienceBlogCreator.update_state(\n",
    "    thread,\n",
    "    {\"messages\": [\n",
    "        SystemMessage(content=\"\"\"Based on the next user answer, decide if you should return to the tools \n",
    "                      node to make a wikipedia search or if you should go to END.\"\"\"),\n",
    "        # HumanMessage(content=f'{{\"arguments\": {{\"query\": \"{user_input}\"}}}}')\n",
    "        HumanMessage(content=user_input)\n",
    "    ]},\n",
    "    #  as_node=\"human_feedback\"\n",
    ")\n",
    "\n",
    "for event in scienceBlogCreator.stream(messages,thread,stream_mode=\"values\"):\n",
    "    event['messages'][-1].pretty_print()"
   ]
  },
  {
   "cell_type": "code",
   "execution_count": 21,
   "metadata": {},
   "outputs": [
    {
     "data": {
      "text/plain": [
       "('human_feedback',)"
      ]
     },
     "execution_count": 21,
     "metadata": {},
     "output_type": "execute_result"
    }
   ],
   "source": [
    "scienceBlogCreator.get_state(thread).next"
   ]
  },
  {
   "cell_type": "code",
   "execution_count": 22,
   "metadata": {},
   "outputs": [
    {
     "name": "stdout",
     "output_type": "stream",
     "text": [
      "================================\u001b[1m Human Message \u001b[0m=================================\n",
      "\n",
      "GANs\n",
      "==================================\u001b[1m Ai Message \u001b[0m==================================\n",
      "Tool Calls:\n",
      "  arxiv_search (call_pUPecDFYkAICO3AURmzUwQyu)\n",
      " Call ID: call_pUPecDFYkAICO3AURmzUwQyu\n",
      "  Args:\n",
      "    query: GANs\n",
      "=================================\u001b[1m Tool Message \u001b[0m=================================\n",
      "Name: arxiv_search\n",
      "\n",
      "[Document(metadata={'Published': '2021-11-26', 'Title': 'Generative Adversarial Networks and Adversarial Autoencoders: Tutorial and Survey', 'Authors': 'Benyamin Ghojogh, Ali Ghodsi, Fakhri Karray, Mark Crowley', 'Summary': 'This is a tutorial and survey paper on Generative Adversarial Network (GAN),\\nadversarial autoencoders, and their variants. We start with explaining\\nadversarial learning and the vanilla GAN. Then, we explain the conditional GAN\\nand DCGAN. The mode collapse problem is introduced and various methods,\\nincluding minibatch GAN, unrolled GAN, BourGAN, mixture GAN, D2GAN, and\\nWasserstein GAN, are introduced for resolving this problem. Then, maximum\\nlikelihood estimation in GAN are explained along with f-GAN, adversarial\\nvariational Bayes, and Bayesian GAN. Then, we cover feature matching in GAN,\\nInfoGAN, GRAN, LSGAN, energy-based GAN, CatGAN, MMD GAN, LapGAN, progressive\\nGAN, triple GAN, LAG, GMAN, AdaGAN, CoGAN, inverse GAN, BiGAN, ALI, SAGAN,\\nFew-shot GAN, SinGAN, and interpolation and evaluation of GAN. Then, we\\nintroduce some applications of GAN such as image-to-image translation\\n(including PatchGAN, CycleGAN, DeepFaceDrawing, simulated GAN, interactive\\nGAN), text-to-image translation (including StackGAN), and mixing image\\ncharacteristics (including FineGAN and MixNMatch). Finally, we explain the\\nautoencoders based on adversarial learning including adversarial autoencoder,\\nPixelGAN, and implicit autoencoder.', 'entry_id': 'http://arxiv.org/abs/2111.13282v1', 'published_first_time': '2021-11-26', 'comment': 'To appear as a part of an upcoming textbook on dimensionality\\n  reduction and manifold learning', 'journal_ref': None, 'doi': None, 'primary_category': 'cs.LG', 'categories': ['cs.LG', 'cs.CV', 'eess.IV', 'stat.ML'], 'links': ['http://arxiv.org/abs/2111.13282v1', 'http://arxiv.org/pdf/2111.13282v1']}, page_content='To appear as a part of an upcoming textbook on dimensionality reduction and manifold learning.\\nGenerative Adversarial Networks and Adversarial Autoencoders:\\nTutorial and Survey\\nBenyamin Ghojogh\\nBGHOJOGH@UWATERLOO.CA\\nDepartment of Electrical and Computer Engineering,\\nMachine Learning Laboratory, University of Waterloo, Waterloo, ON, Canada\\nAli Ghodsi\\nALI.GHODSI@UWATERLOO.CA\\nDepartment of Statistics and Actuarial Science & David R. Cheriton School of Computer Science,\\nData Analytics Laboratory, Un')]\n",
      "================================\u001b[1m System Message \u001b[0m================================\n",
      "\n",
      "Based on the next user answer, decide if you should return to the tools \n",
      "                      node to make a wikipedia search or if you should go to END.\n",
      "================================\u001b[1m Human Message \u001b[0m=================================\n",
      "\n",
      "yes, research what is a network in machine learning using wikipedia\n",
      "==================================\u001b[1m Ai Message \u001b[0m==================================\n",
      "Tool Calls:\n",
      "  wikipedia (call_aQTR2QBDxGG7OLFlXT9aZBEw)\n",
      " Call ID: call_aQTR2QBDxGG7OLFlXT9aZBEw\n",
      "  Args:\n",
      "    query: network in machine learning\n",
      "=================================\u001b[1m Tool Message \u001b[0m=================================\n",
      "Name: wikipedia\n",
      "\n",
      "Page: Machine learning\n",
      "Summary: Machine learning (ML) is a field of study in artificial intelligence concerned with the development and study of statistical algorithms that can learn from data and generalize to unseen data, and thus perform tasks wit\n",
      "================================\u001b[1m System Message \u001b[0m================================\n",
      "\n",
      "Based on the next user answer, decide if you should return to the tools \n",
      "                      node to make a wikipedia search or if you should go to END.\n",
      "================================\u001b[1m Human Message \u001b[0m=================================\n",
      "\n",
      "yes, research who created the adversarial architecture\n",
      "==================================\u001b[1m Ai Message \u001b[0m==================================\n",
      "Tool Calls:\n",
      "  wikipedia (call_7t5noxfJDFY4w6mtwJaGTxmD)\n",
      " Call ID: call_7t5noxfJDFY4w6mtwJaGTxmD\n",
      "  Args:\n",
      "    query: adversarial architecture\n",
      "=================================\u001b[1m Tool Message \u001b[0m=================================\n",
      "Name: wikipedia\n",
      "\n",
      "Page: Generative adversarial network\n",
      "Summary: A generative adversarial network (GAN) is a class of machine learning frameworks and a prominent framework for approaching generative artificial intelligence. The concept was initially developed by Ian Go\n"
     ]
    }
   ],
   "source": [
    "new_state = scienceBlogCreator.get_state(thread).values\n",
    "for m in new_state['messages']:\n",
    "    m.pretty_print()"
   ]
  },
  {
   "cell_type": "code",
   "execution_count": 23,
   "metadata": {},
   "outputs": [
    {
     "name": "stdout",
     "output_type": "stream",
     "text": [
      "🚨 Routing to END (Stopping Execution)\n",
      "🚨 Routing to END (Stopping Execution)\n",
      "Decision: __end__\n"
     ]
    },
    {
     "data": {
      "text/plain": [
       "()"
      ]
     },
     "execution_count": 23,
     "metadata": {},
     "output_type": "execute_result"
    }
   ],
   "source": [
    "# user_input=input(\"Do you want to research another term in wiki?\")\n",
    "user_input = \"No, I do not want to research another term in wiki\"\n",
    "\n",
    "# Properly structure the Wikipedia tool call\n",
    "tool_call = {\n",
    "    \"name\": \"wikipedia\",\n",
    "    \"arguments\": {\"query\": f\"{user_input}\"}\n",
    "}\n",
    "\n",
    "# Update state with correctly formatted tool call\n",
    "scienceBlogCreator.update_state(\n",
    "    thread,\n",
    "    {\"messages\": [\n",
    "        SystemMessage(content=\"\"\"Based on the next user answer, decide if you should return to the tools \n",
    "                      node to make a Wikipedia search or if you should go to END.\"\"\"),\n",
    "\n",
    "        # Convert dictionary to JSON string properly\n",
    "        HumanMessage(content=json.dumps(tool_call))  # ✅ Ensures correct JSON structure\n",
    "    ]},\n",
    "    as_node=\"human_feedback\"  # Ensure this node properly processes feedback\n",
    ")\n",
    "\n",
    "decision = human_feedback(scienceBlogCreator.get_state(thread).values)\n",
    "print(f\"Decision: {decision}\")\n",
    "\n",
    "scienceBlogCreator.get_state(thread).next\n",
    "# Stream execution\n",
    "# for event in scienceBlogCreator.stream(messages, thread, stream_mode=\"values\"):\n",
    "#     event['messages'][-1].pretty_print()"
   ]
  },
  {
   "cell_type": "code",
   "execution_count": null,
   "metadata": {},
   "outputs": [],
   "source": []
  },
  {
   "cell_type": "code",
   "execution_count": 25,
   "metadata": {},
   "outputs": [],
   "source": [
    "# scienceBlogCreator.get_state(thread).values"
   ]
  },
  {
   "cell_type": "code",
   "execution_count": 26,
   "metadata": {},
   "outputs": [],
   "source": [
    "# # Continue the graph execution\n",
    "# for event in scienceBlogCreator.stream(None, thread, stream_mode=\"values\"):\n",
    "#     event['messages'][-1].pretty_print()\n"
   ]
  },
  {
   "cell_type": "code",
   "execution_count": 27,
   "metadata": {},
   "outputs": [],
   "source": [
    "# state_after_feedback = scienceBlogCreator.get_state(thread).values\n",
    "# decision = tools_condition(state_after_feedback)\n",
    "# print(f\"🛠️ tools_condition decision: {decision}\")\n"
   ]
  },
  {
   "cell_type": "code",
   "execution_count": null,
   "metadata": {},
   "outputs": [],
   "source": [
    "# decision = human_feedback(scienceBlogCreator.get_state(thread).values)\n",
    "# print(f\"Decision: {decision}\")"
   ]
  },
  {
   "cell_type": "markdown",
   "metadata": {},
   "source": []
  }
 ],
 "metadata": {
  "kernelspec": {
   "display_name": "Python 3",
   "language": "python",
   "name": "python3"
  },
  "language_info": {
   "codemirror_mode": {
    "name": "ipython",
    "version": 3
   },
   "file_extension": ".py",
   "mimetype": "text/x-python",
   "name": "python",
   "nbconvert_exporter": "python",
   "pygments_lexer": "ipython3",
   "version": "3.12.0"
  }
 },
 "nbformat": 4,
 "nbformat_minor": 2
}
