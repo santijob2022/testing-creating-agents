{
 "cells": [
  {
   "cell_type": "markdown",
   "metadata": {},
   "source": [
    "## Defining the Model to use"
   ]
  },
  {
   "cell_type": "code",
   "execution_count": 1,
   "metadata": {},
   "outputs": [],
   "source": [
    "import os\n",
    "import json\n",
    "from dotenv import load_dotenv\n",
    "load_dotenv() ## aloading all the environment variable\n",
    "\n",
    "os.environ[\"LANGCHAIN_TRACING_V2\"] = \"true\"\n",
    "os.environ[\"LANGCHAIN_API_KEY\"] = os.getenv(\"LANGCHAIN_API_KEY\")\n",
    "os.environ[\"LANGCHAIN_PROJECT\"] = \"orchestrator-Synthesizer\"\n",
    "\n",
    "# os.environ[\"GROQ_API_KEY\"]=os.getenv(\"GROQ_API_KEY\")\n",
    "os.environ[\"OPENAI_API_KEY\"]=os.getenv(\"OPENAI_API_KEY\")\n",
    "\n",
    "from langchain_openai import ChatOpenAI\n",
    "from langchain_groq import ChatGroq\n",
    "from langsmith import traceable\n",
    "\n",
    "llm = ChatOpenAI(model=\"gpt-4o-mini\",temperature=0)\n",
    "# llm = ChatGroq(model=\"qwen-2.5-coder-32b\", temperature=0.7)"
   ]
  },
  {
   "cell_type": "markdown",
   "metadata": {},
   "source": [
    "## Define the Initial State"
   ]
  },
  {
   "cell_type": "code",
   "execution_count": 2,
   "metadata": {},
   "outputs": [],
   "source": [
    "from typing_extensions import TypedDict\n",
    "from typing import Annotated, List\n",
    "from langchain_core.messages import AnyMessage, HumanMessage, SystemMessage\n",
    "from langgraph.graph.message import add_messages\n",
    "from langgraph.graph import MessagesState\n",
    "from langgraph.graph import START, StateGraph, END\n",
    "\n",
    "from langgraph.checkpoint.memory import MemorySaver\n",
    "# from langgraph.prebuilt import tools_condition, ToolNode\n",
    "from IPython.display import Image, display\n"
   ]
  },
  {
   "cell_type": "code",
   "execution_count": 3,
   "metadata": {},
   "outputs": [],
   "source": [
    "from typing import Annotated, List\n",
    "from pydantic import BaseModel, Field\n",
    "import operator\n",
    "\n",
    "# Schema for structured output to use in planning\n",
    "class Article(BaseModel):\n",
    "    name: str = Field(\n",
    "        description=\"Name of the current article\",\n",
    "    )\n",
    "    description: str = Field(\n",
    "        description=\"Relevant information extracted from the current article.\",\n",
    "    )\n",
    "\n",
    "\n",
    "class Articles(BaseModel):\n",
    "    articles: List[Article] = Field(\n",
    "        description=\"\"\"URL's of the different articles that contains the information to produce a final \n",
    "        report with the information collected.\"\"\",\n",
    "    )\n",
    "\n",
    "\n",
    "# Augment the LLM with schema for structured output\n",
    "planner = llm.with_structured_output(Articles)"
   ]
  },
  {
   "cell_type": "code",
   "execution_count": 4,
   "metadata": {},
   "outputs": [],
   "source": [
    "from langgraph.constants import Send\n",
    "\n",
    "\n",
    "# Graph state\n",
    "class State(TypedDict):\n",
    "    topic: str  # Report topic\n",
    "    urls: str # urls to search for information\n",
    "    articles: list[Article]  # List of Articles\n",
    "    completed_articles: Annotated[\n",
    "        list, operator.add\n",
    "    ]  # All workers write to this key in parallel\n",
    "    final_report: str  # Final report\n",
    "\n",
    "# Worker state\n",
    "class WorkerState(TypedDict):\n",
    "    article: Article\n",
    "    completed_articles: Annotated[list, operator.add]\n",
    "\n",
    "# Nodes\n",
    "def orchestrator(state: State):\n",
    "    \"\"\"Orchestrator that will split the URL's among workers to get relevant information to the topic \n",
    "    in a parallel way.\"\"\"\n",
    "\n",
    "    # Generate queries\n",
    "    articles_urls = planner.invoke(\n",
    "        [\n",
    "            SystemMessage(content=f\"\"\"Assign the {state['urls']} containing the information in an article or articles\n",
    "                          to different workers. Each worker will collect the relevant information to the \n",
    "                          {state['topic']} in an independent way. They will pass the relevant information \n",
    "                          to the synthetizer.\"\"\"),\n",
    "        ]\n",
    "    )\n",
    "\n",
    "    print(\"Report Articles:\",articles_urls)\n",
    "\n",
    "    return {\"articles\": articles_urls.articles}\n",
    "\n",
    "def llm_call(state: WorkerState):\n",
    "    \"\"\"Worker collects the relevant information to the topic contained in the assigned URL.\"\"\"\n",
    "\n",
    "    # Generate section\n",
    "    article = llm.invoke(\n",
    "        [\n",
    "            SystemMessage(\n",
    "                content=\"\"\"From the assigned URL, collect the relevant information to the topic given by the user\"\"\"\n",
    "            ),\n",
    "            HumanMessage(\n",
    "                content=f\"Here is the section name: {state['article'].name} and description: {state['article'].description}\"\n",
    "            ),\n",
    "        ]\n",
    "    )\n",
    "    \n",
    "    return {\"completed_articles\": [article.content]}\n",
    "\n",
    "\n",
    "def synthesizer(state: State):\n",
    "    \"\"\"Synthesize full report from articles collected data.\"\"\"\n",
    "\n",
    "    # List of completed sections\n",
    "    completed_articles = state[\"completed_articles\"]\n",
    "    completed_report_articles = \"\\n\\n---\\n\\n\".join(completed_articles)\n",
    "\n",
    "    # Format completed section to str to use as context for final sections\n",
    "    completed_report_articles = llm.invoke(\n",
    "        [\n",
    "            SystemMessage(\n",
    "                content=f\"\"\"From the information collected in {completed_report_articles}, produce a coherent,\n",
    "                complete, and concise report including all the relevant information, as a summary of all the\n",
    "                information contained in the URL's relevant to the topic.\"\"\"\n",
    "            ),            \n",
    "        ]\n",
    "    )\n",
    "    \n",
    "    return {\"final_report\": completed_report_articles}\n",
    "\n",
    "\n",
    "# Conditional edge function to create llm_call workers that each write a section of the report\n",
    "def assign_workers(state: State):\n",
    "    \"\"\"Assign a worker to each URL \"\"\"\n",
    "\n",
    "    # Kick off section writing in parallel via Send() API\n",
    "    return [Send(\"llm_call\", {\"article\": s}) for s in state[\"articles\"]]\n"
   ]
  },
  {
   "cell_type": "markdown",
   "metadata": {},
   "source": [
    "## Defining the Graph"
   ]
  },
  {
   "cell_type": "code",
   "execution_count": 5,
   "metadata": {},
   "outputs": [
    {
     "data": {
      "image/png": "[encoded data removed]",
      "text/plain": [
       "<IPython.core.display.Image object>"
      ]
     },
     "metadata": {},
     "output_type": "display_data"
    }
   ],
   "source": [
    "# Build workflow\n",
    "orchestrator_worker_builder = StateGraph(State)\n",
    "\n",
    "# Add the nodes\n",
    "orchestrator_worker_builder.add_node(\"orchestrator\", orchestrator)\n",
    "orchestrator_worker_builder.add_node(\"llm_call\", llm_call)\n",
    "orchestrator_worker_builder.add_node(\"synthesizer\", synthesizer)\n",
    "\n",
    "# Add edges to connect nodes\n",
    "orchestrator_worker_builder.add_edge(START, \"orchestrator\")\n",
    "orchestrator_worker_builder.add_conditional_edges(\n",
    "    \"orchestrator\", assign_workers, [\"llm_call\"]\n",
    ")\n",
    "orchestrator_worker_builder.add_edge(\"llm_call\", \"synthesizer\")\n",
    "orchestrator_worker_builder.add_edge(\"synthesizer\", END)\n",
    "\n",
    "# Compile the workflow\n",
    "orchestrator_worker = orchestrator_worker_builder.compile()\n",
    "\n",
    "# Show the workflow\n",
    "display(Image(orchestrator_worker.get_graph().draw_mermaid_png()))\n",
    "\n",
    "# Invoke\n",
    "# state = orchestrator_worker.invoke({\"topic\": \"Create a report on NVIDIA stock\"})\n",
    "\n",
    "# from IPython.display import Markdown\n",
    "# Markdown(state[\"final_report\"])"
   ]
  },
  {
   "cell_type": "markdown",
   "metadata": {},
   "source": [
    "## Using the Agent"
   ]
  },
  {
   "cell_type": "code",
   "execution_count": 7,
   "metadata": {},
   "outputs": [
    {
     "name": "stdout",
     "output_type": "stream",
     "text": [
      "Report Articles: articles=[Article(name='Short Sellers Already Profited Over Nvidia', description=\"The article discusses how short sellers have already made significant profits from Nvidia's stock decline, highlighting the volatility and market reactions surrounding the company's performance.\"), Article(name=\"Nvidia CEO Jensen Huang's Insights\", description=\"This article features insights from Nvidia CEO Jensen Huang regarding the company's future prospects and strategies, which may impact stock performance and investor sentiment.\"), Article(name='Why IonQ Stock Got Thrashed', description=\"While primarily focused on IonQ, the article provides context on the tech sector's performance, including Nvidia, and discusses market trends that could affect Nvidia's stock.\"), Article(name='Analysts Turn Heads with Nvidia Stock Price Target Move', description=\"This article reports on analysts adjusting their price targets for Nvidia stock, reflecting changing market conditions and expectations for the company's growth.\")]\n"
     ]
    }
   ],
   "source": [
    "# Input\n",
    "# topic = input(\"Provide the topic for the report\")\n",
    "topic = \"Nvidia stock\"\n",
    "# URLs=input(\"Provide the URL's where you want to extract the information of\")\n",
    "URLs =\"\"\"https://finance.yahoo.com/video/short-sellers-already-profited-over-214233284.html\n",
    "https://finance.yahoo.com/m/4e924318-7952-351b-8ee5-336d98883fe6/nvidia-ceo-jensen-huang.html\n",
    "https://finance.yahoo.com/news/why-ionq-stock-got-thrashed-215900363.html\n",
    "https://www.thestreet.com/technology/analysts-turn-heads-with-nvidia-stock-price-target-move\n",
    "\"\"\"\n",
    "# Invoke\n",
    "state = orchestrator_worker.invoke({\"topic\": f\"{topic}\",\"urls\":f\"{URLs}\"})"
   ]
  },
  {
   "cell_type": "code",
   "execution_count": 8,
   "metadata": {},
   "outputs": [
    {
     "data": {
      "text/markdown": [
       "The recent analysis of Nvidia's stock performance reveals significant volatility, which has created opportunities for short sellers to profit from the company's stock decline. As Nvidia has faced various challenges, including market reactions to its performance, short sellers have strategically capitalized on the fluctuations in share price. This highlights the inherent risks and rewards associated with short selling, particularly in a high-profile stock like Nvidia, known for its notable ups and downs in valuation.\n",
       "\n",
       "In addition to the short selling dynamics, analysts have been revising their price targets for Nvidia's stock, reflecting a shift in sentiment regarding the company's growth prospects. These adjustments are influenced by several factors, including technological advancements, competitive pressures, and broader market trends. The changes in price targets may impact investor decisions and indicate analysts' confidence in Nvidia's future trajectory.\n",
       "\n",
       "Overall, the interplay between short selling, analyst sentiment, and market conditions underscores the complexities of investing in Nvidia and similar tech stocks, where rapid changes can lead to both significant risks and potential rewards."
      ],
      "text/plain": [
       "<IPython.core.display.Markdown object>"
      ]
     },
     "execution_count": 8,
     "metadata": {},
     "output_type": "execute_result"
    }
   ],
   "source": [
    "\n",
    "from IPython.display import Markdown\n",
    "Markdown(state[\"final_report\"].content)\n"
   ]
  },
  {
   "cell_type": "markdown",
   "metadata": {},
   "source": []
  }
 ],
 "metadata": {
  "kernelspec": {
   "display_name": "Python 3",
   "language": "python",
   "name": "python3"
  },
  "language_info": {
   "codemirror_mode": {
    "name": "ipython",
    "version": 3
   },
   "file_extension": ".py",
   "mimetype": "text/x-python",
   "name": "python",
   "nbconvert_exporter": "python",
   "pygments_lexer": "ipython3",
   "version": "3.12.0"
  }
 },
 "nbformat": 4,
 "nbformat_minor": 2
}
