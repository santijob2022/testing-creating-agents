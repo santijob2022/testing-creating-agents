{
 "cells": [
  {
   "cell_type": "markdown",
   "metadata": {},
   "source": [
    "## Defining the Model to use"
   ]
  },
  {
   "cell_type": "code",
   "execution_count": 1,
   "metadata": {},
   "outputs": [],
   "source": [
    "import os\n",
    "import json\n",
    "from dotenv import load_dotenv\n",
    "load_dotenv() ## aloading all the environment variable\n",
    "\n",
    "os.environ[\"LANGCHAIN_TRACING_V2\"] = \"true\"\n",
    "os.environ[\"LANGCHAIN_API_KEY\"] = os.getenv(\"LANGCHAIN_API_KEY\")\n",
    "os.environ[\"LANGCHAIN_PROJECT\"] = \"langgraph-Basic-code-Reviewer\"\n",
    "\n",
    "os.environ[\"GROQ_API_KEY\"]=os.getenv(\"GROQ_API_KEY\")\n",
    "# os.environ[\"OPENAI_API_KEY\"]=os.getenv(\"OPENAI_API_KEY\")\n",
    "\n",
    "from langchain_openai import ChatOpenAI\n",
    "from langchain_groq import ChatGroq\n",
    "from langsmith import traceable\n",
    "\n",
    "# llm = ChatOpenAI(model=\"gpt-4o-mini\",temperature=0)\n",
    "llm = ChatGroq(model=\"qwen-2.5-coder-32b\", temperature=0.7)"
   ]
  },
  {
   "cell_type": "markdown",
   "metadata": {},
   "source": [
    "## Defining the tools"
   ]
  },
  {
   "cell_type": "markdown",
   "metadata": {},
   "source": [
    "## Binding the tools"
   ]
  },
  {
   "cell_type": "markdown",
   "metadata": {},
   "source": [
    "## Define the Initial State"
   ]
  },
  {
   "cell_type": "code",
   "execution_count": 2,
   "metadata": {},
   "outputs": [],
   "source": [
    "from typing_extensions import TypedDict\n",
    "from typing import Annotated, List\n",
    "from langchain_core.messages import AnyMessage, HumanMessage, SystemMessage\n",
    "from langgraph.graph.message import add_messages\n",
    "from langgraph.graph import MessagesState\n",
    "from langgraph.graph import START, StateGraph, END\n",
    "\n",
    "from langgraph.checkpoint.memory import MemorySaver\n",
    "# from langgraph.prebuilt import tools_condition, ToolNode\n",
    "from IPython.display import Image, display\n"
   ]
  },
  {
   "cell_type": "code",
   "execution_count": 3,
   "metadata": {},
   "outputs": [],
   "source": [
    "class ExtendedMessagesState(TypedDict):\n",
    "    \"\"\"Extended state definition for LangGraph to ensure all keys persist.\"\"\"\n",
    "    messages: List[AnyMessage]  # Store messages\n",
    "    code: str  \n",
    "    code_segments: str\n",
    "    test_cases: str\n",
    "    test_results: str\n",
    "    feedback: str\n",
    "    ai_feedback: str\n",
    "    improved_code: str"
   ]
  },
  {
   "cell_type": "markdown",
   "metadata": {},
   "source": [
    "## Defining the graph"
   ]
  },
  {
   "cell_type": "markdown",
   "metadata": {},
   "source": [
    "#### First I define a node that will be helpful for the human feedback"
   ]
  },
  {
   "cell_type": "code",
   "execution_count": 4,
   "metadata": {},
   "outputs": [],
   "source": [
    "def receive_code(state: ExtendedMessagesState):\n",
    "    \"\"\"Receive the user code and store it in the state.\"\"\"\n",
    "    if \"messages\" not in state or not state[\"messages\"]:\n",
    "        raise ValueError(\"No messages found in the state.\")\n",
    "    code = state[\"messages\"][-1].content    \n",
    "    return {**state, \"code\": code}\n",
    "\n",
    "@traceable\n",
    "def code_segmentation(state: ExtendedMessagesState):\n",
    "    \"\"\" Analyze the code,split it in sections so that later you can produce test cases for each section\"\"\" \n",
    "\n",
    "    if \"code\" not in state:\n",
    "        raise KeyError(\"'code' is missing from state. Ensure you are providing the code first.\")\n",
    "    \n",
    "    code = state[\"code\"]\n",
    "    prompt = f\"\"\"\n",
    "    Analyze the code,split it in sections so that later you can produce test cases for each section    \n",
    "    {code}    \n",
    "    \"\"\"\n",
    "    code_segments = llm.invoke(prompt).content\n",
    "    return {**state, \"code_segments\": code_segments}   "
   ]
  },
  {
   "cell_type": "code",
   "execution_count": 5,
   "metadata": {},
   "outputs": [],
   "source": [
    "@traceable\n",
    "def produce_test_cases(state: ExtendedMessagesState):\n",
    "    \"\"\" Produce test cases for each section of the code you have previously produced\"\"\"\n",
    "    code_segments = state[\"code_segments\"]\n",
    "    prompt = f\"\"\"Produce test cases for each section of the code you have previously produced:{code_segments}\"\"\"\n",
    "    test_cases = llm.invoke(prompt).content\n",
    "    return {**state, \"test_cases\": test_cases}"
   ]
  },
  {
   "cell_type": "code",
   "execution_count": 6,
   "metadata": {},
   "outputs": [],
   "source": [
    "@traceable\n",
    "def human_feedback_add_test(state: ExtendedMessagesState):\n",
    "    # \"\"\" Define the state variable feedback by using the last Human message\"\"\"\n",
    "    # feedback = state[\"messages\"][-1].content  \n",
    "    # print(\"\\n\\n Feedback\\n\\n\",feedback)\n",
    "    # input()\n",
    "    # return {**state, \"feedback\":state.get(\"feedback\",None)}\n",
    "    \"\"\" No-op node that should be interrupted on \"\"\"\n",
    "    pass"
   ]
  },
  {
   "cell_type": "code",
   "execution_count": 7,
   "metadata": {},
   "outputs": [],
   "source": [
    "def custom_condition(state: ExtendedMessagesState):\n",
    "    \"\"\"Custom condition to check if the user has provided feedback and added test cases\"\"\"    \n",
    "    human_feedback= state[\"feedback\"]\n",
    "    print(\"\\n\\n\",human_feedback)\n",
    "    input()\n",
    "    if \"code_segmentation\" in human_feedback:\n",
    "        return \"code_segmentation\"\n",
    "    elif \"produce_test_cases\" in human_feedback:\n",
    "        return \"produce_test_cases\"\n",
    "    else:\n",
    "        return \"run_tests\""
   ]
  },
  {
   "cell_type": "code",
   "execution_count": 8,
   "metadata": {},
   "outputs": [],
   "source": [
    "@traceable\n",
    "def run_tests(state: ExtendedMessagesState):\n",
    "    \"\"\" Once all test cases are produced and added, run the tests\"\"\"\n",
    "    test_cases = state[\"test_cases\"]\n",
    "    prompt = f\"\"\"Run the tests:{test_cases}\"\"\"\n",
    "    test_results = llm.invoke(prompt).content\n",
    "    return {**state, \"test_results\": test_results}"
   ]
  },
  {
   "cell_type": "code",
   "execution_count": 9,
   "metadata": {},
   "outputs": [],
   "source": [
    "@traceable\n",
    "def analyze_failed_test(state: ExtendedMessagesState):\n",
    "    \"\"\" Analyze the failed tests and provide feedback\"\"\"\n",
    "    test_results = state[\"test_results\"]\n",
    "    prompt = f\"\"\"Analyze the failed tests and provide feedback:{test_results}\"\"\"\n",
    "    ai_feedback = llm.invoke(prompt).content\n",
    "    return {**state, \"ai_feedback\": ai_feedback}"
   ]
  },
  {
   "cell_type": "code",
   "execution_count": 10,
   "metadata": {},
   "outputs": [],
   "source": [
    "@traceable\n",
    "def improve_code(state: ExtendedMessagesState):\n",
    "    \"\"\" Improve the code based on test results\"\"\"\n",
    "    test_results = state[\"test_results\"]\n",
    "    prompt = f\"\"\"Improve the code based on test results:{test_results}\"\"\"\n",
    "    improved_code = llm.invoke(prompt).content\n",
    "    return {**state, \"improved_code\": improved_code}"
   ]
  },
  {
   "cell_type": "markdown",
   "metadata": {},
   "source": [
    "#### Then I define the graph"
   ]
  },
  {
   "cell_type": "code",
   "execution_count": 11,
   "metadata": {},
   "outputs": [
    {
     "data": {
      "image/png": "[encoded data removed]",
      "text/plain": [
       "<IPython.core.display.Image object>"
      ]
     },
     "metadata": {},
     "output_type": "display_data"
    }
   ],
   "source": [
    "builder = StateGraph(MessagesState)\n",
    "\n",
    "## Define the node\n",
    "builder.add_node(\"receive_code\",receive_code)\n",
    "builder.add_node(\"code_segmentation\",code_segmentation)\n",
    "builder.add_node(\"produce_test_cases\",produce_test_cases)\n",
    "builder.add_node(\"human_feedback_add_test\",human_feedback_add_test)\n",
    "builder.add_node(\"run_tests\",run_tests)\n",
    "builder.add_node(\"analyze_failed_test\",analyze_failed_test)\n",
    "builder.add_node(\"improve_code\",improve_code)\n",
    "# Define edges\n",
    "builder.add_edge(START,\"receive_code\")\n",
    "builder.add_edge(\"receive_code\",\"code_segmentation\")\n",
    "builder.add_edge(\"code_segmentation\",\"produce_test_cases\")\n",
    "builder.add_edge(\"produce_test_cases\",\"human_feedback_add_test\")\n",
    "builder.add_conditional_edges(\n",
    "    \"human_feedback_add_test\", custom_condition, \n",
    "    {\"code_segmentation\":\"code_segmentation\",\n",
    "    \"produce_test_cases\":\"produce_test_cases\",\n",
    "     \"run_tests\": \"run_tests\"}\n",
    ")\n",
    "builder.add_edge(\"run_tests\",\"analyze_failed_test\")\n",
    "builder.add_edge(\"analyze_failed_test\",\"improve_code\")\n",
    "builder.add_edge(\"improve_code\",END)\n",
    "\n",
    "# Set up memory\n",
    "memory = MemorySaver()\n",
    "# Compile the graph with memory\n",
    "codeReviewer = builder.compile(interrupt_before=[\"human_feedback_add_test\"],checkpointer=memory)\n",
    "\n",
    "# Show\n",
    "display(Image(codeReviewer.get_graph().draw_mermaid_png()))"
   ]
  },
  {
   "cell_type": "markdown",
   "metadata": {},
   "source": [
    "## Using the Agent\n",
    "\n",
    "#### First call to use the Arxiv tool"
   ]
  },
  {
   "cell_type": "markdown",
   "metadata": {},
   "source": [
    "#### Invoking the llm"
   ]
  },
  {
   "cell_type": "code",
   "execution_count": 12,
   "metadata": {},
   "outputs": [
    {
     "name": "stdout",
     "output_type": "stream",
     "text": [
      "================================\u001b[1m Human Message \u001b[0m=================================\n",
      "\n",
      "def divide(a, b):\n",
      "                \"Returns the division of two numbers, handling division by zero.\"\n",
      "                if b == 0:\n",
      "                    return \"Error: Division by zero is not allowed.\"\n",
      "                return a / b\n",
      "\n",
      "            def congruence(a, b, mod):\n",
      "                \"Checks if two numbers are congruent modulo 'mod'.\"\n",
      "                return (a - b) % mod == 0\n",
      "================================\u001b[1m Human Message \u001b[0m=================================\n",
      "\n",
      "def divide(a, b):\n",
      "                \"Returns the division of two numbers, handling division by zero.\"\n",
      "                if b == 0:\n",
      "                    return \"Error: Division by zero is not allowed.\"\n",
      "                return a / b\n",
      "\n",
      "            def congruence(a, b, mod):\n",
      "                \"Checks if two numbers are congruent modulo 'mod'.\"\n",
      "                return (a - b) % mod == 0\n",
      "================================\u001b[1m Human Message \u001b[0m=================================\n",
      "\n",
      "def divide(a, b):\n",
      "                \"Returns the division of two numbers, handling division by zero.\"\n",
      "                if b == 0:\n",
      "                    return \"Error: Division by zero is not allowed.\"\n",
      "                return a / b\n",
      "\n",
      "            def congruence(a, b, mod):\n",
      "                \"Checks if two numbers are congruent modulo 'mod'.\"\n",
      "                return (a - b) % mod == 0\n",
      "================================\u001b[1m Human Message \u001b[0m=================================\n",
      "\n",
      "def divide(a, b):\n",
      "                \"Returns the division of two numbers, handling division by zero.\"\n",
      "                if b == 0:\n",
      "                    return \"Error: Division by zero is not allowed.\"\n",
      "                return a / b\n",
      "\n",
      "            def congruence(a, b, mod):\n",
      "                \"Checks if two numbers are congruent modulo 'mod'.\"\n",
      "                return (a - b) % mod == 0\n"
     ]
    }
   ],
   "source": [
    "# Input\n",
    "# user_input=input(\"Provide the code for the model to analyze.\")\n",
    "user_input_code=\"\"\"def divide(a, b):\n",
    "                \"Returns the division of two numbers, handling division by zero.\"\n",
    "                if b == 0:\n",
    "                    return \"Error: Division by zero is not allowed.\"\n",
    "                return a / b\n",
    "\n",
    "            def congruence(a, b, mod):\n",
    "                \"Checks if two numbers are congruent modulo 'mod'.\"\n",
    "                return (a - b) % mod == 0\"\"\"\n",
    "\n",
    "messages = {\"messages\": [HumanMessage(content=user_input_code)]}\n",
    "thread = {\"configurable\": {\"thread_id\": \"initial_code\"}}\n",
    "\n",
    "for event in codeReviewer.stream(messages, thread, stream_mode=\"values\"):\n",
    "    event['messages'][-1].pretty_print()\n"
   ]
  },
  {
   "cell_type": "code",
   "execution_count": 13,
   "metadata": {},
   "outputs": [
    {
     "name": "stdout",
     "output_type": "stream",
     "text": [
      "('human_feedback_add_test',)\n",
      "{'messages': [HumanMessage(content='def divide(a, b):\\n                \"Returns the division of two numbers, handling division by zero.\"\\n                if b == 0:\\n                    return \"Error: Division by zero is not allowed.\"\\n                return a / b\\n\\n            def congruence(a, b, mod):\\n                \"Checks if two numbers are congruent modulo \\'mod\\'.\"\\n                return (a - b) % mod == 0', additional_kwargs={}, response_metadata={}, id='4b52a87c-727b-45cf-bf51-97236717ebf9')], 'code': 'def divide(a, b):\\n                \"Returns the division of two numbers, handling division by zero.\"\\n                if b == 0:\\n                    return \"Error: Division by zero is not allowed.\"\\n                return a / b\\n\\n            def congruence(a, b, mod):\\n                \"Checks if two numbers are congruent modulo \\'mod\\'.\"\\n                return (a - b) % mod == 0', 'code_segments': 'Certainly! Let\\'s break down the provided code into sections and prepare it for writing test cases. This approach will make it easier to validate each function individually.\\n\\n### Section 1: Division Function\\nThe `divide` function performs a division operation and handles the case where the divisor is zero.\\n\\n```python\\ndef divide(a, b):\\n    \"Returns the division of two numbers, handling division by zero.\"\\n    if b == 0:\\n        return \"Error: Division by zero is not allowed.\"\\n    return a / b\\n```\\n\\n### Section 2: Congruence Function\\nThe `congruence` function checks if two numbers are congruent modulo `mod`.\\n\\n```python\\ndef congruence(a, b, mod):\\n    \"Checks if two numbers are congruent modulo \\'mod\\'.\"\\n    return (a - b) % mod == 0\\n```\\n\\n### Test Cases for Section 1: Division Function\\n\\n1. **Test Case 1: Normal Division**\\n   - **Input:** `divide(10, 2)`\\n   - **Expected Output:** `5.0`\\n\\n2. **Test Case 2: Division by Zero**\\n   - **Input:** `divide(10, 0)`\\n   - **Expected Output:** `\"Error: Division by zero is not allowed.\"`\\n\\n3. **Test Case 3: Negative Dividend**\\n   - **Input:** `divide(-10, 2)`\\n   - **Expected Output:** `-5.0`\\n\\n4. **Test Case 4: Negative Divisor**\\n   - **Input:** `divide(10, -2)`\\n   - **Expected Output:** `-5.0`\\n\\n5. **Test Case 5: Zero Dividend**\\n   - **Input:** `divide(0, 2)`\\n   - **Expected Output:** `0.0`\\n\\n### Test Cases for Section 2: Congruence Function\\n\\n1. **Test Case 1: Basic Congruence**\\n   - **Input:** `congruence(10, 4, 3)`\\n   - **Expected Output:** `True` (since 10 ≡ 4 (mod 3))\\n\\n2. **Test Case 2: Non-Congruence**\\n   - **Input:** `congruence(10, 5, 3)`\\n   - **Expected Output:** `False` (since 10 ≢ 5 (mod 3))\\n\\n3. **Test Case 3: Congruence with Zero Modulus**\\n   - **Input:** `congruence(10, 10, 0)`\\n   - **Expected Output:** `ZeroDivisionError` or `ValueError` (since modulus by zero is undefined)\\n\\n4. **Test Case 4: Negative Numbers**\\n   - **Input:** `congruence(-10, -4, 3)`\\n   - **Expected Output:** `True` (since -10 ≡ -4 (mod 3))\\n\\n5. **Test Case 5: Large Numbers**\\n   - **Input:** `congruence(1000000, 100, 10)`\\n   - **Expected Output:** `True` (since 1000000 ≡ 100 (mod 10))\\n\\nBy splitting the code into these sections and creating test cases for each, you can ensure that both functions work correctly under various conditions.', 'test_cases': 'Certainly! Let\\'s write the test cases in a structured format using Python\\'s `unittest` framework. This will help in automating the testing process and making it easier to run and maintain.\\n\\nHere\\'s how you can structure the test cases for the provided functions:\\n\\n### Test Cases for the Division Function\\n\\n### Test Cases for the Congruence Function\\n\\n```python\\nimport unittest\\n\\ndef divide(a, b):\\n    \"Returns the division of two numbers, handling division by zero.\"\\n    if b == 0:\\n        return \"Error: Division by zero is not allowed.\"\\n    return a / b\\n\\ndef congruence(a, b, mod):\\n    \"Checks if two numbers are congruent modulo \\'mod\\'.\"\\n    if mod == 0:\\n        raise ValueError(\"Modulus by zero is undefined.\")\\n    return (a - b) % mod == 0\\n\\nclass TestMathFunctions(unittest.TestCase):\\n\\n    # Test cases for the divide function\\n    def test_divide_normal(self):\\n        self.assertEqual(divide(10, 2), 5.0)\\n\\n    def test_divide_by_zero(self):\\n        self.assertEqual(divide(10, 0), \"Error: Division by zero is not allowed.\")\\n\\n    def test_divide_negative_dividend(self):\\n        self.assertEqual(divide(-10, 2), -5.0)\\n\\n    def test_divide_negative_divisor(self):\\n        self.assertEqual(divide(10, -2), -5.0)\\n\\n    def test_divide_zero_dividend(self):\\n        self.assertEqual(divide(0, 2), 0.0)\\n\\n    # Test cases for the congruence function\\n    def test_congruence_basic(self):\\n        self.assertTrue(congruence(10, 4, 3))\\n\\n    def test_congruence_non_congruence(self):\\n        self.assertFalse(congruence(10, 5, 3))\\n\\n    def test_congruence_zero_modulus(self):\\n        with self.assertRaises(ValueError):\\n            congruence(10, 10, 0)\\n\\n    def test_congruence_negative_numbers(self):\\n        self.assertTrue(congruence(-10, -4, 3))\\n\\n    def test_congruence_large_numbers(self):\\n        self.assertTrue(congruence(1000000, 100, 10))\\n\\nif __name__ == \\'__main__\\':\\n    unittest.main()\\n```\\n\\n### Explanation:\\n\\n1. **Test Cases for the `divide` Function:**\\n   - `test_divide_normal`: Tests a normal division case.\\n   - `test_divide_by_zero`: Tests the division by zero case.\\n   - `test_divide_negative_dividend`: Tests division with a negative dividend.\\n   - `test_divide_negative_divisor`: Tests division with a negative divisor.\\n   - `test_divide_zero_dividend`: Tests division with a zero dividend.\\n\\n2. **Test Cases for the `congruence` Function:**\\n   - `test_congruence_basic`: Tests a basic congruence case.\\n   - `test_congruence_non_congruence`: Tests a non-congruence case.\\n   - `test_congruence_zero_modulus`: Tests the modulus by zero case, expecting a `ValueError`.\\n   - `test_congruence_negative_numbers`: Tests congruence with negative numbers.\\n   - `test_congruence_large_numbers`: Tests congruence with large numbers.\\n\\nThis setup ensures that each function is tested under various scenarios, including edge cases like division by zero and modulus by zero. The `unittest` framework automatically handles the execution and reporting of the test results.'}\n"
     ]
    }
   ],
   "source": [
    "print(codeReviewer.get_state(thread).next)\n",
    "print(codeReviewer.get_state(thread).values)"
   ]
  },
  {
   "cell_type": "code",
   "execution_count": 14,
   "metadata": {},
   "outputs": [
    {
     "name": "stdout",
     "output_type": "stream",
     "text": [
      "\n",
      "\n",
      " Continue. run_tests\n",
      "================================\u001b[1m Human Message \u001b[0m=================================\n",
      "\n",
      "def divide(a, b):\n",
      "                \"Returns the division of two numbers, handling division by zero.\"\n",
      "                if b == 0:\n",
      "                    return \"Error: Division by zero is not allowed.\"\n",
      "                return a / b\n",
      "\n",
      "            def congruence(a, b, mod):\n",
      "                \"Checks if two numbers are congruent modulo 'mod'.\"\n",
      "                return (a - b) % mod == 0\n",
      "================================\u001b[1m Human Message \u001b[0m=================================\n",
      "\n",
      "def divide(a, b):\n",
      "                \"Returns the division of two numbers, handling division by zero.\"\n",
      "                if b == 0:\n",
      "                    return \"Error: Division by zero is not allowed.\"\n",
      "                return a / b\n",
      "\n",
      "            def congruence(a, b, mod):\n",
      "                \"Checks if two numbers are congruent modulo 'mod'.\"\n",
      "                return (a - b) % mod == 0\n",
      "================================\u001b[1m Human Message \u001b[0m=================================\n",
      "\n",
      "def divide(a, b):\n",
      "                \"Returns the division of two numbers, handling division by zero.\"\n",
      "                if b == 0:\n",
      "                    return \"Error: Division by zero is not allowed.\"\n",
      "                return a / b\n",
      "\n",
      "            def congruence(a, b, mod):\n",
      "                \"Checks if two numbers are congruent modulo 'mod'.\"\n",
      "                return (a - b) % mod == 0\n",
      "================================\u001b[1m Human Message \u001b[0m=================================\n",
      "\n",
      "def divide(a, b):\n",
      "                \"Returns the division of two numbers, handling division by zero.\"\n",
      "                if b == 0:\n",
      "                    return \"Error: Division by zero is not allowed.\"\n",
      "                return a / b\n",
      "\n",
      "            def congruence(a, b, mod):\n",
      "                \"Checks if two numbers are congruent modulo 'mod'.\"\n",
      "                return (a - b) % mod == 0\n",
      "\n",
      "\n",
      " Final state\n",
      "\n",
      "\n",
      "def divide(a, b):\n",
      "                \"Returns the division of two numbers, handling division by zero.\"\n",
      "                if b == 0:\n",
      "                    return \"Error: Division by zero is not allowed.\"\n",
      "                return a / b\n",
      "\n",
      "            def congruence(a, b, mod):\n",
      "                \"Checks if two numbers are congruent modulo 'mod'.\"\n",
      "                return (a - b) % mod == 0\n"
     ]
    }
   ],
   "source": [
    "# \"code_segmentation\", \"produce_test_cases\",run_tests\n",
    "# human_feedback = \"Remove first section. code_segmentation\"\n",
    "#human_feedback = \"Remove the last test case. produce_test_cases\"\n",
    "human_feedback = \"Continue. run_tests\"\n",
    "\n",
    "codeReviewer.update_state(\n",
    "    thread,\n",
    "    {\"feedback\":human_feedback},as_node=\"human_feedback_add_test\"\n",
    ")\n",
    "# Stream execution with updated state\n",
    "for event in codeReviewer.stream(None, thread, stream_mode=\"values\"):\n",
    "    event['messages'][-1].pretty_print()\n",
    "\n",
    "final_state = codeReviewer.get_state(thread)[0]['messages'][-1].content\n",
    "print(\"\\n\\n Final state\\n\\n\")\n",
    "print(final_state)\n"
   ]
  },
  {
   "cell_type": "code",
   "execution_count": 15,
   "metadata": {},
   "outputs": [
    {
     "name": "stdout",
     "output_type": "stream",
     "text": [
      "tests_cases:\n",
      "\n",
      " Certainly! Let's write the test cases in a structured format using Python's `unittest` framework. This will help in automating the testing process and making it easier to run and maintain.\n",
      "\n",
      "Here's how you can structure the test cases for the provided functions:\n",
      "\n",
      "### Test Cases for the Division Function\n",
      "\n",
      "### Test Cases for the Congruence Function\n",
      "\n",
      "```python\n",
      "import unittest\n",
      "\n",
      "def divide(a, b):\n",
      "    \"Returns the division of two numbers, handling division by zero.\"\n",
      "    if b == 0:\n",
      "        return \"Error: Division by zero is not allowed.\"\n",
      "    return a / b\n",
      "\n",
      "def congruence(a, b, mod):\n",
      "    \"Checks if two numbers are congruent modulo 'mod'.\"\n",
      "    if mod == 0:\n",
      "        raise ValueError(\"Modulus by zero is undefined.\")\n",
      "    return (a - b) % mod == 0\n",
      "\n",
      "class TestMathFunctions(unittest.TestCase):\n",
      "\n",
      "    # Test cases for the divide function\n",
      "    def test_divide_normal(self):\n",
      "        self.assertEqual(divide(10, 2), 5.0)\n",
      "\n",
      "    def test_divide_by_zero(self):\n",
      "        self.assertEqual(divide(10, 0), \"Error: Division by zero is not allowed.\")\n",
      "\n",
      "    def test_divide_negative_dividend(self):\n",
      "        self.assertEqual(divide(-10, 2), -5.0)\n",
      "\n",
      "    def test_divide_negative_divisor(self):\n",
      "        self.assertEqual(divide(10, -2), -5.0)\n",
      "\n",
      "    def test_divide_zero_dividend(self):\n",
      "        self.assertEqual(divide(0, 2), 0.0)\n",
      "\n",
      "    # Test cases for the congruence function\n",
      "    def test_congruence_basic(self):\n",
      "        self.assertTrue(congruence(10, 4, 3))\n",
      "\n",
      "    def test_congruence_non_congruence(self):\n",
      "        self.assertFalse(congruence(10, 5, 3))\n",
      "\n",
      "    def test_congruence_zero_modulus(self):\n",
      "        with self.assertRaises(ValueError):\n",
      "            congruence(10, 10, 0)\n",
      "\n",
      "    def test_congruence_negative_numbers(self):\n",
      "        self.assertTrue(congruence(-10, -4, 3))\n",
      "\n",
      "    def test_congruence_large_numbers(self):\n",
      "        self.assertTrue(congruence(1000000, 100, 10))\n",
      "\n",
      "if __name__ == '__main__':\n",
      "    unittest.main()\n",
      "```\n",
      "\n",
      "### Explanation:\n",
      "\n",
      "1. **Test Cases for the `divide` Function:**\n",
      "   - `test_divide_normal`: Tests a normal division case.\n",
      "   - `test_divide_by_zero`: Tests the division by zero case.\n",
      "   - `test_divide_negative_dividend`: Tests division with a negative dividend.\n",
      "   - `test_divide_negative_divisor`: Tests division with a negative divisor.\n",
      "   - `test_divide_zero_dividend`: Tests division with a zero dividend.\n",
      "\n",
      "2. **Test Cases for the `congruence` Function:**\n",
      "   - `test_congruence_basic`: Tests a basic congruence case.\n",
      "   - `test_congruence_non_congruence`: Tests a non-congruence case.\n",
      "   - `test_congruence_zero_modulus`: Tests the modulus by zero case, expecting a `ValueError`.\n",
      "   - `test_congruence_negative_numbers`: Tests congruence with negative numbers.\n",
      "   - `test_congruence_large_numbers`: Tests congruence with large numbers.\n",
      "\n",
      "This setup ensures that each function is tested under various scenarios, including edge cases like division by zero and modulus by zero. The `unittest` framework automatically handles the execution and reporting of the test results.\n"
     ]
    }
   ],
   "source": [
    "# print(codeReviewer.get_state(thread).next)\n",
    "# print(codeReviewer.get_state(thread).values)\n",
    "# print(\"code_sements\\n\\n\",codeReviewer.get_state(thread).values[\"code_segments\"])\n",
    "print(\"tests_cases:\\n\\n\",codeReviewer.get_state(thread).values[\"test_cases\"])\n",
    "# print(\"run_tests:\\n\\n\",codeReviewer.get_state(thread).values[\"run_tests\"])"
   ]
  },
  {
   "cell_type": "code",
   "execution_count": 16,
   "metadata": {},
   "outputs": [
    {
     "data": {
      "text/plain": [
       "()"
      ]
     },
     "execution_count": 16,
     "metadata": {},
     "output_type": "execute_result"
    }
   ],
   "source": [
    "codeReviewer.get_state(thread).next"
   ]
  },
  {
   "cell_type": "code",
   "execution_count": 17,
   "metadata": {},
   "outputs": [
    {
     "data": {
      "text/plain": [
       "()"
      ]
     },
     "execution_count": 17,
     "metadata": {},
     "output_type": "execute_result"
    }
   ],
   "source": [
    "codeReviewer.get_state(thread).tasks"
   ]
  },
  {
   "cell_type": "code",
   "execution_count": 18,
   "metadata": {},
   "outputs": [
    {
     "data": {
      "text/plain": [
       "'Continue. run_tests'"
      ]
     },
     "execution_count": 18,
     "metadata": {},
     "output_type": "execute_result"
    }
   ],
   "source": [
    "codeReviewer.get_state(thread).values[\"feedback\"]"
   ]
  },
  {
   "cell_type": "markdown",
   "metadata": {},
   "source": [
    "## Human Feedback"
   ]
  },
  {
   "cell_type": "markdown",
   "metadata": {},
   "source": [
    "#### Update the state asking to the user if they want to research a topic in wikipedia"
   ]
  },
  {
   "cell_type": "code",
   "execution_count": 19,
   "metadata": {},
   "outputs": [
    {
     "ename": "NameError",
     "evalue": "name 'scienceBlogCreator' is not defined",
     "output_type": "error",
     "traceback": [
      "\u001b[31m---------------------------------------------------------------------------\u001b[39m",
      "\u001b[31mNameError\u001b[39m                                 Traceback (most recent call last)",
      "\u001b[36mCell\u001b[39m\u001b[36m \u001b[39m\u001b[32mIn[19]\u001b[39m\u001b[32m, line 3\u001b[39m\n\u001b[32m      1\u001b[39m \u001b[38;5;66;03m# user_input=input(\"Do you want to clarify any term by using Wikipedia?\")\u001b[39;00m\n\u001b[32m      2\u001b[39m user_input=\u001b[33m\"\u001b[39m\u001b[33myes, research what is a network in machine learning using wikipedia\u001b[39m\u001b[33m\"\u001b[39m\n\u001b[32m----> \u001b[39m\u001b[32m3\u001b[39m \u001b[43mscienceBlogCreator\u001b[49m.update_state(\n\u001b[32m      4\u001b[39m     thread,\n\u001b[32m      5\u001b[39m     {\u001b[33m\"\u001b[39m\u001b[33mmessages\u001b[39m\u001b[33m\"\u001b[39m: [\n\u001b[32m      6\u001b[39m         SystemMessage(content=\u001b[33m\"\"\"\u001b[39m\u001b[33mBased on the next user answer, decide if you should return to the tools \u001b[39m\n\u001b[32m      7\u001b[39m \u001b[33m                      node to make a wikipedia search or if you should proceed to create  the blog entry.\u001b[39m\u001b[33m\"\"\"\u001b[39m),\n\u001b[32m      8\u001b[39m         HumanMessage(content=user_input)\n\u001b[32m      9\u001b[39m     ]},\n\u001b[32m     10\u001b[39m     \u001b[38;5;66;03m#  as_node=\"human_feedback\"\u001b[39;00m\n\u001b[32m     11\u001b[39m )\n\u001b[32m     13\u001b[39m \u001b[38;5;28;01mfor\u001b[39;00m event \u001b[38;5;129;01min\u001b[39;00m scienceBlogCreator.stream(messages,thread,stream_mode=\u001b[33m\"\u001b[39m\u001b[33mvalues\u001b[39m\u001b[33m\"\u001b[39m):\n\u001b[32m     14\u001b[39m     event[\u001b[33m'\u001b[39m\u001b[33mmessages\u001b[39m\u001b[33m'\u001b[39m][-\u001b[32m1\u001b[39m].pretty_print()\n",
      "\u001b[31mNameError\u001b[39m: name 'scienceBlogCreator' is not defined"
     ]
    }
   ],
   "source": [
    "# user_input=input(\"Do you want to clarify any term by using Wikipedia?\")\n",
    "user_input=\"yes, research what is a network in machine learning using wikipedia\"\n",
    "scienceBlogCreator.update_state(\n",
    "    thread,\n",
    "    {\"messages\": [\n",
    "        SystemMessage(content=\"\"\"Based on the next user answer, decide if you should return to the tools \n",
    "                      node to make a wikipedia search or if you should proceed to create  the blog entry.\"\"\"),\n",
    "        HumanMessage(content=user_input)\n",
    "    ]},\n",
    "    #  as_node=\"human_feedback\"\n",
    ")\n",
    "\n",
    "for event in scienceBlogCreator.stream(messages,thread,stream_mode=\"values\"):\n",
    "    event['messages'][-1].pretty_print()"
   ]
  },
  {
   "cell_type": "code",
   "execution_count": null,
   "metadata": {},
   "outputs": [],
   "source": [
    "new_state = scienceBlogCreator.get_state(thread).values\n",
    "for m in new_state['messages']:\n",
    "    m.pretty_print()"
   ]
  },
  {
   "cell_type": "code",
   "execution_count": null,
   "metadata": {},
   "outputs": [],
   "source": [
    "scienceBlogCreator.get_state(thread).next"
   ]
  },
  {
   "cell_type": "code",
   "execution_count": null,
   "metadata": {},
   "outputs": [],
   "source": [
    "# Input\n",
    "# user_input=input(\"Do you want to research another term in wiki?\")\n",
    "user_input=\"yes, research who created the adversarial architecture\"\n",
    "scienceBlogCreator.update_state(\n",
    "    thread,\n",
    "    {\"messages\": [\n",
    "        SystemMessage(content=\"\"\"Based on the next user answer, decide if you should return to the tools \n",
    "                      node to make a wikipedia search or if you should proceed to create  the blog entry.\"\"\"),\n",
    "        # HumanMessage(content=f'{{\"arguments\": {{\"query\": \"{user_input}\"}}}}')\n",
    "        HumanMessage(content=user_input)\n",
    "    ]}\n",
    ")\n",
    "\n",
    "for event in scienceBlogCreator.stream(messages,thread,stream_mode=\"values\"):\n",
    "    event['messages'][-1].pretty_print()"
   ]
  },
  {
   "cell_type": "code",
   "execution_count": null,
   "metadata": {},
   "outputs": [],
   "source": [
    "scienceBlogCreator.get_state(thread).next"
   ]
  },
  {
   "cell_type": "code",
   "execution_count": null,
   "metadata": {},
   "outputs": [],
   "source": [
    "new_state = scienceBlogCreator.get_state(thread).values\n",
    "for m in new_state['messages']:\n",
    "    m.pretty_print()"
   ]
  },
  {
   "cell_type": "code",
   "execution_count": null,
   "metadata": {},
   "outputs": [],
   "source": [
    "# user_input=input(\"Do you want to research another term in wiki?\")\n",
    "user_input = \"No, I do not want to research another term in wiki\"\n",
    "\n",
    "scienceBlogCreator.update_state(\n",
    "    thread,\n",
    "    {\"messages\": [\n",
    "        SystemMessage(content=\"\"\"Based on the next user answer, decide if you should return to the tools \n",
    "                      node to make a wikipedia search or if you should proceed to create  the blog entry.\"\"\"),\n",
    "        # HumanMessage(content=f'{{\"arguments\": {{\"query\": \"{user_input}\"}}}}')\n",
    "        HumanMessage(content=user_input)\n",
    "    ]}\n",
    ")\n",
    "\n",
    "decision = human_feedback(scienceBlogCreator.get_state(thread).values)\n",
    "print(f\"Decision: {decision}\")\n",
    "\n",
    "scienceBlogCreator.get_state(thread).next\n",
    "# Stream execution\n",
    "# for event in scienceBlogCreator.stream(messages, thread, stream_mode=\"values\"):\n",
    "#     event['messages'][-1].pretty_print()"
   ]
  },
  {
   "cell_type": "markdown",
   "metadata": {},
   "source": [
    "## Creating the Blog entry"
   ]
  },
  {
   "cell_type": "code",
   "execution_count": null,
   "metadata": {},
   "outputs": [],
   "source": [
    "# Simulating user input (In real use, take input dynamically)\n",
    "user_input = \"Create a blog post about the second article\"\n",
    "\n",
    "scienceBlogCreator.update_state(\n",
    "        thread,\n",
    "        {\"messages\": [            \n",
    "            # HumanMessage(content=user_input),\n",
    "            SystemMessage(content=f\"\"\"The arxiv articles are ordered here: {listed_articles}.\n",
    "                          Pick the appropriate article in the list according to the number requested by the user\n",
    "                          here {user_input}.\n",
    "                          For instance, if the user wants to create a blog post about the first article,\n",
    "                          then you should create a blog post about {listed_articles[0]}.\n",
    "                          If the user wants to create a blog post about the second article,\n",
    "                          then you should create a blog post about {listed_articles[1]}, and so on                       \n",
    "                          It should be an engaging post of at most 200 words.\n",
    "                          The title of the post should be the title of the article.\n",
    "                          \"\"\")\n",
    "        ]}, as_node=\"create_blog_entry\"\n",
    "    )\n",
    "\n",
    "for event in scienceBlogCreator.stream(messages,thread,stream_mode=\"values\"):\n",
    "    event['messages'][-1].pretty_print()"
   ]
  },
  {
   "cell_type": "code",
   "execution_count": null,
   "metadata": {},
   "outputs": [],
   "source": [
    "# scienceBlogCreator.get_state(thread).next"
   ]
  },
  {
   "cell_type": "code",
   "execution_count": null,
   "metadata": {},
   "outputs": [],
   "source": [
    "# scienceBlogCreator.get_state(thread).values"
   ]
  },
  {
   "cell_type": "code",
   "execution_count": null,
   "metadata": {},
   "outputs": [],
   "source": [
    "# # Continue the graph execution\n",
    "# for event in scienceBlogCreator.stream(None, thread, stream_mode=\"values\"):\n",
    "#     event['messages'][-1].pretty_print()\n"
   ]
  },
  {
   "cell_type": "code",
   "execution_count": null,
   "metadata": {},
   "outputs": [],
   "source": [
    "state_after_feedback = scienceBlogCreator.get_state(thread).values\n",
    "decision = tools_condition(state_after_feedback)\n",
    "print(f\"🛠️ tools_condition decision: {decision}\")\n"
   ]
  },
  {
   "cell_type": "code",
   "execution_count": null,
   "metadata": {},
   "outputs": [],
   "source": [
    "\n"
   ]
  },
  {
   "cell_type": "markdown",
   "metadata": {},
   "source": []
  }
 ],
 "metadata": {
  "kernelspec": {
   "display_name": "Python 3",
   "language": "python",
   "name": "python3"
  },
  "language_info": {
   "codemirror_mode": {
    "name": "ipython",
    "version": 3
   },
   "file_extension": ".py",
   "mimetype": "text/x-python",
   "name": "python",
   "nbconvert_exporter": "python",
   "pygments_lexer": "ipython3",
   "version": "3.12.0"
  }
 },
 "nbformat": 4,
 "nbformat_minor": 2
}
