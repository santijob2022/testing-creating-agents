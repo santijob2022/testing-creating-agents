{
 "cells": [
  {
   "cell_type": "markdown",
   "id": "d2cf4985",
   "metadata": {},
   "source": [
    "### Libraries to install"
   ]
  },
  {
   "cell_type": "code",
   "execution_count": null,
   "id": "2fdf505a",
   "metadata": {},
   "outputs": [],
   "source": [
    "# First install\n",
    "# pip3 install torch torchvision torchaudio --index-url https://download.pytorch.org/whl/cu126\n",
    "\n",
    "# Then install\n",
    "# pip install -q requests bitsandbytes transformers accelerate openai httpx==0.27.2\n",
    "# pip install python-dotenv\n",
    "\n",
    "\n",
    "# Finally try, it's on windows\n",
    "# conda install conda-forge::sentencepiece\n",
    "# pip install -q sentencepiece==0.1.99"
   ]
  },
  {
   "cell_type": "markdown",
   "id": "3ad55472",
   "metadata": {},
   "source": [
    "### Importing and setting environment variable"
   ]
  },
  {
   "cell_type": "code",
   "execution_count": 1,
   "id": "83a527ae",
   "metadata": {},
   "outputs": [
    {
     "name": "stderr",
     "output_type": "stream",
     "text": [
      "c:\\Users\\Valentin\\Documents\\VJDS\\Programming\\youtube\\DaveEbbelaar\\Agents\\WorkingWithOpenSource\\HugginfaceMeetingsGeneration\\meetingMinutes\\Lib\\site-packages\\tqdm\\auto.py:21: TqdmWarning: IProgress not found. Please update jupyter and ipywidgets. See https://ipywidgets.readthedocs.io/en/stable/user_install.html\n",
      "  from .autonotebook import tqdm as notebook_tqdm\n"
     ]
    },
    {
     "data": {
      "text/plain": [
       "True"
      ]
     },
     "execution_count": 1,
     "metadata": {},
     "output_type": "execute_result"
    }
   ],
   "source": [
    "import os\n",
    "# import requests\n",
    "from IPython.display import Markdown, display\n",
    "# from openai import OpenAI\n",
    "from transformers import AutoTokenizer, AutoModelForCausalLM, TextStreamer, BitsAndBytesConfig\n",
    "import torch\n",
    "\n",
    "from dotenv import load_dotenv\n",
    "load_dotenv()\n",
    "# os.environ[\"OPENAI_API_KEY\"] = os.getenv(\"OPENAI_API_KEY\")\n",
    "# os.environ[\"HF_TOKEN\"] = os.getenv(\"HF_TOKEN\")"
   ]
  },
  {
   "cell_type": "markdown",
   "id": "81db3c6b",
   "metadata": {},
   "source": [
    "### Preparing open source transcription"
   ]
  },
  {
   "cell_type": "code",
   "execution_count": 2,
   "id": "e0bf9bc4",
   "metadata": {},
   "outputs": [
    {
     "name": "stderr",
     "output_type": "stream",
     "text": [
      "Device set to use cuda\n"
     ]
    }
   ],
   "source": [
    "from transformers import AutoModelForSpeechSeq2Seq, AutoProcessor, pipeline\n",
    "\n",
    "# AUDIO_MODEL = \"openai/whisper-medium\"\n",
    "AUDIO_MODEL = \"openai/whisper-small\"\n",
    "speech_model = AutoModelForSpeechSeq2Seq.from_pretrained(AUDIO_MODEL, torch_dtype=torch.float16, low_cpu_mem_usage=True, use_safetensors=True)\n",
    "speech_model.to('cuda')\n",
    "processor = AutoProcessor.from_pretrained(AUDIO_MODEL)\n",
    "\n",
    "pipe = pipeline(\n",
    "    \"automatic-speech-recognition\",\n",
    "    model=speech_model,\n",
    "    tokenizer=processor.tokenizer,\n",
    "    feature_extractor=processor.feature_extractor,\n",
    "    torch_dtype=torch.float16,\n",
    "    device='cuda',\n",
    ")"
   ]
  },
  {
   "cell_type": "markdown",
   "id": "bdd3b23c",
   "metadata": {},
   "source": [
    "### Defining audio file and transcribing"
   ]
  },
  {
   "cell_type": "code",
   "execution_count": 4,
   "id": "2f76e05f",
   "metadata": {},
   "outputs": [],
   "source": [
    "audio_filename = \"denver_extract.mp3\""
   ]
  },
  {
   "cell_type": "code",
   "execution_count": null,
   "id": "7de13f4b",
   "metadata": {},
   "outputs": [],
   "source": [
    "# It takes 7.5 m\n",
    "# Use the Whisper OpenAI model to convert the Audio to Text\n",
    "result = pipe(\n",
    "    audio_filename,\n",
    "    return_timestamps=True,\n",
    "    generate_kwargs={\"task\": \"transcribe\", \"language\": \"en\"}\n",
    ")\n",
    "transcription = result[\"text\"]\n",
    "print(transcription)"
   ]
  },
  {
   "cell_type": "code",
   "execution_count": 3,
   "id": "2ced9baf",
   "metadata": {},
   "outputs": [],
   "source": [
    "# transciprtion cell output: transcription\n",
    "transcription = \"and kind of the confluence of this whole idea of the Confluence Week, the merging of two rivers. And as we've kind of seen recently in politics and in the world, there's a lot of situations where water is very important right now, and it's a very big issue. So that is the reason that the back of the logo is considered water. So let me see the creation of the logo here. So that basically kind of sums up the reason behind the logo and all the meanings behind symbolism and you'll hear a little bit more about our Confluence Week is basically highlighting all of these indigenous events and things that are happening around Denver so that we can kind of bring more people together and kind of share this whole idea of Indigenous People's Day. So thank you. Thank you so much and thanks for your leadership. All right. Welcome to the Denver City Council meeting of Monday, October 9th. rise with the Pledge of Allegiance by Councilman Lopez all right thank you Councilman Lopez, Madam Secretary roll call. Black. Clark. Here. Espinosa. Here. Flynn. Gilmour. Here. Here. Cashman. Here. Kenich. Here. Lopez. Here. New. Here. Ortega. Here. Sussman. Mr. President. Here. Eleven present. Eleven members present. We do have a quorum. Approval of the minutes. Are there any corrections to the minutes of October 2nd? Seeing none, minutes of October 2nd stand approved. Council Announcements. Are there any announcements by members of council? Councilman Clark. Thank you, Mr. President. I just wanted to invite everyone down to the first ever Halloween Parade on Broadway in Lucky District 7. It will happen on Saturday, October 21st At six o'clock p.m., it'll move along Broadway from Third to Alameda. It's gonna be a fun, family-friendly event. Everyone's invited to come down, wear a costume. There'll be candy for the kids, and there are tiki zombies and 29 hearses, and all kinds of fun and funky stuff on the fun and funky part of Broadway. So please join us October 21st at six o'clock for the Broadway Halloween. Brad, thank you, Mr. President. All right, thank you, Councilman Clark. I will be there. All right, presentations. Madam Secretary, do we have any presentations? None, Mr. President. Communications, do we have any communications? None, Mr. President. We do have one proclamation this evening, Proclamation 1127, an observance of the annual Indigenous Peoples Day in the city and county of Denver. Councilman Lopez, will you please read it? Thank you, Mr. President, with pride. Proclamation number 17, well let me just say this differently. Proclamation number 1127, series of 2017, an observance of the second annual Indigenous Peoples Day in the City and County of Denver. Whereas the Council of the City and County of Denver recognizes that the indigenous peoples have lived and flourished on the lands known as the Americas since time immemorial, and that Denver and the surrounding communities are built upon the ancestral homelands of numerous indigenous tribes, which include the Southern Ute, the Ute Mountain, Ute Tribes of Colorado. And whereas the tribal homelands and seasonal encampments of the Arapahoe and Cheyenne people along the banks of the Cherry Creek and South Platte River confluence give bearing to the future settlements that would become the birthplace of the Mile High City. And whereas Colorado encompasses the ancestral homelands of 48 tribes in the city and county of Denver and surrounding communities are home to the descendants of approximately 100 tribal nations. And whereas, on October 3rd, 2016, the City and County of Denver unanimously passed Council Bill 801, Series of 2016, officially designating the second Monday of October of each year as Indigenous Peoples' Day in Denver, Colorado. And whereas, the Council of the City and County of Denver continues to recognize and value the vast contributions made to the community through indigenous people's knowledge, science, philosophy, arts, and culture, and through these contributions, the city of Denver has developed and thrived. Whereas, the indigenous community, especially you, have made great efforts this year to draw attention to the contributions of indigenous people, including Confluence Week, Drawing record attendance to a national indigenous youth leadership conference, leading conversations on inclusion with their peers and supporting increased indigenous youth participation in science and engineering. Now therefore, be it proclaimed by this council of the city and county of Denver, section one, that the council of the city and county of Denver celebrates and honors the cultural and foundational contributions of indigenous people to our history, our past, our present and future. and continues to promote the education of the Denver community about these historic and contemporary contributions of indigenous people. Section two, that the City and County of Denver, Colorado does hereby observe October 9th, 2017 as Indigenous Peoples Day. Section three, that the clerk of the City and County of Denver shall attest and affix the seal of the City and County of Denver to this proclamation and that a copy be transmitted, excuse me, to the Denver American Indian Commission, the City and County of Denver School District number one, and the Colorado Commission on Indian Affairs. Thank you, Councilman Lopez. Your motion to adopt. Mr. President, I move that proclamation number 1127, series of 2017 be adopted. All right, it has been moved and seconded. It comes by members of council. Councilman Lopez. Thank you, Mr. President. It gives me a lot of pleasure and pride to read this proclamation officially for the third time, but as Indigenous Peoples' Day in Denver, officially for the second time. It's always awesome to be able to see not just this proclamation come by my desk, but to see there's so many different people from our community in our council chambers. It was a very beautiful piece of artwork that you presented to us earlier and it is exactly the spirit that we drafted this proclamation and this actual, the ordinance that created Indigenous Peoples Day when we sat down and wrote it and as a community we couldn't think of anything else to begin except for the confluence of the two rivers and those confluence of the two rivers created such a great city. And we live in such an amazing city, and we're all proud of it, and sometimes we, and a lot of people from all over the country or all over the world are proud of it, and sometimes a little too proud of it is telling them to go back home, but I'm kidding when I say that. But the really nice thing about this is that we are celebrating Indigenous Peoples' Day out of pride for who we are, who we are as a city and the contributions of indigenous people to the city, not out of spite, not out of a replacement of one culture over the other or out of contempt or disrespect. I think of a quote that Cesar Chavez made very popular and it stuck with me for a very long time, and anytime I have the opportunity to speak in front of children, and especially children in our community that, you know, they often second-guess themselves on where they're coming from, who they are, and I always say that, you know, it's very important to be proud of who you're from. And the quote that I use from Cesar Chavez is, you know, pride in one's own culture does does not require contempt or disrespect of another, right? And that's very important. It's very important for us to recognize that, no matter who we are, where we come from in this society, that your pride in your own culture does not require the contempt or disrespect of another. And man, what a year for that to just sit on our shoulders for a while, for us to think about, right? And so I wanted to thank you all, I think the commission. There's gonna be a couple individuals that are gonna come speak. Thank you for your art, your lovely artwork, for us to see what's in your heart and what now has become, probably is gonna be a very important symbol for the community. And also just for the work, the daily work every single day. We still have a lot of brothers and sisters whose ancestors once lived in these lands freely now stand on street corners, in poverty, without access to services, without access to sobriety, or even housing, or jobs. And what a cruel way to pay back a culture that has paved the way for the city to be built upon its shores. So we have a lot of work to do. And these kind of proclamations in this day is not a day off, but it's a day on in Denver, right? And addressing those critical issues. So, I know that my colleagues are very supportive. I'm gonna ask you to support this proclamation, as I know you always have done in the past. I'm very proud of today. Oh, and we made Time Magazine and Newsweek once again, today, as being a leader in terms of the cities that are celebrating Indigenous Peoples Day. I wanted to make a point out of that. Thank you, Councilman Lopez, and thank you for sponsoring this. Councilman Martega. Mr. President, I want to ask that my name be added. I don't think I could add much more to what Councilman Lopez has shared with us. I want to thank him for bringing this forward and really just appreciate all the contributions that our Native American community has contributed to this great city and great state. I worked in the Lieutenant Governor's Office when the Commission on Indian Affairs was created and had the benefit of being able to go down to the Four Corners for a peace treaty signing ceremony between the Utes and the Comanches that had been sort of at odds with each other for about 100 years and just being able to participate in that powwow was pretty awesome. So, and for those of you who continue to participate in the annual powwow, it's such a great opportunity for everybody else to enjoy so many of the contributions of the culture. I mean, to see that the dance continues to be carried on as well as the native language from generation to generation is just so incredible because in so many cultures, people have come here and assimilated to the norms here You know the norms here, and they lose their language and and and lose a lot of the culture and in the native community That that hasn't happened that has that you know Commitment to just passing that on from generation to generation is is so important and So I'm happy to be a co-sponsor of this tonight. Thank you Thank you. All right, thank you, Councilwoman Ortega. Councilwoman Kenich. Thank you very much, and I also wanna thank my colleague for bringing this forward. And I just wanted to say a word to the artists about how beautiful and moving I thought this logo was and your description of it. And I think one of the things that is clear is the words sometimes don't convey the power of imagery or music or the other pieces that make up culture, and so I think the art is so important. And when you talked about water, I was also thinking about land, and I guess I just wanted to say thank you. Many of the Native American peoples of Colorado have been at the forefront, or actually nationally, of defending some of the public lands that have been protected over the last few years that are under attack right now. And they're places that the communities have fought to protect, but that everyone gets to enjoy. And so I just think that it's an example of where cultural preservation intersects with environmental protection, with recreation, and all of the other ways that public lands are so important. And so I think I just wanted to say thank you for that, because I think we have some very sacred places in our country that are at risk right now. And so as we celebrate, I appreciate that there's still a piece of resistance in here. And I think that I just wanna mention a solidarity, and mention a feeling of solidarity with that resistance. So thank you, and happy Confluence Week. Thank you councilman can each and see no other comments. I'll just say a couple and in a time of such divisive Ugliness and just despicable behavior from our leadership The reason I'm so supportive of indigenous people's days because it means inclusivity It means respecting all respecting those who have been silenced on purpose for a long time and whose history has not been told, and so we celebrate inclusivity in the face of such evil times, honestly.\""
   ]
  },
  {
   "cell_type": "markdown",
   "id": "a8587081",
   "metadata": {},
   "source": [
    "### Defining systemp prompt and user message"
   ]
  },
  {
   "cell_type": "code",
   "execution_count": 4,
   "id": "909b4418",
   "metadata": {},
   "outputs": [],
   "source": [
    "# system_message = \"You are an assistant that produces minutes of meetings from transcripts, with summary, key discussion points, takeaways and action items with owners, in markdown.\"\n",
    "# user_prompt = f\"Below is an extract transcript of a Denver council meeting. Please write minutes in markdown, including a summary with attendees, location and date; discussion points; takeaways; and action items with owners.\\n{transcription}\"\n",
    "\n",
    "# messages = [\n",
    "#     {\"role\": \"system\", \"content\": system_message},\n",
    "#     {\"role\": \"user\", \"content\": user_prompt}\n",
    "#   ]\n",
    "\n",
    "\n",
    "# Merge system and user prompt into a single user message. Using this with \"google/gemma-2-2b-it\"\n",
    "user_prompt = f\"\"\"\n",
    "You are an assistant that produces minutes of meetings from transcripts, with summary, key discussion points, takeaways and action items with owners, in markdown.\n",
    "\n",
    "Below is an extract transcript of a Denver council meeting. Please write minutes in markdown, including a summary with attendees, location and date; discussion points; takeaways; and action items with owners.\n",
    "\n",
    "Transcript:\n",
    "{transcription}\n",
    "\"\"\"\n",
    "\n",
    "messages = [\n",
    "    {\"role\": \"user\", \"content\": user_prompt}\n",
    "]\n"
   ]
  },
  {
   "cell_type": "markdown",
   "id": "b47f6afd",
   "metadata": {},
   "source": [
    "### Using quantization to later load the huge model"
   ]
  },
  {
   "cell_type": "code",
   "execution_count": 5,
   "id": "3d2cc293",
   "metadata": {},
   "outputs": [],
   "source": [
    "quant_config = BitsAndBytesConfig(\n",
    "    load_in_4bit=True,\n",
    "    bnb_4bit_use_double_quant=True,\n",
    "    bnb_4bit_compute_dtype=torch.bfloat16,\n",
    "    bnb_4bit_quant_type=\"nf4\"\n",
    ")"
   ]
  },
  {
   "cell_type": "markdown",
   "id": "1a8fdcf7",
   "metadata": {},
   "source": [
    "### Using the LLM to create the markdown document"
   ]
  },
  {
   "cell_type": "code",
   "execution_count": 15,
   "id": "3240a3b5",
   "metadata": {},
   "outputs": [
    {
     "name": "stderr",
     "output_type": "stream",
     "text": [
      "Loading checkpoint shards: 100%|██████████| 2/2 [00:08<00:00,  4.01s/it]\n"
     ]
    }
   ],
   "source": [
    "Model_apply_quant = \"google/gemma-2-2b-it\"\n",
    "\n",
    "def run_model(messages):\n",
    "    import gc\n",
    "    tokenizer = AutoTokenizer.from_pretrained(Model_apply_quant)\n",
    "    tokenizer.pad_token = tokenizer.eos_token\n",
    "    inputs = tokenizer.apply_chat_template(messages, return_tensors=\"pt\").to(\"cuda\")\n",
    "\n",
    "    model = AutoModelForCausalLM.from_pretrained(\n",
    "        Model_apply_quant, \n",
    "        device_map=\"auto\", \n",
    "        quantization_config=quant_config,\n",
    "        torch_dtype=torch.bfloat16\n",
    "    )\n",
    "\n",
    "    outputs = model.generate(\n",
    "        inputs,\n",
    "        max_new_tokens=500,\n",
    "        eos_token_id=tokenizer.eos_token_id,\n",
    "        repetition_penalty=1.2\n",
    "    )\n",
    "    # print(tokenizer.decode(outputs[0], skip_special_tokens=True))\n",
    "    response = tokenizer.decode(outputs[0])\n",
    "    del model, inputs, outputs\n",
    "    torch.cuda.empty_cache()\n",
    "    gc.collect()\n",
    "    return response\n",
    "\n",
    "response = run_model(messages)"
   ]
  },
  {
   "cell_type": "code",
   "execution_count": 16,
   "id": "19c61204",
   "metadata": {},
   "outputs": [
    {
     "data": {
      "text/markdown": [
       "<bos><start_of_turn>user\n",
       "You are an assistant that produces minutes of meetings from transcripts, with summary, key discussion points, takeaways and action items with owners, in markdown.\n",
       "\n",
       "Below is an extract transcript of a Denver council meeting. Please write minutes in markdown, including a summary with attendees, location and date; discussion points; takeaways; and action items with owners.\n",
       "\n",
       "Transcript:\n",
       "and kind of the confluence of this whole idea of the Confluence Week, the merging of two rivers. And as we've kind of seen recently in politics and in the world, there's a lot of situations where water is very important right now, and it's a very big issue. So that is the reason that the back of the logo is considered water. So let me see the creation of the logo here. So that basically kind of sums up the reason behind the logo and all the meanings behind symbolism and you'll hear a little bit more about our Confluence Week is basically highlighting all of these indigenous events and things that are happening around Denver so that we can kind of bring more people together and kind of share this whole idea of Indigenous People's Day. So thank you. Thank you so much and thanks for your leadership. All right. Welcome to the Denver City Council meeting of Monday, October 9th. rise with the Pledge of Allegiance by Councilman Lopez all right thank you Councilman Lopez, Madam Secretary roll call. Black. Clark. Here. Espinosa. Here. Flynn. Gilmour. Here. Here. Cashman. Here. Kenich. Here. Lopez. Here. New. Here. Ortega. Here. Sussman. Mr. President. Here. Eleven present. Eleven members present. We do have a quorum. Approval of the minutes. Are there any corrections to the minutes of October 2nd? Seeing none, minutes of October 2nd stand approved. Council Announcements. Are there any announcements by members of council? Councilman Clark. Thank you, Mr. President. I just wanted to invite everyone down to the first ever Halloween Parade on Broadway in Lucky District 7. It will happen on Saturday, October 21st At six o'clock p.m., it'll move along Broadway from Third to Alameda. It's gonna be a fun, family-friendly event. Everyone's invited to come down, wear a costume. There'll be candy for the kids, and there are tiki zombies and 29 hearses, and all kinds of fun and funky stuff on the fun and funky part of Broadway. So please join us October 21st at six o'clock for the Broadway Halloween. Brad, thank you, Mr. President. All right, thank you, Councilman Clark. I will be there. All right, presentations. Madam Secretary, do we have any presentations? None, Mr. President. Communications, do we have any communications? None, Mr. President. We do have one proclamation this evening, Proclamation 1127, an observance of the annual Indigenous Peoples Day in the city and county of Denver. Councilman Lopez, will you please read it? Thank you, Mr. President, with pride. Proclamation number 17, well let me just say this differently. Proclamation number 1127, series of 2017, an observance of the second annual Indigenous Peoples Day in the City and County of Denver. Whereas the Council of the City and County of Denver recognizes that the indigenous peoples have lived and flourished on the lands known as the Americas since time immemorial, and that Denver and the surrounding communities are built upon the ancestral homelands of numerous indigenous tribes, which include the Southern Ute, the Ute Mountain, Ute Tribes of Colorado. And whereas the tribal homelands and seasonal encampments of the Arapahoe and Cheyenne people along the banks of the Cherry Creek and South Platte River confluence give bearing to the future settlements that would become the birthplace of the Mile High City. And whereas Colorado encompasses the ancestral homelands of 48 tribes in the city and county of Denver and surrounding communities are home to the descendants of approximately 100 tribal nations. And whereas, on October 3rd, 2016, the City and County of Denver unanimously passed Council Bill 801, Series of 2016, officially designating the second Monday of October of each year as Indigenous Peoples' Day in Denver, Colorado. And whereas, the Council of the City and County of Denver continues to recognize and value the vast contributions made to the community through indigenous people's knowledge, science, philosophy, arts, and culture, and through these contributions, the city of Denver has developed and thrived. Whereas, the indigenous community, especially you, have made great efforts this year to draw attention to the contributions of indigenous people, including Confluence Week, Drawing record attendance to a national indigenous youth leadership conference, leading conversations on inclusion with their peers and supporting increased indigenous youth participation in science and engineering. Now therefore, be it proclaimed by this council of the city and county of Denver, section one, that the council of the city and county of Denver celebrates and honors the cultural and foundational contributions of indigenous people to our history, our past, our present and future. and continues to promote the education of the Denver community about these historic and contemporary contributions of indigenous people. Section two, that the City and County of Denver, Colorado does hereby observe October 9th, 2017 as Indigenous Peoples Day. Section three, that the clerk of the City and County of Denver shall attest and affix the seal of the City and County of Denver to this proclamation and that a copy be transmitted, excuse me, to the Denver American Indian Commission, the City and County of Denver School District number one, and the Colorado Commission on Indian Affairs. Thank you, Councilman Lopez. Your motion to adopt. Mr. President, I move that proclamation number 1127, series of 2017 be adopted. All right, it has been moved and seconded. It comes by members of council. Councilman Lopez. Thank you, Mr. President. It gives me a lot of pleasure and pride to read this proclamation officially for the third time, but as Indigenous Peoples' Day in Denver, officially for the second time. It's always awesome to be able to see not just this proclamation come by my desk, but to see there's so many different people from our community in our council chambers. It was a very beautiful piece of artwork that you presented to us earlier and it is exactly the spirit that we drafted this proclamation and this actual, the ordinance that created Indigenous Peoples Day when we sat down and wrote it and as a community we couldn't think of anything else to begin except for the confluence of the two rivers and those confluence of the two rivers created such a great city. And we live in such an amazing city, and we're all proud of it, and sometimes we, and a lot of people from all over the country or all over the world are proud of it, and sometimes a little too proud of it is telling them to go back home, but I'm kidding when I say that. But the really nice thing about this is that we are celebrating Indigenous Peoples' Day out of pride for who we are, who we are as a city and the contributions of indigenous people to the city, not out of spite, not out of a replacement of one culture over the other or out of contempt or disrespect. I think of a quote that Cesar Chavez made very popular and it stuck with me for a very long time, and anytime I have the opportunity to speak in front of children, and especially children in our community that, you know, they often second-guess themselves on where they're coming from, who they are, and I always say that, you know, it's very important to be proud of who you're from. And the quote that I use from Cesar Chavez is, you know, pride in one's own culture does does not require contempt or disrespect of another, right? And that's very important. It's very important for us to recognize that, no matter who we are, where we come from in this society, that your pride in your own culture does not require the contempt or disrespect of another. And man, what a year for that to just sit on our shoulders for a while, for us to think about, right? And so I wanted to thank you all, I think the commission. There's gonna be a couple individuals that are gonna come speak. Thank you for your art, your lovely artwork, for us to see what's in your heart and what now has become, probably is gonna be a very important symbol for the community. And also just for the work, the daily work every single day. We still have a lot of brothers and sisters whose ancestors once lived in these lands freely now stand on street corners, in poverty, without access to services, without access to sobriety, or even housing, or jobs. And what a cruel way to pay back a culture that has paved the way for the city to be built upon its shores. So we have a lot of work to do. And these kind of proclamations in this day is not a day off, but it's a day on in Denver, right? And addressing those critical issues. So, I know that my colleagues are very supportive. I'm gonna ask you to support this proclamation, as I know you always have done in the past. I'm very proud of today. Oh, and we made Time Magazine and Newsweek once again, today, as being a leader in terms of the cities that are celebrating Indigenous Peoples Day. I wanted to make a point out of that. Thank you, Councilman Lopez, and thank you for sponsoring this. Councilman Martega. Mr. President, I want to ask that my name be added. I don't think I could add much more to what Councilman Lopez has shared with us. I want to thank him for bringing this forward and really just appreciate all the contributions that our Native American community has contributed to this great city and great state. I worked in the Lieutenant Governor's Office when the Commission on Indian Affairs was created and had the benefit of being able to go down to the Four Corners for a peace treaty signing ceremony between the Utes and the Comanches that had been sort of at odds with each other for about 100 years and just being able to participate in that powwow was pretty awesome. So, and for those of you who continue to participate in the annual powwow, it's such a great opportunity for everybody else to enjoy so many of the contributions of the culture. I mean, to see that the dance continues to be carried on as well as the native language from generation to generation is just so incredible because in so many cultures, people have come here and assimilated to the norms here You know the norms here, and they lose their language and and and lose a lot of the culture and in the native community That that hasn't happened that has that you know Commitment to just passing that on from generation to generation is is so important and So I'm happy to be a co-sponsor of this tonight. Thank you Thank you. All right, thank you, Councilwoman Ortega. Councilwoman Kenich. Thank you very much, and I also wanna thank my colleague for bringing this forward. And I just wanted to say a word to the artists about how beautiful and moving I thought this logo was and your description of it. And I think one of the things that is clear is the words sometimes don't convey the power of imagery or music or the other pieces that make up culture, and so I think the art is so important. And when you talked about water, I was also thinking about land, and I guess I just wanted to say thank you. Many of the Native American peoples of Colorado have been at the forefront, or actually nationally, of defending some of the public lands that have been protected over the last few years that are under attack right now. And they're places that the communities have fought to protect, but that everyone gets to enjoy. And so I just think that it's an example of where cultural preservation intersects with environmental protection, with recreation, and all of the other ways that public lands are so important. And so I think I just wanted to say thank you for that, because I think we have some very sacred places in our country that are at risk right now. And so as we celebrate, I appreciate that there's still a piece of resistance in here. And I think that I just wanna mention a solidarity, and mention a feeling of solidarity with that resistance. So thank you, and happy Confluence Week. Thank you councilman can each and see no other comments. I'll just say a couple and in a time of such divisive Ugliness and just despicable behavior from our leadership The reason I'm so supportive of indigenous people's days because it means inclusivity It means respecting all respecting those who have been silenced on purpose for a long time and whose history has not been told, and so we celebrate inclusivity in the face of such evil times, honestly.<end_of_turn>\n",
       "<h2>Minutes Summary</h2>\n",
       "\n",
       "\n",
       "**Attendees:**  Eleven members of the Denver City Council were present.\n",
       "* **Council Members:** Black, Clark, Espinosa, Flynn, Gilmour, Kenich, Lopez, Ortega, Sussman, and others (names not provided).\n",
       "* **Guests:** Artists presenting the logo design. Representatives from the Denver American Indian Commission, the City and County of Denver School District #1, and the Colorado Commission on Indian Affairs.\n",
       "\n",
       "**Location:** Denver City Hall\n",
       "\n",
       "**Date:** Monday, October 9th, 2017\n",
       "\n",
       "**Summary:**\n",
       "\n",
       "The meeting focused on proclaiming Indigenous Peoples’ Day in Denver. This included reading a proclamation recognizing the historical significance of the area and honoring the contributions of indigenous people to the city. Several council members expressed appreciation for the artistic representation of the logo and highlighted the importance of inclusivity and respect for diverse cultures.\n",
       "\n",
       "**Discussion Points:**\n",
       "\n",
       "* Recognition of Indigenous Peoples’ Day in Denver.\n",
       "* Importance of acknowledging and appreciating the contributions of indigenous people to the city.\n",
       "* Celebration of Indigenous Cultures and traditions.\n",
       "* Discussion regarding the need for continued effort towards social justice and equity.\n",
       "\n",
       "**Takeaways:**\n",
       "\n",
       "* Continued recognition and celebration of Indigenous Peoples’ Day.\n",
       "* Appreciation for the role of indigenous people in shaping Denver's identity.\n",
       "* Emphasis on promoting understanding and respect among all residents.\n",
       "\n",
       "\n",
       "\n",
       "**Action Items:**\n",
       "\n",
       "* **Proclamation Adoption:** Councilmember Lopez successfully proposed and received approval for the adoption of Proclamation Number 1127, marking the official observation of Indigenous Peoples’ Day in Denver.\n",
       "* **Confluence Week Promotion:** Councilmembers encouraged further engagement with Confluence Week activities and celebrations.\n",
       "* **Continued Support for Indigenous Communities:** Councilmembers pledged ongoing support for initiatives aimed at improving the lives of indigenous people within the city.\n",
       "\n",
       "\n",
       "\n",
       "\n",
       "Let me know if you need any additional information! \n",
       "<end_of_turn><eos>"
      ],
      "text/plain": [
       "<IPython.core.display.Markdown object>"
      ]
     },
     "metadata": {},
     "output_type": "display_data"
    }
   ],
   "source": [
    "display(Markdown(response))"
   ]
  },
  {
   "cell_type": "markdown",
   "id": "2b442c43",
   "metadata": {},
   "source": [
    "# Erase"
   ]
  },
  {
   "cell_type": "markdown",
   "id": "81f959cc",
   "metadata": {},
   "source": [
    "The next section was first used to make some tests which lead to unwanted restuls. Erase after learning this."
   ]
  },
  {
   "cell_type": "code",
   "execution_count": null,
   "id": "bf61d51c",
   "metadata": {},
   "outputs": [
    {
     "data": {
      "text/plain": [
       "6817"
      ]
     },
     "execution_count": 13,
     "metadata": {},
     "output_type": "execute_result"
    }
   ],
   "source": [
    "# import torch\n",
    "# import gc\n",
    "\n",
    "# # Optional: delete objects\n",
    "# del model\n",
    "# del inputs\n",
    "# del outputs\n",
    "\n",
    "# # Clear PyTorch CUDA cache\n",
    "# torch.cuda.empty_cache()\n",
    "\n",
    "# # Also clear Python's garbage\n",
    "# gc.collect()\n"
   ]
  },
  {
   "cell_type": "code",
   "execution_count": null,
   "id": "8e461252",
   "metadata": {},
   "outputs": [],
   "source": [
    "# Model_apply_quant = \"meta-llama/Meta-Llama-3.1-8B-Instruct\" # Needs approval\n",
    "# Model_apply_quant = \"mistralai/Mistral-7B-Instruct-v0.3\" # Too large for my gpu\n",
    "# Model_apply_quant = \"microsoft/phi-2\"\n",
    "Model_apply_quant = \"google/gemma-2-2b-it\"\n",
    "\n",
    "tokenizer = AutoTokenizer.from_pretrained(Model_apply_quant)\n",
    "tokenizer.pad_token = tokenizer.eos_token\n",
    "inputs = tokenizer.apply_chat_template(messages, return_tensors=\"pt\").to(\"cuda\")\n",
    "streamer = TextStreamer(tokenizer)\n",
    "model = AutoModelForCausalLM.\\\n",
    "    from_pretrained(Model_apply_quant, \n",
    "                    device_map=\"auto\", \n",
    "                    quantization_config=quant_config,\n",
    "                    torch_dtype=torch.bfloat16\n",
    "                    )\n",
    "# outputs = model.generate(inputs, max_new_tokens=2000, streamer=streamer) # 2000 is too much for my gpu and streaming is perhaps not useful in this case\n",
    "# outputs = model.generate(inputs, max_new_tokens=500) # This initially produced sentence repetition\n",
    "\n",
    "outputs = model.generate(\n",
    "    inputs,\n",
    "    max_new_tokens=500,\n",
    "    eos_token_id=tokenizer.eos_token_id,\n",
    "    repetition_penalty=1.2\n",
    ")"
   ]
  },
  {
   "cell_type": "code",
   "execution_count": 11,
   "id": "2e0d397c",
   "metadata": {},
   "outputs": [
    {
     "data": {
      "text/markdown": [
       "<bos><start_of_turn>user\n",
       "You are an assistant that produces minutes of meetings from transcripts, with summary, key discussion points, takeaways and action items with owners, in markdown.\n",
       "\n",
       "Below is an extract transcript of a Denver council meeting. Please write minutes in markdown, including a summary with attendees, location and date; discussion points; takeaways; and action items with owners.\n",
       "\n",
       "Transcript:\n",
       "and kind of the confluence of this whole idea of the Confluence Week, the merging of two rivers. And as we've kind of seen recently in politics and in the world, there's a lot of situations where water is very important right now, and it's a very big issue. So that is the reason that the back of the logo is considered water. So let me see the creation of the logo here. So that basically kind of sums up the reason behind the logo and all the meanings behind symbolism and you'll hear a little bit more about our Confluence Week is basically highlighting all of these indigenous events and things that are happening around Denver so that we can kind of bring more people together and kind of share this whole idea of Indigenous People's Day. So thank you. Thank you so much and thanks for your leadership. All right. Welcome to the Denver City Council meeting of Monday, October 9th. rise with the Pledge of Allegiance by Councilman Lopez all right thank you Councilman Lopez, Madam Secretary roll call. Black. Clark. Here. Espinosa. Here. Flynn. Gilmour. Here. Here. Cashman. Here. Kenich. Here. Lopez. Here. New. Here. Ortega. Here. Sussman. Mr. President. Here. Eleven present. Eleven members present. We do have a quorum. Approval of the minutes. Are there any corrections to the minutes of October 2nd? Seeing none, minutes of October 2nd stand approved. Council Announcements. Are there any announcements by members of council? Councilman Clark. Thank you, Mr. President. I just wanted to invite everyone down to the first ever Halloween Parade on Broadway in Lucky District 7. It will happen on Saturday, October 21st At six o'clock p.m., it'll move along Broadway from Third to Alameda. It's gonna be a fun, family-friendly event. Everyone's invited to come down, wear a costume. There'll be candy for the kids, and there are tiki zombies and 29 hearses, and all kinds of fun and funky stuff on the fun and funky part of Broadway. So please join us October 21st at six o'clock for the Broadway Halloween. Brad, thank you, Mr. President. All right, thank you, Councilman Clark. I will be there. All right, presentations. Madam Secretary, do we have any presentations? None, Mr. President. Communications, do we have any communications? None, Mr. President. We do have one proclamation this evening, Proclamation 1127, an observance of the annual Indigenous Peoples Day in the city and county of Denver. Councilman Lopez, will you please read it? Thank you, Mr. President, with pride. Proclamation number 17, well let me just say this differently. Proclamation number 1127, series of 2017, an observance of the second annual Indigenous Peoples Day in the City and County of Denver. Whereas the Council of the City and County of Denver recognizes that the indigenous peoples have lived and flourished on the lands known as the Americas since time immemorial, and that Denver and the surrounding communities are built upon the ancestral homelands of numerous indigenous tribes, which include the Southern Ute, the Ute Mountain, Ute Tribes of Colorado. And whereas the tribal homelands and seasonal encampments of the Arapahoe and Cheyenne people along the banks of the Cherry Creek and South Platte River confluence give bearing to the future settlements that would become the birthplace of the Mile High City. And whereas Colorado encompasses the ancestral homelands of 48 tribes in the city and county of Denver and surrounding communities are home to the descendants of approximately 100 tribal nations. And whereas, on October 3rd, 2016, the City and County of Denver unanimously passed Council Bill 801, Series of 2016, officially designating the second Monday of October of each year as Indigenous Peoples' Day in Denver, Colorado. And whereas, the Council of the City and County of Denver continues to recognize and value the vast contributions made to the community through indigenous people's knowledge, science, philosophy, arts, and culture, and through these contributions, the city of Denver has developed and thrived. Whereas, the indigenous community, especially you, have made great efforts this year to draw attention to the contributions of indigenous people, including Confluence Week, Drawing record attendance to a national indigenous youth leadership conference, leading conversations on inclusion with their peers and supporting increased indigenous youth participation in science and engineering. Now therefore, be it proclaimed by this council of the city and county of Denver, section one, that the council of the city and county of Denver celebrates and honors the cultural and foundational contributions of indigenous people to our history, our past, our present and future. and continues to promote the education of the Denver community about these historic and contemporary contributions of indigenous people. Section two, that the City and County of Denver, Colorado does hereby observe October 9th, 2017 as Indigenous Peoples Day. Section three, that the clerk of the City and County of Denver shall attest and affix the seal of the City and County of Denver to this proclamation and that a copy be transmitted, excuse me, to the Denver American Indian Commission, the City and County of Denver School District number one, and the Colorado Commission on Indian Affairs. Thank you, Councilman Lopez. Your motion to adopt. Mr. President, I move that proclamation number 1127, series of 2017 be adopted. All right, it has been moved and seconded. It comes by members of council. Councilman Lopez. Thank you, Mr. President. It gives me a lot of pleasure and pride to read this proclamation officially for the third time, but as Indigenous Peoples' Day in Denver, officially for the second time. It's always awesome to be able to see not just this proclamation come by my desk, but to see there's so many different people from our community in our council chambers. It was a very beautiful piece of artwork that you presented to us earlier and it is exactly the spirit that we drafted this proclamation and this actual, the ordinance that created Indigenous Peoples Day when we sat down and wrote it and as a community we couldn't think of anything else to begin except for the confluence of the two rivers and those confluence of the two rivers created such a great city. And we live in such an amazing city, and we're all proud of it, and sometimes we, and a lot of people from all over the country or all over the world are proud of it, and sometimes a little too proud of it is telling them to go back home, but I'm kidding when I say that. But the really nice thing about this is that we are celebrating Indigenous Peoples' Day out of pride for who we are, who we are as a city and the contributions of indigenous people to the city, not out of spite, not out of a replacement of one culture over the other or out of contempt or disrespect. I think of a quote that Cesar Chavez made very popular and it stuck with me for a very long time, and anytime I have the opportunity to speak in front of children, and especially children in our community that, you know, they often second-guess themselves on where they're coming from, who they are, and I always say that, you know, it's very important to be proud of who you're from. And the quote that I use from Cesar Chavez is, you know, pride in one's own culture does does not require contempt or disrespect of another, right? And that's very important. It's very important for us to recognize that, no matter who we are, where we come from in this society, that your pride in your own culture does not require the contempt or disrespect of another. And man, what a year for that to just sit on our shoulders for a while, for us to think about, right? And so I wanted to thank you all, I think the commission. There's gonna be a couple individuals that are gonna come speak. Thank you for your art, your lovely artwork, for us to see what's in your heart and what now has become, probably is gonna be a very important symbol for the community. And also just for the work, the daily work every single day. We still have a lot of brothers and sisters whose ancestors once lived in these lands freely now stand on street corners, in poverty, without access to services, without access to sobriety, or even housing, or jobs. And what a cruel way to pay back a culture that has paved the way for the city to be built upon its shores. So we have a lot of work to do. And these kind of proclamations in this day is not a day off, but it's a day on in Denver, right? And addressing those critical issues. So, I know that my colleagues are very supportive. I'm gonna ask you to support this proclamation, as I know you always have done in the past. I'm very proud of today. Oh, and we made Time Magazine and Newsweek once again, today, as being a leader in terms of the cities that are celebrating Indigenous Peoples Day. I wanted to make a point out of that. Thank you, Councilman Lopez, and thank you for sponsoring this. Councilman Martega. Mr. President, I want to ask that my name be added. I don't think I could add much more to what Councilman Lopez has shared with us. I want to thank him for bringing this forward and really just appreciate all the contributions that our Native American community has contributed to this great city and great state. I worked in the Lieutenant Governor's Office when the Commission on Indian Affairs was created and had the benefit of being able to go down to the Four Corners for a peace treaty signing ceremony between the Utes and the Comanches that had been sort of at odds with each other for about 100 years and just being able to participate in that powwow was pretty awesome. So, and for those of you who continue to participate in the annual powwow, it's such a great opportunity for everybody else to enjoy so many of the contributions of the culture. I mean, to see that the dance continues to be carried on as well as the native language from generation to generation is just so incredible because in so many cultures, people have come here and assimilated to the norms here You know the norms here, and they lose their language and and and lose a lot of the culture and in the native community That that hasn't happened that has that you know Commitment to just passing that on from generation to generation is is so important and So I'm happy to be a co-sponsor of this tonight. Thank you Thank you. All right, thank you, Councilwoman Ortega. Councilwoman Kenich. Thank you very much, and I also wanna thank my colleague for bringing this forward. And I just wanted to say a word to the artists about how beautiful and moving I thought this logo was and your description of it. And I think one of the things that is clear is the words sometimes don't convey the power of imagery or music or the other pieces that make up culture, and so I think the art is so important. And when you talked about water, I was also thinking about land, and I guess I just wanted to say thank you. Many of the Native American peoples of Colorado have been at the forefront, or actually nationally, of defending some of the public lands that have been protected over the last few years that are under attack right now. And they're places that the communities have fought to protect, but that everyone gets to enjoy. And so I just think that it's an example of where cultural preservation intersects with environmental protection, with recreation, and all of the other ways that public lands are so important. And so I think I just wanted to say thank you for that, because I think we have some very sacred places in our country that are at risk right now. And so as we celebrate, I appreciate that there's still a piece of resistance in here. And I think that I just wanna mention a solidarity, and mention a feeling of solidarity with that resistance. So thank you, and happy Confluence Week. Thank you councilman can each and see no other comments. I'll just say a couple and in a time of such divisive Ugliness and just despicable behavior from our leadership The reason I'm so supportive of indigenous people's days because it means inclusivity It means respecting all respecting those who have been silenced on purpose for a long time and whose history has not been told, and so we celebrate inclusivity in the face of such evil times, honestly.<end_of_turn>\n",
       "<h2>Minutes of the Denver City Council Meeting</h2>\n",
       "\n",
       "**Summary:**\n",
       "\n",
       "* **Date:** Monday, October 9th, 2017\n",
       "* **Location:** Denver City Council Chambers\n",
       "* **Attendees:** 11 members present\n",
       "* **Discussion Points:** Proclamation of Indigenous Peoples' Day, Confluence Week logo and symbolism, Halloween Parade\n",
       "* **Takeaways:**  Indigenous Peoples' Day is a celebration of the contributions of indigenous people to the city and state. \n",
       "\n",
       "**Discussion Points:**\n",
       "\n",
       "* **Indigenous Peoples' Day Proclamation:** Councilman Lopez read the proclamation, highlighting the contributions of indigenous people to the city and state.\n",
       "* **Confluence Week Logo:**  Councilman Lopez praised the Confluence Week logo and its symbolism, emphasizing the importance of recognizing indigenous history and culture.\n",
       "* **Halloween Parade:** Councilman Clark announced the first-ever Halloween Parade in Lucky District 7.\n",
       "\n",
       "**Action Items:**\n",
       "\n",
       "* **Councilman Lopez:**  \n",
       "    * Continue to support Indigenous Peoples' Day.\n",
       "    * Promote the Confluence Week logo and its symbolism.\n",
       "* **Councilman Clark:**\n",
       "    * Promote the Halloween Parade.\n",
       "* **Councilman Ortega:**\n",
       "    *  Support the Indigenous Peoples' Day proclamation.\n",
       "* **Councilman Kenich:**\n",
       "    *  Support the Indigenous Peoples' Day proclamation.\n",
       "* **Councilman Martega:**\n",
       "    *  Support the Indigenous Peoples' Day proclamation.\n",
       "* **Councilman Sussman:**\n",
       "    *  Support the Indigenous Peoples' Day proclamation.\n",
       "* **Councilman Flynn:**\n",
       "    *  Support the Indigenous Peoples' Day proclamation.\n",
       "* **Councilman Gilmour:**\n",
       "    *  Support the Indigenous Peoples' Day proclamation.\n",
       "* **Councilman Cashman:**\n",
       "    *  Support the Indigenous Peoples' Day proclamation.\n",
       "* **Councilman Black:**\n",
       "    *  Support the Indigenous Peoples' Day proclamation.\n",
       "* **Councilwoman Espinosa:**\n",
       "    *  Support the Indigenous Peoples' Day proclamation.\n",
       "* **Councilwoman Kenich:**\n",
       "    *  Support the Indigenous Peoples' Day proclamation.\n",
       "* **Councilwoman Sussman:**\n",
       "    *  Support the Indigenous Peoples' Day proclamation.\n",
       "* **Councilwoman Ortega:**\n",
       "    *  Support the Indigenous Peoples' Day proclamation.\n",
       "* **Councilman Lopez:**\n",
       "    *  Continue to support Indigenous Peoples' Day.\n",
       "* **Councilman Martega:**\n",
       "    *  Continue to support Indigenous Peoples' Day.\n",
       "* **Councilman Black:**\n",
       "    *  Continue to support Indigenous Peoples' Day.\n",
       "* **Councilwoman Kenich:**\n",
       "    *  Continue to support Indigenous Peoples' Day.\n",
       "* **Councilwoman Sussman:**\n",
       "    *  Continue to support Indigenous Peoples' Day.\n",
       "* **Councilwoman Ortega:**\n",
       "    *  Continue to support Indigenous Peoples' Day.\n",
       "\n",
       "**Notes:**\n",
       "\n",
       "* The minutes do not include specific details about the Confluence Week logo or the artwork presented. \n",
       "* The minutes do not include any discussion about the specific contributions of indigenous people to the city. \n",
       "* The minutes do not include any discussion about the specific contributions of indigenous people to the state. \n",
       "* The minutes do not include any discussion about the specific contributions of indigenous people to the state. \n",
       "* The minutes do not include any discussion about the specific contributions of indigenous people to the state. \n",
       "* The minutes do not include any discussion about the specific contributions of indigenous people to the state. \n",
       "* The minutes do not include any discussion about the specific contributions of indigenous people to the state. \n",
       "* The minutes do not include any discussion about the specific contributions of indigenous people to the state. \n",
       "* The minutes do not include any discussion about the specific contributions of indigenous people to the state. \n",
       "* The minutes do not include any discussion about the specific contributions of indigenous people to the state. \n",
       "* The minutes do not include any discussion about the specific contributions of indigenous people to the state. \n",
       "* The minutes do not include any discussion about the specific contributions of indigenous people to the state. \n",
       "* The minutes do not include any discussion about the specific contributions of indigenous people to the state. \n",
       "* The minutes do not include any discussion about the specific contributions of indigenous people to the state. \n",
       "* The minutes do not include any discussion about the specific contributions of indigenous people to the state. \n",
       "* The minutes do not include any discussion about the specific contributions of indigenous people to the state. \n",
       "* The minutes do not include any discussion about the specific contributions of indigenous people to the state. \n",
       "* The minutes do not include any discussion about the specific contributions of indigenous people to the state. \n",
       "* The minutes do not include any discussion about the specific contributions of indigenous people to the state. \n",
       "* The minutes do not include any discussion about the specific contributions of indigenous people to the state. \n",
       "* The minutes do not include any discussion about the specific contributions of indigenous people to the state. \n",
       "* The minutes do not include any discussion about the specific contributions of indigenous people to the state. \n",
       "* The minutes do not include any discussion about the specific contributions of indigenous people to the state. \n",
       "* The minutes do not include any discussion about the specific contributions of indigenous people to the state. \n",
       "* The minutes do not include any discussion about the specific contributions of indigenous people to the state. \n",
       "* The minutes do not include any discussion about the specific contributions of indigenous people to the state. \n",
       "* The minutes do not include any discussion about the specific contributions of indigenous people to the state. \n",
       "* The minutes do not include any discussion about the specific contributions of indigenous people to the state. \n",
       "* The minutes do not include any discussion about the specific contributions of indigenous people to the state. \n",
       "* The minutes do not include any discussion about the specific contributions of indigenous people to the state. \n",
       "* The minutes do not include any discussion about the specific contributions of indigenous people to the state. \n",
       "* The minutes do not include any discussion about the specific contributions of indigenous people to the state. \n",
       "* The minutes do not include any discussion about the specific contributions of indigenous people to the state. \n",
       "* The minutes do not include any discussion about the specific contributions of indigenous people to the state. \n",
       "* The minutes do not include any discussion about the specific contributions of indigenous people to the state. \n",
       "* The minutes do not include any discussion about the specific contributions of indigenous people to the state. \n",
       "* The minutes do not include any discussion about the specific contributions of indigenous people to the state. \n",
       "* The minutes do not include any discussion about the specific contributions of indigenous people to the state. \n",
       "* The minutes do not include any discussion about the specific contributions of indigenous people to the state. \n",
       "* The minutes do not include any discussion about the specific contributions of indigenous people to the state. \n",
       "* The minutes do not include any discussion about the specific contributions of indigenous people to the state. \n",
       "* The minutes do not include any discussion about the specific contributions of indigenous people to the state. \n",
       "* The minutes do not include any discussion about the specific contributions of indigenous people to the state. \n",
       "* The minutes do not include any discussion about the specific contributions of indigenous people to the state. \n",
       "* The minutes do not include any discussion about the specific contributions of indigenous people to the state. \n",
       "* The minutes do not include any discussion about the specific contributions of indigenous people to the state. \n",
       "* The minutes do not include any discussion about the specific contributions of indigenous people to the state. \n",
       "* The minutes do not include any discussion about the specific contributions of indigenous people to the state. \n",
       "* The minutes do not include any discussion about the specific contributions of indigenous people to the state. \n",
       "* The minutes do not include any discussion about the specific contributions of indigenous people to the state. \n",
       "* The minutes do not include any discussion about the specific contributions of indigenous people to the state. \n",
       "* The minutes do not include any discussion about the specific contributions of indigenous people to the state. \n",
       "* The minutes do not include any discussion about the specific contributions of indigenous people to the state. \n",
       "* The minutes do not include any discussion about the specific contributions of indigenous people to the state. \n",
       "* The minutes do not include any discussion about the specific contributions of indigenous people to the state. \n",
       "* The minutes do not include any discussion about the specific contributions of indigenous people to the state. \n",
       "* The minutes do not include any discussion about the specific contributions of indigenous people to the state. \n",
       "* The minutes do not include any discussion about the specific contributions of indigenous people to the state. \n",
       "* The minutes do not include any discussion about the specific contributions of indigenous people to the state. \n",
       "* The minutes do not include any discussion about the specific contributions of indigenous people to the state. \n",
       "* The minutes do not include any discussion about the specific contributions of indigenous people to the state. \n",
       "* The minutes do not include any discussion about the specific contributions of indigenous people to the state. \n",
       "* The minutes do not include any discussion about the specific contributions of indigenous people to the state. \n",
       "* The minutes do not include any discussion about the specific contributions of indigenous people to the state. \n",
       "* The minutes do not include any discussion about the specific contributions of indigenous people to the state. \n",
       "* The minutes do not include any discussion about the specific contributions of indigenous people to the state. \n",
       "* The minutes do not include any discussion about the specific contributions of indigenous people to the state. \n"
      ],
      "text/plain": [
       "<IPython.core.display.Markdown object>"
      ]
     },
     "metadata": {},
     "output_type": "display_data"
    }
   ],
   "source": [
    "response = tokenizer.decode(outputs[0])\n",
    "display(Markdown(response))"
   ]
  },
  {
   "cell_type": "code",
   "execution_count": null,
   "id": "d2712f99",
   "metadata": {},
   "outputs": [],
   "source": []
  },
  {
   "cell_type": "code",
   "execution_count": null,
   "id": "74a7c588",
   "metadata": {},
   "outputs": [],
   "source": []
  },
  {
   "cell_type": "code",
   "execution_count": null,
   "id": "1e428485",
   "metadata": {},
   "outputs": [],
   "source": []
  },
  {
   "cell_type": "code",
   "execution_count": null,
   "id": "3b94b769",
   "metadata": {},
   "outputs": [],
   "source": []
  }
 ],
 "metadata": {
  "kernelspec": {
   "display_name": "Python 3",
   "language": "python",
   "name": "python3"
  },
  "language_info": {
   "codemirror_mode": {
    "name": "ipython",
    "version": 3
   },
   "file_extension": ".py",
   "mimetype": "text/x-python",
   "name": "python",
   "nbconvert_exporter": "python",
   "pygments_lexer": "ipython3",
   "version": "3.13.4"
  }
 },
 "nbformat": 4,
 "nbformat_minor": 5
}
