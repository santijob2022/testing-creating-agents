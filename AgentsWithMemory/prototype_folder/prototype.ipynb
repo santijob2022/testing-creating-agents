{
 "cells": [
  {
   "cell_type": "code",
   "execution_count": 1,
   "id": "d5faa351",
   "metadata": {},
   "outputs": [],
   "source": [
    "import warnings\n",
    "warnings.filterwarnings('ignore')"
   ]
  },
  {
   "cell_type": "markdown",
   "id": "789c5e0e-eb8a-4b1d-860d-c58b742292ce",
   "metadata": {},
   "source": [
    "## Loading APIs"
   ]
  },
  {
   "cell_type": "code",
   "execution_count": 2,
   "id": "d88cbc41-1acd-436e-9184-1ce5bc95bb9b",
   "metadata": {},
   "outputs": [],
   "source": [
    "from dotenv import load_dotenv\n",
    "_ = load_dotenv()"
   ]
  },
  {
   "cell_type": "markdown",
   "id": "8922f7e3",
   "metadata": {},
   "source": [
    "# Tracking the project"
   ]
  },
  {
   "cell_type": "code",
   "execution_count": 3,
   "id": "81c75461",
   "metadata": {},
   "outputs": [],
   "source": [
    "import os\n",
    "os.environ[\"LANGCHAIN_TRACING_V2\"] = \"true\"\n",
    "os.environ[\"LANGCHAIN_API_KEY\"] = os.getenv(\"LANGCHAIN_API_KEY\")\n",
    "os.environ[\"LANGCHAIN_PROJECT\"] = \"email_job_agent\""
   ]
  },
  {
   "cell_type": "markdown",
   "id": "5138f1ec-689d-46a5-a99e-a5bd5a659a32",
   "metadata": {},
   "source": [
    "## Setup User's Profile"
   ]
  },
  {
   "cell_type": "code",
   "execution_count": 4,
   "id": "6f03a2a0-41ff-4982-bf99-e15ce9361205",
   "metadata": {},
   "outputs": [],
   "source": [
    "profile = {\n",
    "    \"name\": \"Valentin\",\n",
    "    \"full_name\": \"Valentin Jimenez\",\n",
    "    \"user_profile_background\": \"Student using AI tools to leverage learning\",\n",
    "}"
   ]
  },
  {
   "cell_type": "markdown",
   "id": "ffab6a42",
   "metadata": {},
   "source": [
    "#  Prompt instructions and email example"
   ]
  },
  {
   "cell_type": "code",
   "execution_count": 5,
   "id": "c7116293-3dc5-403c-979d-7e09dd1b74d8",
   "metadata": {},
   "outputs": [],
   "source": [
    "prompt_classification_instructions = {\n",
    "    \"email_rules\": {\n",
    "        \"ignore\": \"Marketing newsletters, spam emails, mass company announcements.\",\n",
    "        \"notify\": \"Job offers, job listings, and company announcements realted to AI agents\",\n",
    "        \"respond\": \"Direct messages from recruiters, customer inquiries, and urgent project requests.\",\n",
    "    },\n",
    "    \"agent_instructions\": \"Use these tools when appropriate to help manage Valentin's tasks efficiently.\"\n",
    "}"
   ]
  },
  {
   "cell_type": "code",
   "execution_count": 6,
   "id": "673d5316-bbc1-4b27-8e0f-db407725134a",
   "metadata": {},
   "outputs": [],
   "source": [
    "# Example incoming email, as part of initial few shot prompting\n",
    "email_example_1 = {\n",
    "    \"from\": \"Victor Alejandro <victor.alejandro@company.com>\",\n",
    "    \"to\": \"Valentin Jimenez <my_email@gmail.com>\",\n",
    "    \"subject\": \"Quick question about your expierience with AI agents frameworks\",\n",
    "    \"body\": \"\"\"\n",
    "Hi Valentin,\n",
    "\n",
    "We have a project where we think we can leverage the power of AI to improve our product. \n",
    "I was wondering if you have any experience with Langraph or Crew AI frameworks?\n",
    "\n",
    "Hope you cant take a look as soon as possible since we are close to the deadline.\n",
    "\n",
    "Thanks!\n",
    "Victor\"\"\",\n",
    "}"
   ]
  },
  {
   "cell_type": "markdown",
   "id": "7e80d329-563a-4824-9e76-2588edacfb6e",
   "metadata": {},
   "source": [
    "## Define response system"
   ]
  },
  {
   "cell_type": "markdown",
   "id": "88e48c20",
   "metadata": {},
   "source": [
    "During prototype face I will use a mock email service. Later I need to use a real email service."
   ]
  },
  {
   "cell_type": "code",
   "execution_count": 7,
   "id": "499fbd0e-3fcc-400d-afc8-7f0729382a8d",
   "metadata": {},
   "outputs": [],
   "source": [
    "from pydantic import BaseModel, Field\n",
    "from typing_extensions import TypedDict, Literal, Annotated\n",
    "from langchain.chat_models import init_chat_model"
   ]
  },
  {
   "cell_type": "code",
   "execution_count": 8,
   "id": "8bcbd7bd-a6b2-429d-b29c-b1fb7ba7472d",
   "metadata": {},
   "outputs": [],
   "source": [
    "llm = init_chat_model(\"openai:gpt-4o-mini\")"
   ]
  },
  {
   "cell_type": "markdown",
   "id": "9d6d03f5",
   "metadata": {},
   "source": [
    "Using pydantic to generate a specified structured output"
   ]
  },
  {
   "cell_type": "code",
   "execution_count": 9,
   "id": "abc57143-856c-4a86-a234-ef8355166b3d",
   "metadata": {},
   "outputs": [],
   "source": [
    "class Router_pydantic(BaseModel):\n",
    "    \"\"\"Analyze the new unread email and route it according to its content.\"\"\"\n",
    "\n",
    "    reasoning: str = Field(\n",
    "        description=\"Step-by-step reasoning behind the classification.\"\n",
    "    )\n",
    "    classification: Literal[\"ignore\", \"respond\", \"notify\"] = Field(\n",
    "        description=\"The classification of an email: 'ignore' for irrelevant emails, \"\n",
    "        \"'notify' for important information that doesn't need a response, \"\n",
    "        \"'respond' for emails that need a reply\",\n",
    "    )"
   ]
  },
  {
   "cell_type": "code",
   "execution_count": 10,
   "id": "b4917430-3aae-44c6-954f-68e5372fcf81",
   "metadata": {},
   "outputs": [],
   "source": [
    "llm_router = llm.with_structured_output(Router_pydantic)"
   ]
  },
  {
   "cell_type": "code",
   "execution_count": 11,
   "id": "ccd0086f",
   "metadata": {},
   "outputs": [
    {
     "data": {
      "text/plain": [
       "RunnableBinding(bound=ChatOpenAI(client=<openai.resources.chat.completions.completions.Completions object at 0x0000020E20EDD6A0>, async_client=<openai.resources.chat.completions.completions.AsyncCompletions object at 0x0000020E20EDE120>, root_client=<openai.OpenAI object at 0x0000020E20AC8AD0>, root_async_client=<openai.AsyncOpenAI object at 0x0000020E20EDD7F0>, model_name='gpt-4o-mini', model_kwargs={}, openai_api_key=SecretStr('**********')), kwargs={'response_format': <class '__main__.Router_pydantic'>, 'ls_structured_output_format': {'kwargs': {'method': 'json_schema', 'strict': None}, 'schema': {'type': 'function', 'function': {'name': 'Router_pydantic', 'description': 'Analyze the new unread email and route it according to its content.', 'parameters': {'properties': {'reasoning': {'description': 'Step-by-step reasoning behind the classification.', 'type': 'string'}, 'classification': {'description': \"The classification of an email: 'ignore' for irrelevant emails, 'notify' for important information that doesn't need a response, 'respond' for emails that need a reply\", 'enum': ['ignore', 'respond', 'notify'], 'type': 'string'}}, 'required': ['reasoning', 'classification'], 'type': 'object'}}}}}, config={}, config_factories=[])\n",
       "| RunnableBinding(bound=RunnableLambda(...), kwargs={}, config={}, config_factories=[], custom_output_type=<class '__main__.Router_pydantic'>)"
      ]
     },
     "execution_count": 11,
     "metadata": {},
     "output_type": "execute_result"
    }
   ],
   "source": [
    "llm_router"
   ]
  },
  {
   "cell_type": "code",
   "execution_count": 12,
   "id": "59525b9b-5f70-4bef-806a-30bdce14248e",
   "metadata": {},
   "outputs": [],
   "source": [
    "from prompts import email_classification_system_prompt, email_user_prompt"
   ]
  },
  {
   "cell_type": "code",
   "execution_count": 13,
   "id": "ba0a5975-a685-4f07-b43f-9e05ba96cda1",
   "metadata": {},
   "outputs": [],
   "source": [
    "system_prompt = email_classification_system_prompt.format(\n",
    "    full_name=profile[\"full_name\"],\n",
    "    name=profile[\"name\"],\n",
    "    examples=None,\n",
    "    user_profile_background=profile[\"user_profile_background\"],\n",
    "    email_no=prompt_classification_instructions[\"email_rules\"][\"ignore\"],\n",
    "    email_notify=prompt_classification_instructions[\"email_rules\"][\"notify\"],\n",
    "    email_respond=prompt_classification_instructions[\"email_rules\"][\"respond\"],\n",
    ")"
   ]
  },
  {
   "cell_type": "code",
   "execution_count": 14,
   "id": "28642bb7-145d-4561-9bfd-b15332d0b171",
   "metadata": {},
   "outputs": [],
   "source": [
    "user_prompt = email_user_prompt.format(\n",
    "    author=email_example_1[\"from\"],\n",
    "    to=email_example_1[\"to\"],\n",
    "    subject=email_example_1[\"subject\"],\n",
    "    email_thread=email_example_1[\"body\"],\n",
    ")"
   ]
  },
  {
   "cell_type": "code",
   "execution_count": 15,
   "id": "dbcfd44f-4142-4e58-a5e0-5ddd178ade90",
   "metadata": {},
   "outputs": [],
   "source": [
    "result = llm_router.invoke(\n",
    "    [\n",
    "        {\"role\": \"system\", \"content\": system_prompt},\n",
    "        {\"role\": \"user\", \"content\": user_prompt},\n",
    "    ]\n",
    ")"
   ]
  },
  {
   "cell_type": "code",
   "execution_count": 16,
   "id": "38da4397-517b-4d05-af08-4a83264d73f6",
   "metadata": {},
   "outputs": [
    {
     "name": "stdout",
     "output_type": "stream",
     "text": [
      "reasoning=\"This email is a direct inquiry about Valentin's experience with specific AI frameworks, Langraph and Crew AI. It comes from Victor Alejandro, who presumably has a project that could involve Valentin's expertise. The urgency expressed with 'close to the deadline' indicates it is important and requires a timely response. Therefore, it falls into the category of needing a direct response from Valentin.\" classification='respond'\n"
     ]
    }
   ],
   "source": [
    "# Here maybe use another agent to produce more emails and test the system message, trace with opik for instance??\n",
    "# fine tune with emails classification?\n",
    "print(result)"
   ]
  },
  {
   "cell_type": "markdown",
   "id": "384d952a-6a39-4710-afa9-54c734c0d87b",
   "metadata": {},
   "source": [
    "## Main agent: Tools definition"
   ]
  },
  {
   "cell_type": "code",
   "execution_count": 17,
   "id": "9fb152b1-01dc-4a26-870b-463e7f72a8cb",
   "metadata": {},
   "outputs": [],
   "source": [
    "from langchain_core.tools import tool"
   ]
  },
  {
   "cell_type": "code",
   "execution_count": 18,
   "id": "ec4884fc-cc9b-48e8-a8e7-cca1a1874ed9",
   "metadata": {},
   "outputs": [],
   "source": [
    "# Here is where the connection with the API must be made\n",
    "@tool\n",
    "def write_email(to: str, subject: str, content: str) -> str:\n",
    "    \"\"\"Write and send an email.\"\"\"\n",
    "    # Placeholder\n",
    "    return f\"Email sent to {to} with subject '{subject}'\""
   ]
  },
  {
   "cell_type": "code",
   "execution_count": 19,
   "id": "8af7d49c-d85b-41cd-8f3d-8f239e4fe255",
   "metadata": {},
   "outputs": [],
   "source": [
    "# This one too, connect with calendars API's\n",
    "@tool\n",
    "def schedule_meeting(\n",
    "    attendees: list[str], \n",
    "    subject: str, \n",
    "    duration_minutes: int, \n",
    "    preferred_day: str\n",
    ") -> str:\n",
    "    \"\"\"Schedule a calendar meeting.\"\"\"\n",
    "    # Placeholder\n",
    "    return f\"Meeting '{subject}' scheduled for {preferred_day} with {len(attendees)} attendees\""
   ]
  },
  {
   "cell_type": "code",
   "execution_count": 20,
   "id": "830bdccd-da79-48b3-9094-ae93a36a73b6",
   "metadata": {},
   "outputs": [],
   "source": [
    "@tool\n",
    "def check_calendar_availability(day: str) -> str:\n",
    "    \"\"\"Check calendar availability for a given day.\"\"\"\n",
    "    # Placeholder response - in real app would check actual calendar\n",
    "    return f\"Available time on {day}: 9:00 AM\""
   ]
  },
  {
   "cell_type": "markdown",
   "id": "b82c10b8",
   "metadata": {},
   "source": [
    "### Memory management: creation and tool definition"
   ]
  },
  {
   "cell_type": "code",
   "execution_count": 54,
   "id": "f1eccddd",
   "metadata": {},
   "outputs": [],
   "source": [
    "from memory_setup.qdrant.qdrantVectorStoreLocal import QdrantVectorStoreManager\n",
    "from memory_setup.qdrant.qdrantBaseStoreWrapper import QdrantBaseStoreWrapper\n",
    "\n",
    "langgraph_user_id = \"Valentin\"  # Request to the user \n",
    "collection_name = f\"email_job_agent_memory_{langgraph_user_id}\"\n",
    "\n",
    "# Get or create a vector store\n",
    "qdrant_manager = QdrantVectorStoreManager()\n",
    "qdrant_vectorstore = qdrant_manager.get_vectorstore(collection_name)"
   ]
  },
  {
   "cell_type": "markdown",
   "id": "9f723209",
   "metadata": {},
   "source": [
    "- Using buil-in create_manage_memory_tool and search_manage_memory_tool"
   ]
  },
  {
   "cell_type": "code",
   "execution_count": 22,
   "id": "073b65b6",
   "metadata": {},
   "outputs": [],
   "source": [
    "from langmem import create_manage_memory_tool, create_search_memory_tool\n",
    "\n",
    "namespace = (\"email_job_assistant_memory\", \"{langgraph_user_id}\", \"collection_semantic_memory\")\n",
    "store_wrapper = QdrantBaseStoreWrapper(qdrant_vectorstore, namespace=namespace)\n",
    "\n",
    "manage_memory_tool = create_manage_memory_tool(\n",
    "    namespace=namespace,\n",
    "    store=store_wrapper\n",
    ")\n",
    "\n",
    "search_memory_tool = create_search_memory_tool(\n",
    "    namespace=namespace,\n",
    "    store=store_wrapper  \n",
    ")"
   ]
  },
  {
   "cell_type": "code",
   "execution_count": 23,
   "id": "bb190e14",
   "metadata": {},
   "outputs": [
    {
     "name": "stdout",
     "output_type": "stream",
     "text": [
      "manage_memory\n",
      "\n",
      "Descrition manage:  Create, update, or delete a memory to persist across conversations.\n",
      "Include the MEMORY ID when updating or deleting a MEMORY. Omit when creating a new MEMORY - it will be created for you.\n",
      "Proactively call this tool when you:\n",
      "\n",
      "1. Identify a new USER preference.\n",
      "2. Receive an explicit USER request to remember something or otherwise alter your behavior.\n",
      "3. Are working and want to record important context.\n",
      "4. Identify that an existing MEMORY is incorrect or outdated.\n",
      "\n",
      "Descrition search:  Search your long-term memories for information relevant to your current context.\n"
     ]
    }
   ],
   "source": [
    "print(manage_memory_tool.name,end=\"\\n\\n\")\n",
    "print(\"Descrition manage: \",manage_memory_tool.description, end=\"\\n\\n\")\n",
    "print(\"Descrition search: \",search_memory_tool.description)"
   ]
  },
  {
   "cell_type": "code",
   "execution_count": 24,
   "id": "293af65a",
   "metadata": {},
   "outputs": [],
   "source": [
    "# # Adding an entry\n",
    "# qdrant_vectorstore.add_texts([\"Valentin Is booking a trip\"])\n",
    "\n",
    "# # Search (similarity)\n",
    "# results = qdrant_vectorstore.similarity_search(\"who is booking a trip\", k=2)\n",
    "\n",
    "# for r in results:\n",
    "#     print(r.page_content)\n"
   ]
  },
  {
   "cell_type": "markdown",
   "id": "dfcb6b2c-adda-49d6-9d6c-b517ecf0bed3",
   "metadata": {},
   "source": [
    "## Main agent: initial system prompt creation"
   ]
  },
  {
   "cell_type": "code",
   "execution_count": 25,
   "id": "85758f8a-d58a-4f7f-8c86-809e1c250cba",
   "metadata": {},
   "outputs": [],
   "source": [
    "from prompts import agent_system_prompt_memory\n",
    "def create_prompt(state):\n",
    "    return [\n",
    "        {\n",
    "            \"role\": \"system\", \n",
    "            \"content\": agent_system_prompt_memory.format(\n",
    "                instructions=prompt_classification_instructions[\"agent_instructions\"],\n",
    "                **profile\n",
    "                )\n",
    "        }\n",
    "    ] + state['messages']"
   ]
  },
  {
   "cell_type": "code",
   "execution_count": 26,
   "id": "8f2d35a8-5e2f-4d67-9c5f-76b0d28e6fc0",
   "metadata": {},
   "outputs": [
    {
     "name": "stdout",
     "output_type": "stream",
     "text": [
      "\n",
      "< Role >\n",
      "You are {full_name}'s executive assistant. You are a top-notch executive assistant who cares about managing {name}'s job applications.\n",
      "</ Role >\n",
      "\n",
      "< Tools >\n",
      "You have access to the following tools to help manage {name}'s communications and schedule:\n",
      "\n",
      "1. write_email(to, subject, content) - Send emails to specified recipients\n",
      "2. schedule_meeting(attendees, subject, duration_minutes, preferred_day) - Schedule calendar meetings\n",
      "3. check_calendar_availability(day) - Check available time slots for a given day\n",
      "4. manage_memory - Store any relevant information about contacts, actions, discussion, etc. in memory for future reference\n",
      "5. search_memory - Search for any relevant information that may have been stored in memory\n",
      "</ Tools >\n",
      "\n",
      "< Instructions >\n",
      "{instructions}\n",
      "</ Instructions >\n",
      "\n"
     ]
    }
   ],
   "source": [
    "print(agent_system_prompt_memory)"
   ]
  },
  {
   "cell_type": "markdown",
   "id": "97881510",
   "metadata": {},
   "source": [
    "# Main agent state"
   ]
  },
  {
   "cell_type": "code",
   "execution_count": 27,
   "id": "ff5c1524",
   "metadata": {},
   "outputs": [],
   "source": [
    "from langgraph.graph import StateGraph, START, END\n",
    "from langgraph.types import Command\n",
    "from IPython.display import Image, display"
   ]
  },
  {
   "cell_type": "code",
   "execution_count": 28,
   "id": "430ee3a8",
   "metadata": {},
   "outputs": [],
   "source": [
    "from langgraph.graph import add_messages\n",
    "\n",
    "class State(TypedDict):\n",
    "    email_input: dict\n",
    "    messages: Annotated[list, add_messages]"
   ]
  },
  {
   "cell_type": "markdown",
   "id": "e4f4cd31",
   "metadata": {},
   "source": [
    "# Defining Main Agent graph Nodes"
   ]
  },
  {
   "cell_type": "markdown",
   "id": "2bad7fef",
   "metadata": {},
   "source": [
    "## Subagent Node\n",
    "### Using the prebuil create_react_agent\n",
    "\n",
    "This will be a subagent deciding what tool to use according to the received email"
   ]
  },
  {
   "cell_type": "code",
   "execution_count": 29,
   "id": "ea1d9acd-4a00-4432-9ce8-ce868f2ef989",
   "metadata": {},
   "outputs": [],
   "source": [
    "from langgraph.prebuilt import create_react_agent"
   ]
  },
  {
   "cell_type": "code",
   "execution_count": 30,
   "id": "6d8fceee-06a0-4f57-a4e7-8d5fccd75fcd",
   "metadata": {},
   "outputs": [],
   "source": [
    "tools=[\n",
    "    write_email, \n",
    "    schedule_meeting, \n",
    "    check_calendar_availability,\n",
    "    manage_memory_tool,\n",
    "    search_memory_tool\n",
    "    ]"
   ]
  },
  {
   "cell_type": "code",
   "execution_count": 31,
   "id": "4002b955-8496-46fa-97c3-15246dd7c621",
   "metadata": {},
   "outputs": [],
   "source": [
    "response_agent = create_react_agent(\n",
    "    \"openai:gpt-4o-mini\",\n",
    "    tools=tools,\n",
    "    prompt=create_prompt,\n",
    "    store=store_wrapper\n",
    ")"
   ]
  },
  {
   "cell_type": "markdown",
   "id": "4e0948a0",
   "metadata": {},
   "source": [
    "Testing the create_react_agent agent. Note that this has not the first defined structured output"
   ]
  },
  {
   "cell_type": "code",
   "execution_count": 32,
   "id": "46a32cc0",
   "metadata": {},
   "outputs": [],
   "source": [
    "config = {\"configurable\": {\"langgraph_user_id\": langgraph_user_id}}"
   ]
  },
  {
   "cell_type": "markdown",
   "id": "e9412098",
   "metadata": {},
   "source": [
    "Notice that the next call does not store anything in qdrant because it's not related to:\n",
    "\n",
    "4. manage_memory - Store any relevant information about contacts, actions, discussion, etc. in memory for future reference\n",
    "\n",
    "as indicated in the instructions"
   ]
  },
  {
   "cell_type": "code",
   "execution_count": 33,
   "id": "91c2dd9b-ab96-48f6-9867-7095214452ef",
   "metadata": {},
   "outputs": [
    {
     "name": "stdout",
     "output_type": "stream",
     "text": [
      "================================\u001b[1m Human Message \u001b[0m=================================\n",
      "\n",
      "what is my availability for tuesday?\n",
      "==================================\u001b[1m Ai Message \u001b[0m==================================\n",
      "Tool Calls:\n",
      "  check_calendar_availability (call_YQotLcmoPDRzfHZcX3wgbJ0L)\n",
      " Call ID: call_YQotLcmoPDRzfHZcX3wgbJ0L\n",
      "  Args:\n",
      "    day: Tuesday\n",
      "=================================\u001b[1m Tool Message \u001b[0m=================================\n",
      "Name: check_calendar_availability\n",
      "\n",
      "Available time on Tuesday: 9:00 AM\n",
      "==================================\u001b[1m Ai Message \u001b[0m==================================\n",
      "\n",
      "You have availability at 9:00 AM on Tuesday.\n"
     ]
    }
   ],
   "source": [
    "# This one did not store anything because it's not adding important info about the user\n",
    "response = response_agent.invoke(\n",
    "    {\"messages\": [{\n",
    "        \"role\": \"user\", \n",
    "        \"content\": \"what is my availability for tuesday?\"\n",
    "    }]},config=config\n",
    ")\n",
    "\n",
    "for m in response[\"messages\"]:\n",
    "    m.pretty_print()"
   ]
  },
  {
   "cell_type": "code",
   "execution_count": 34,
   "id": "86ea8bb3-8026-4e08-94a6-edea65509162",
   "metadata": {},
   "outputs": [
    {
     "name": "stdout",
     "output_type": "stream",
     "text": [
      "================================\u001b[1m Human Message \u001b[0m=================================\n",
      "\n",
      "Valentin likes pizza\n",
      "==================================\u001b[1m Ai Message \u001b[0m==================================\n",
      "Tool Calls:\n",
      "  manage_memory (call_r35KxRGuZCzmjGSJpCl2Czn1)\n",
      " Call ID: call_r35KxRGuZCzmjGSJpCl2Czn1\n",
      "  Args:\n",
      "    content: Valentin likes pizza\n",
      "    action: create\n",
      "=================================\u001b[1m Tool Message \u001b[0m=================================\n",
      "Name: manage_memory\n",
      "\n",
      "created memory 324aea87-256f-4ab8-9710-47f02931f476\n",
      "==================================\u001b[1m Ai Message \u001b[0m==================================\n",
      "\n",
      "I've noted that Valentin likes pizza! If there's anything else you'd like me to remember or help with, just let me know.\n"
     ]
    }
   ],
   "source": [
    "# This is relevant to the user so the agent should store the info in the database\n",
    "response = response_agent.invoke(\n",
    "    {\"messages\": [{\n",
    "        \"role\": \"user\", \n",
    "        \"content\": \"Valentin likes pizza\"\n",
    "    }]},config=config\n",
    ")\n",
    "\n",
    "for m in response[\"messages\"]:\n",
    "    m.pretty_print()"
   ]
  },
  {
   "cell_type": "code",
   "execution_count": 35,
   "id": "b3d9de89",
   "metadata": {},
   "outputs": [
    {
     "name": "stdout",
     "output_type": "stream",
     "text": [
      "================================\u001b[1m Human Message \u001b[0m=================================\n",
      "\n",
      "What does Valentin like?\n",
      "==================================\u001b[1m Ai Message \u001b[0m==================================\n",
      "Tool Calls:\n",
      "  search_memory (call_OBqQzk5k47q0yT4nGvg6kwj8)\n",
      " Call ID: call_OBqQzk5k47q0yT4nGvg6kwj8\n",
      "  Args:\n",
      "    query: Valentin's preferences\n",
      "=================================\u001b[1m Tool Message \u001b[0m=================================\n",
      "Name: search_memory\n",
      "\n",
      "[{\"id\":\"4d3620a0-b6f0-4709-aa70-37d06a51601f\",\"metadata\":{\"namespace\":\"email_job_assistant_memory/Valentin/collection_semantic_memory\",\"key\":\"324aea87-256f-4ab8-9710-47f02931f476\"},\"page_content\":\"Valentin likes pizza\",\"type\":\"Document\"}]\n",
      "==================================\u001b[1m Ai Message \u001b[0m==================================\n",
      "\n",
      "Valentin likes pizza. If there's anything specific you would like to know or track regarding his preferences, feel free to ask!\n"
     ]
    }
   ],
   "source": [
    "# This should look for information in the database\n",
    "response = response_agent.invoke(\n",
    "    {\"messages\": [{\n",
    "        \"role\": \"user\", \n",
    "        \"content\": \"What does Valentin like?\"\n",
    "    }]},config=config\n",
    ")\n",
    "\n",
    "for m in response[\"messages\"]:\n",
    "    m.pretty_print()"
   ]
  },
  {
   "cell_type": "code",
   "execution_count": 52,
   "id": "464c4db9",
   "metadata": {},
   "outputs": [
    {
     "data": {
      "text/plain": [
       "{'messages': [HumanMessage(content='Valentin is a Mathematician', additional_kwargs={}, response_metadata={}, id='e14e357a-31ce-4f6b-bb71-463909cc5c03'),\n",
       "  AIMessage(content='', additional_kwargs={'tool_calls': [{'id': 'call_TjJcrryXuMEfkN0vjoE7m6lG', 'function': {'arguments': '{\"content\":\"Valentin is a Mathematician.\",\"action\":\"create\"}', 'name': 'manage_memory'}, 'type': 'function'}], 'refusal': None}, response_metadata={'token_usage': {'completion_tokens': 25, 'prompt_tokens': 504, 'total_tokens': 529, 'completion_tokens_details': {'accepted_prediction_tokens': 0, 'audio_tokens': 0, 'reasoning_tokens': 0, 'rejected_prediction_tokens': 0}, 'prompt_tokens_details': {'audio_tokens': 0, 'cached_tokens': 0}}, 'model_name': 'gpt-4o-mini-2024-07-18', 'system_fingerprint': 'fp_34a54ae93c', 'id': 'chatcmpl-BfDzwzbXgvsU5vS5QaUB0ze7ZHDmY', 'service_tier': 'default', 'finish_reason': 'tool_calls', 'logprobs': None}, id='run--bf67469d-e93f-4408-99de-45cea1350d78-0', tool_calls=[{'name': 'manage_memory', 'args': {'content': 'Valentin is a Mathematician.', 'action': 'create'}, 'id': 'call_TjJcrryXuMEfkN0vjoE7m6lG', 'type': 'tool_call'}], usage_metadata={'input_tokens': 504, 'output_tokens': 25, 'total_tokens': 529, 'input_token_details': {'audio': 0, 'cache_read': 0}, 'output_token_details': {'audio': 0, 'reasoning': 0}}),\n",
       "  ToolMessage(content='created memory d1c4c74c-5544-43a3-91c8-608562e729f2', name='manage_memory', id='ddd92165-9efe-4e43-9fab-f266eedbd20a', tool_call_id='call_TjJcrryXuMEfkN0vjoE7m6lG'),\n",
       "  AIMessage(content=\"I've noted that Valentin is a Mathematician. If there's anything specific you need related to this information, feel free to ask!\", additional_kwargs={'refusal': None}, response_metadata={'token_usage': {'completion_tokens': 28, 'prompt_tokens': 564, 'total_tokens': 592, 'completion_tokens_details': {'accepted_prediction_tokens': 0, 'audio_tokens': 0, 'reasoning_tokens': 0, 'rejected_prediction_tokens': 0}, 'prompt_tokens_details': {'audio_tokens': 0, 'cached_tokens': 0}}, 'model_name': 'gpt-4o-mini-2024-07-18', 'system_fingerprint': 'fp_34a54ae93c', 'id': 'chatcmpl-BfDzzHYoDvCu1CBfrOklY8MAvrG7L', 'service_tier': 'default', 'finish_reason': 'stop', 'logprobs': None}, id='run--45104bf0-574c-4a16-9e42-c743ee4f960a-0', usage_metadata={'input_tokens': 564, 'output_tokens': 28, 'total_tokens': 592, 'input_token_details': {'audio': 0, 'cache_read': 0}, 'output_token_details': {'audio': 0, 'reasoning': 0}})]}"
      ]
     },
     "execution_count": 52,
     "metadata": {},
     "output_type": "execute_result"
    }
   ],
   "source": [
    "response_agent.invoke(\n",
    "    {\"messages\": [{\n",
    "        \"role\": \"user\", \n",
    "        \"content\": \"Valentin is a Mathematician\"\n",
    "    }]},config=config\n",
    ")"
   ]
  },
  {
   "cell_type": "code",
   "execution_count": 51,
   "id": "a8de56b6",
   "metadata": {},
   "outputs": [
    {
     "data": {
      "text/plain": [
       "[Document(id='4d3620a0-b6f0-4709-aa70-37d06a51601f', metadata={'namespace': 'email_job_assistant_memory/Valentin/collection_semantic_memory', 'key': '324aea87-256f-4ab8-9710-47f02931f476'}, page_content='Valentin likes pizza')]"
      ]
     },
     "execution_count": 51,
     "metadata": {},
     "output_type": "execute_result"
    }
   ],
   "source": [
    "\n",
    "store_wrapper.search(('email_job_assistant_memory',\n",
    "                      'Valentin',\n",
    "                      'collection_semantic_memory'), query=\"pizza\")"
   ]
  },
  {
   "cell_type": "code",
   "execution_count": 53,
   "id": "f7233a2d",
   "metadata": {},
   "outputs": [
    {
     "data": {
      "text/plain": [
       "[Document(id='30bd3795-ca9e-4d81-98a6-c678fe5054a6', metadata={'namespace': 'email_job_assistant_memory/Valentin/collection_semantic_memory', 'key': 'd1c4c74c-5544-43a3-91c8-608562e729f2'}, page_content='Valentin is a Mathematician.'),\n",
       " Document(id='4d3620a0-b6f0-4709-aa70-37d06a51601f', metadata={'namespace': 'email_job_assistant_memory/Valentin/collection_semantic_memory', 'key': '324aea87-256f-4ab8-9710-47f02931f476'}, page_content='Valentin likes pizza')]"
      ]
     },
     "execution_count": 53,
     "metadata": {},
     "output_type": "execute_result"
    }
   ],
   "source": [
    "store_wrapper.search(('email_job_assistant_memory',\n",
    "                      'Valentin',\n",
    "                      'collection_semantic_memory'), query=\"valentin\")"
   ]
  },
  {
   "cell_type": "code",
   "execution_count": 37,
   "id": "53e14c73",
   "metadata": {},
   "outputs": [],
   "source": [
    "# # Let's see if it can delete all entries\n",
    "# # This needs to be implemented later. Meanwhile I can use directly the qdrant_manager\n",
    "# response = response_agent.invoke(\n",
    "#     {\"messages\": [{\n",
    "#         \"role\": \"user\", \n",
    "#         \"content\": \"Can you delete all information you have stored about me?\"\n",
    "#     }]},config=config\n",
    "# )\n",
    "\n",
    "# for m in response[\"messages\"]:\n",
    "#     m.pretty_print()"
   ]
  },
  {
   "cell_type": "markdown",
   "id": "95f2c6df",
   "metadata": {},
   "source": [
    "### Cleaning up the database while testing"
   ]
  },
  {
   "cell_type": "code",
   "execution_count": 38,
   "id": "0e7c2e27",
   "metadata": {},
   "outputs": [],
   "source": [
    "# Use this to cleanup a bit after testing\n",
    "# qdrant_manager.delete_all_entries(\"email_job_agent_memory_Valentin\")"
   ]
  },
  {
   "cell_type": "markdown",
   "id": "f9c9d78d",
   "metadata": {},
   "source": [
    "## Router Node"
   ]
  },
  {
   "cell_type": "code",
   "execution_count": 39,
   "id": "f28908e0-c4fa-4e88-8a7e-e1d6af09b697",
   "metadata": {},
   "outputs": [],
   "source": [
    "def router_node(state: State) -> Command[\n",
    "    Literal[\"response_agent\", \"__end__\"]\n",
    "]:\n",
    "    author = state['email_input']['author']\n",
    "    to = state['email_input']['to']\n",
    "    subject = state['email_input']['subject']\n",
    "    email_thread = state['email_input']['email_thread']\n",
    "\n",
    "    system_prompt = email_classification_system_prompt.format(\n",
    "        full_name=profile[\"full_name\"],\n",
    "        name=profile[\"name\"],\n",
    "        examples=None,\n",
    "        user_profile_background=profile[\"user_profile_background\"],\n",
    "        email_no=prompt_classification_instructions[\"email_rules\"][\"ignore\"],\n",
    "        email_notify=prompt_classification_instructions[\"email_rules\"][\"notify\"],\n",
    "        email_respond=prompt_classification_instructions[\"email_rules\"][\"respond\"],\n",
    "    )\n",
    "    user_prompt = email_user_prompt.format(\n",
    "        author=author, \n",
    "        to=to, \n",
    "        subject=subject, \n",
    "        email_thread=email_thread\n",
    "    )\n",
    "    result = llm_router.invoke(\n",
    "        [\n",
    "            {\"role\": \"system\", \"content\": system_prompt},\n",
    "            {\"role\": \"user\", \"content\": user_prompt},\n",
    "        ]\n",
    "    )\n",
    "    if result.classification == \"respond\":\n",
    "        print(\"✅ Classification: RESPOND - This email requires a response\")\n",
    "        goto = \"response_agent\"\n",
    "        update = {\n",
    "            \"messages\": [\n",
    "                {\n",
    "                    \"role\": \"user\",\n",
    "                    \"content\": f\"Respond to the email {state['email_input']}\",\n",
    "                }\n",
    "            ]\n",
    "        }\n",
    "    elif result.classification == \"ignore\":\n",
    "        print(\"🚫 Classification: IGNORE - This email can be safely ignored\")\n",
    "        update = None\n",
    "        goto = END\n",
    "        \n",
    "        \n",
    "    elif result.classification == \"notify\":        \n",
    "        print(\"🔔 Classification: NOTIFY - This email contains important information\")\n",
    "        update = None\n",
    "        goto = END\n",
    "    else:\n",
    "        raise ValueError(f\"Invalid classification: {result.classification}\")\n",
    "    return Command(goto=goto, update=update)"
   ]
  },
  {
   "cell_type": "markdown",
   "id": "f5c28180-e21c-42bc-9568-4c3834cb1491",
   "metadata": {},
   "source": [
    "# Defining the Main Agent Graph"
   ]
  },
  {
   "cell_type": "code",
   "execution_count": 40,
   "id": "a4cb9bb4-905b-45e3-9b34-eb59f850f51e",
   "metadata": {},
   "outputs": [],
   "source": [
    "graph_builder = StateGraph(State)\n",
    "graph_builder = graph_builder.add_node(router_node)\n",
    "graph_builder = graph_builder.add_node(\"response_agent\", response_agent)\n",
    "\n",
    "graph_builder = graph_builder.add_edge(START, \"router_node\")\n",
    "email_agent = graph_builder.compile()"
   ]
  },
  {
   "cell_type": "code",
   "execution_count": 41,
   "id": "ed4509b1-7f03-4936-acab-e2cb0fe1192a",
   "metadata": {},
   "outputs": [
    {
     "data": {
      "image/png": "[encoded data removed]",
      "text/plain": [
       "<IPython.core.display.Image object>"
      ]
     },
     "metadata": {},
     "output_type": "display_data"
    }
   ],
   "source": [
    "# Show the agent\n",
    "display(Image(email_agent.get_graph(xray=True).draw_mermaid_png()))"
   ]
  },
  {
   "cell_type": "code",
   "execution_count": 42,
   "id": "428aabfe",
   "metadata": {},
   "outputs": [],
   "source": [
    "email_input = {\n",
    "    \"author\": \"Marketing Team <marketing@amazingdeals.com>\",\n",
    "    \"to\": \"Valentin Jimenez <my_email@gmail.com>\",\n",
    "    \"subject\": \"🌟 NEW RELEASE: Supercharge Your Workflow with Our Latest Dev Tools! 🌟\",\n",
    "    \"email_thread\": \"\"\"Dear Valued Developer,\n",
    "\n",
    "We’re thrilled to announce the launch of something truly game-changing!\n",
    "\n",
    "💡 Introducing the NEXT-GEN Developer Productivity Pack – built to accelerate your workflow and maximize efficiency!\n",
    "\n",
    "✨ HIGHLIGHTS:\n",
    "- Lightning-fast debugging assistant\n",
    "- Seamless integration with popular frameworks\n",
    "- Automated performance optimization\n",
    "- Lifetime access to new features\n",
    "\n",
    "Best regards,\n",
    "Marketing Team\n",
    "---\n",
    "To unsubscribe, click here\n",
    "\"\"\",\n",
    "}\n"
   ]
  },
  {
   "cell_type": "code",
   "execution_count": 43,
   "id": "fb6cf2b1-1739-4f70-ad6b-58d0aec8a219",
   "metadata": {},
   "outputs": [
    {
     "name": "stdout",
     "output_type": "stream",
     "text": [
      "🚫 Classification: IGNORE - This email can be safely ignored\n"
     ]
    }
   ],
   "source": [
    "response = email_agent.invoke({\"email_input\": email_input})"
   ]
  },
  {
   "cell_type": "code",
   "execution_count": 44,
   "id": "f62bb9ea-e964-4d38-a3f5-e890f32dc563",
   "metadata": {},
   "outputs": [],
   "source": [
    "email_input = {\n",
    "    \"author\": \"Victor Gomez <victor.gomez@company.com>\",\n",
    "    \"to\": \"Valentin Jimenez <my_email@gmail.com>\",\n",
    "    \"subject\": \"Quick question about your employment availability\",\n",
    "    \"email_thread\": \"\"\"Hi Valentin,\n",
    "\n",
    "I hope you're doing well.\n",
    "\n",
    "I wanted to check in and see what your current availability looks like for potential employment opportunities. \n",
    "We're exploring a few upcoming projects that could be a great fit for your skill set, and I’d love to know if \n",
    "you're open to discussing something in the near future.\n",
    "\n",
    "Let me know when you’d be available for a quick chat.\n",
    "\n",
    "Best,  \n",
    "Victor\"\"\",\n",
    "}\n",
    "\n"
   ]
  },
  {
   "cell_type": "code",
   "execution_count": 45,
   "id": "f6fd3a49-57ed-4da0-bd82-21c49b5f66cc",
   "metadata": {},
   "outputs": [
    {
     "name": "stdout",
     "output_type": "stream",
     "text": [
      "✅ Classification: RESPOND - This email requires a response\n"
     ]
    }
   ],
   "source": [
    "response = email_agent.invoke({\"email_input\": email_input})"
   ]
  },
  {
   "cell_type": "code",
   "execution_count": 46,
   "id": "ec08077b-6e36-4f7f-a043-1f4a47ac8408",
   "metadata": {},
   "outputs": [
    {
     "name": "stdout",
     "output_type": "stream",
     "text": [
      "================================\u001b[1m Human Message \u001b[0m=================================\n",
      "\n",
      "Respond to the email {'author': 'Victor Gomez <victor.gomez@company.com>', 'to': 'Valentin Jimenez <my_email@gmail.com>', 'subject': 'Quick question about your employment availability', 'email_thread': \"Hi Valentin,\\n\\nI hope you're doing well.\\n\\nI wanted to check in and see what your current availability looks like for potential employment opportunities. \\nWe're exploring a few upcoming projects that could be a great fit for your skill set, and I’d love to know if \\nyou're open to discussing something in the near future.\\n\\nLet me know when you’d be available for a quick chat.\\n\\nBest,  \\nVictor\"}\n",
      "==================================\u001b[1m Ai Message \u001b[0m==================================\n",
      "Tool Calls:\n",
      "  write_email (call_UfRMA2bZxp1p8aNus9byACTr)\n",
      " Call ID: call_UfRMA2bZxp1p8aNus9byACTr\n",
      "  Args:\n",
      "    to: Victor Gomez <victor.gomez@company.com>\n",
      "    subject: Re: Quick question about your employment availability\n",
      "    content: Hi Victor,\n",
      "\n",
      "I hope this message finds you well! \n",
      "\n",
      "Thank you for reaching out regarding potential employment opportunities. I am indeed open to discussing upcoming projects and would love to learn more about what you have in mind.\n",
      "\n",
      "Please let me know your available times for a quick chat, and I will do my best to accommodate.\n",
      "\n",
      "Looking forward to hearing from you soon.\n",
      "\n",
      "Best regards,\n",
      "Valentin Jimenez\n",
      "=================================\u001b[1m Tool Message \u001b[0m=================================\n",
      "Name: write_email\n",
      "\n",
      "Email sent to Victor Gomez <victor.gomez@company.com> with subject 'Re: Quick question about your employment availability'\n",
      "==================================\u001b[1m Ai Message \u001b[0m==================================\n",
      "\n",
      "I've sent the email to Victor Gomez regarding your employment availability. If there's anything else you'd like to do or prepare for this conversation, just let me know!\n"
     ]
    }
   ],
   "source": [
    "for m in response[\"messages\"]:\n",
    "    m.pretty_print()"
   ]
  },
  {
   "cell_type": "code",
   "execution_count": null,
   "id": "cdd7059d-3441-44eb-9ccb-62a0f73f00c7",
   "metadata": {},
   "outputs": [],
   "source": []
  },
  {
   "cell_type": "code",
   "execution_count": null,
   "id": "767d3133-bebe-4067-863a-593cdb00cec0",
   "metadata": {},
   "outputs": [],
   "source": []
  },
  {
   "cell_type": "code",
   "execution_count": null,
   "id": "df37eacd-d6bf-496f-ab69-db6afe41a690",
   "metadata": {},
   "outputs": [],
   "source": []
  },
  {
   "cell_type": "code",
   "execution_count": null,
   "id": "b8a78bed-924a-4baf-8357-bbeae3fc5a7a",
   "metadata": {},
   "outputs": [],
   "source": []
  },
  {
   "cell_type": "code",
   "execution_count": null,
   "id": "7d425198-4e10-408d-a41d-5abaee7b335c",
   "metadata": {},
   "outputs": [],
   "source": []
  },
  {
   "cell_type": "code",
   "execution_count": null,
   "id": "67c8873f-95fa-480c-8b78-caccb844770e",
   "metadata": {},
   "outputs": [],
   "source": []
  },
  {
   "cell_type": "code",
   "execution_count": null,
   "id": "5db64057-17c6-4049-82e5-38dfdf415334",
   "metadata": {},
   "outputs": [],
   "source": []
  },
  {
   "cell_type": "code",
   "execution_count": null,
   "id": "9074023d-cfd3-45aa-98f8-bb72e3679453",
   "metadata": {},
   "outputs": [],
   "source": []
  },
  {
   "cell_type": "code",
   "execution_count": null,
   "id": "70c38195-d3c7-4dd5-bd96-f102c157ec9f",
   "metadata": {},
   "outputs": [],
   "source": []
  },
  {
   "cell_type": "code",
   "execution_count": null,
   "id": "5530c5f3-c849-45da-bbdd-b6bf2ae4a7e8",
   "metadata": {},
   "outputs": [],
   "source": []
  },
  {
   "cell_type": "code",
   "execution_count": null,
   "id": "864fe74f-ee11-487b-b9ed-4992159550ef",
   "metadata": {},
   "outputs": [],
   "source": []
  },
  {
   "cell_type": "code",
   "execution_count": null,
   "id": "880a24fe-f330-47bf-b3c3-147412123bab",
   "metadata": {},
   "outputs": [],
   "source": []
  },
  {
   "cell_type": "code",
   "execution_count": null,
   "id": "c15d29fa-16e9-4691-8a8f-349ccfb5a487",
   "metadata": {},
   "outputs": [],
   "source": []
  },
  {
   "cell_type": "code",
   "execution_count": null,
   "id": "96901ac6-2ed4-4b16-8a8b-61f6cc6a253b",
   "metadata": {},
   "outputs": [],
   "source": []
  },
  {
   "cell_type": "code",
   "execution_count": null,
   "id": "e617fc32-9d75-4edc-9aa9-d9153476b4c4",
   "metadata": {},
   "outputs": [],
   "source": []
  },
  {
   "cell_type": "code",
   "execution_count": null,
   "id": "a6a48346-7cb1-44e7-a030-964710b01e14",
   "metadata": {},
   "outputs": [],
   "source": []
  },
  {
   "cell_type": "code",
   "execution_count": null,
   "id": "38a00029-a8d8-495e-8888-da46bfb7d318",
   "metadata": {},
   "outputs": [],
   "source": []
  },
  {
   "cell_type": "code",
   "execution_count": null,
   "id": "409edba8-7973-4118-9784-368a6a2309de",
   "metadata": {},
   "outputs": [],
   "source": []
  },
  {
   "cell_type": "code",
   "execution_count": null,
   "id": "ef263fd8-0237-49ea-bc57-59f460eec6a5",
   "metadata": {},
   "outputs": [],
   "source": []
  },
  {
   "cell_type": "code",
   "execution_count": null,
   "id": "1e4ecd6f-409b-4c72-b9af-279ef1db32bd",
   "metadata": {},
   "outputs": [],
   "source": []
  },
  {
   "cell_type": "code",
   "execution_count": null,
   "id": "1e208d80-6647-4fef-a34a-bbc7f3799ec7",
   "metadata": {},
   "outputs": [],
   "source": []
  },
  {
   "cell_type": "code",
   "execution_count": null,
   "id": "10448637-d2b2-44e1-8755-bb2a6b70a513",
   "metadata": {},
   "outputs": [],
   "source": []
  },
  {
   "cell_type": "code",
   "execution_count": null,
   "id": "12b87228-90d0-4a2a-852a-8f5cbecce2e1",
   "metadata": {},
   "outputs": [],
   "source": []
  },
  {
   "cell_type": "code",
   "execution_count": null,
   "id": "4c8e8d70-3c0a-4334-99a1-aa196f8df555",
   "metadata": {},
   "outputs": [],
   "source": []
  },
  {
   "cell_type": "code",
   "execution_count": null,
   "id": "ba5a21fa-59c2-4f22-befa-942f55493ca2",
   "metadata": {},
   "outputs": [],
   "source": []
  },
  {
   "cell_type": "code",
   "execution_count": null,
   "id": "2f91c943-af0a-4baa-8c1e-79a8cb0f855e",
   "metadata": {},
   "outputs": [],
   "source": []
  },
  {
   "cell_type": "code",
   "execution_count": null,
   "id": "30437c51-7818-4b52-a2a2-77c9c50d7557",
   "metadata": {},
   "outputs": [],
   "source": []
  },
  {
   "cell_type": "code",
   "execution_count": null,
   "id": "a6a7cfb7-6a6a-445f-8510-9ba0f35771e7",
   "metadata": {},
   "outputs": [],
   "source": []
  },
  {
   "cell_type": "code",
   "execution_count": null,
   "id": "c115779a-17b2-4296-9a0f-a26a5602a147",
   "metadata": {},
   "outputs": [],
   "source": []
  },
  {
   "cell_type": "code",
   "execution_count": null,
   "id": "3db41aaa-0651-48f6-a6a1-9a47b74e8f40",
   "metadata": {},
   "outputs": [],
   "source": []
  },
  {
   "cell_type": "code",
   "execution_count": null,
   "id": "2318e446-d1df-43b0-a83f-47ac38e91222",
   "metadata": {},
   "outputs": [],
   "source": []
  },
  {
   "cell_type": "code",
   "execution_count": null,
   "id": "b0925990-b592-4541-b213-938b1b805455",
   "metadata": {},
   "outputs": [],
   "source": []
  },
  {
   "cell_type": "code",
   "execution_count": null,
   "id": "b792b111-c1db-49b6-9480-2a39cd140fed",
   "metadata": {},
   "outputs": [],
   "source": []
  },
  {
   "cell_type": "code",
   "execution_count": null,
   "id": "1d01ad59-6ac6-420b-bced-e0b4f5f52e14",
   "metadata": {},
   "outputs": [],
   "source": []
  },
  {
   "cell_type": "code",
   "execution_count": null,
   "id": "94f36db6-d27d-428f-bde5-e6b020757fb7",
   "metadata": {},
   "outputs": [],
   "source": []
  },
  {
   "cell_type": "code",
   "execution_count": null,
   "id": "037b3cae-e67f-4c5e-87b4-659dbd9c8bdc",
   "metadata": {},
   "outputs": [],
   "source": []
  },
  {
   "cell_type": "code",
   "execution_count": null,
   "id": "f1640f82-0ce1-4306-96a4-9e615734c93e",
   "metadata": {},
   "outputs": [],
   "source": []
  },
  {
   "cell_type": "code",
   "execution_count": null,
   "id": "e2c84ada-0d6e-411f-8842-614202429c40",
   "metadata": {},
   "outputs": [],
   "source": []
  },
  {
   "cell_type": "code",
   "execution_count": null,
   "id": "7050e473-6ac2-4be2-b6c9-edcecac432d6",
   "metadata": {},
   "outputs": [],
   "source": []
  },
  {
   "cell_type": "code",
   "execution_count": null,
   "id": "d573367f-85ce-431a-bd29-82f79e73c185",
   "metadata": {},
   "outputs": [],
   "source": []
  },
  {
   "cell_type": "code",
   "execution_count": null,
   "id": "0c6f60c6-da11-4d90-ab15-0cbfd119d9a2",
   "metadata": {},
   "outputs": [],
   "source": []
  },
  {
   "cell_type": "code",
   "execution_count": null,
   "id": "b9610997-6bfe-48bd-a607-0b73d67481a8",
   "metadata": {},
   "outputs": [],
   "source": []
  },
  {
   "cell_type": "code",
   "execution_count": null,
   "id": "5a87c114-03e8-4ad3-8751-6b5d2669a306",
   "metadata": {},
   "outputs": [],
   "source": []
  },
  {
   "cell_type": "code",
   "execution_count": null,
   "id": "8ee6dc1a-15de-4da2-b1a0-a052481943ee",
   "metadata": {},
   "outputs": [],
   "source": []
  },
  {
   "cell_type": "code",
   "execution_count": null,
   "id": "735bcf2d-9eb7-4bd6-a55b-bfb573a02a46",
   "metadata": {},
   "outputs": [],
   "source": []
  },
  {
   "cell_type": "code",
   "execution_count": null,
   "id": "4fd526a9-c5cb-4156-8390-512f987e9a22",
   "metadata": {},
   "outputs": [],
   "source": []
  },
  {
   "cell_type": "code",
   "execution_count": null,
   "id": "60033b55-87fc-4108-b65f-27b22ef46663",
   "metadata": {},
   "outputs": [],
   "source": []
  },
  {
   "cell_type": "code",
   "execution_count": null,
   "id": "da593a78-5387-4994-897a-6addfa6453c9",
   "metadata": {},
   "outputs": [],
   "source": []
  },
  {
   "cell_type": "code",
   "execution_count": null,
   "id": "a792b902-1d7f-4281-94b3-a535aaa25c4c",
   "metadata": {},
   "outputs": [],
   "source": []
  },
  {
   "cell_type": "code",
   "execution_count": null,
   "id": "2a359d25-80e3-462b-a53c-b2944b7ec749",
   "metadata": {},
   "outputs": [],
   "source": []
  },
  {
   "cell_type": "code",
   "execution_count": null,
   "id": "b621cd7d-1f11-400f-b694-07e62a7d525b",
   "metadata": {},
   "outputs": [],
   "source": []
  },
  {
   "cell_type": "code",
   "execution_count": null,
   "id": "8a9cd3ab-db01-4ee1-a358-8385c9c73b57",
   "metadata": {},
   "outputs": [],
   "source": []
  },
  {
   "cell_type": "code",
   "execution_count": null,
   "id": "1025d948-fa42-4efc-a5b7-a1ed02ba32ca",
   "metadata": {},
   "outputs": [],
   "source": []
  },
  {
   "cell_type": "code",
   "execution_count": null,
   "id": "29d3fc15-31b1-46fa-821d-9286683ff5ec",
   "metadata": {},
   "outputs": [],
   "source": []
  },
  {
   "cell_type": "code",
   "execution_count": null,
   "id": "c0dc26de-22b6-441b-9018-24f73fec6ded",
   "metadata": {},
   "outputs": [],
   "source": []
  },
  {
   "cell_type": "code",
   "execution_count": null,
   "id": "f98306d9-3022-4a3b-b3fc-d6c0ee8ebaf7",
   "metadata": {},
   "outputs": [],
   "source": []
  },
  {
   "cell_type": "code",
   "execution_count": null,
   "id": "efc6a78f-4a16-44c6-a9b4-4f387c144a17",
   "metadata": {},
   "outputs": [],
   "source": []
  },
  {
   "cell_type": "code",
   "execution_count": null,
   "id": "f256dd98-72df-4deb-964a-8b4d6d7e0745",
   "metadata": {},
   "outputs": [],
   "source": []
  },
  {
   "cell_type": "code",
   "execution_count": null,
   "id": "fe3821d0-b1f6-4f65-8d6b-44a90bf32edb",
   "metadata": {},
   "outputs": [],
   "source": []
  },
  {
   "cell_type": "code",
   "execution_count": null,
   "id": "4f864356-12e8-452a-be9b-e6181ca5a5b7",
   "metadata": {},
   "outputs": [],
   "source": []
  },
  {
   "cell_type": "code",
   "execution_count": null,
   "id": "6ea3ea7c-9fe7-43de-8872-7b4a244a0823",
   "metadata": {},
   "outputs": [],
   "source": []
  },
  {
   "cell_type": "code",
   "execution_count": null,
   "id": "79583f12-c83e-46a2-bef0-9a28908c1bdc",
   "metadata": {},
   "outputs": [],
   "source": []
  },
  {
   "cell_type": "code",
   "execution_count": null,
   "id": "83f1ac93-9174-4ec0-8cb4-5058ee15f467",
   "metadata": {},
   "outputs": [],
   "source": []
  },
  {
   "cell_type": "code",
   "execution_count": null,
   "id": "62d651a3-7189-43a9-98cb-dc51e31ca900",
   "metadata": {},
   "outputs": [],
   "source": []
  },
  {
   "cell_type": "code",
   "execution_count": null,
   "id": "20c0a61d-7130-45e8-90b6-9515785b25fe",
   "metadata": {},
   "outputs": [],
   "source": []
  },
  {
   "cell_type": "code",
   "execution_count": null,
   "id": "87e8ee71-1244-4a39-9f5f-d2062afa4e45",
   "metadata": {},
   "outputs": [],
   "source": []
  },
  {
   "cell_type": "code",
   "execution_count": null,
   "id": "d7bd4430-4aaf-4a8c-a0ac-2c003b1dc5b3",
   "metadata": {},
   "outputs": [],
   "source": []
  },
  {
   "cell_type": "code",
   "execution_count": null,
   "id": "1f935176-8d77-428a-b4ba-1268757624c2",
   "metadata": {},
   "outputs": [],
   "source": []
  }
 ],
 "metadata": {
  "kernelspec": {
   "display_name": ".venv",
   "language": "python",
   "name": "python3"
  },
  "language_info": {
   "codemirror_mode": {
    "name": "ipython",
    "version": 3
   },
   "file_extension": ".py",
   "mimetype": "text/x-python",
   "name": "python",
   "nbconvert_exporter": "python",
   "pygments_lexer": "ipython3",
   "version": "3.13.0"
  }
 },
 "nbformat": 4,
 "nbformat_minor": 5
}
