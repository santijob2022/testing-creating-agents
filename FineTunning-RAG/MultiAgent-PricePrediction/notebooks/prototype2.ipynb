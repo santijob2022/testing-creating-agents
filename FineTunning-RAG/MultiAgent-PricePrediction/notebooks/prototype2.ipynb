{
 "cells": [
  {
   "cell_type": "code",
   "execution_count": null,
   "id": "f9429b07",
   "metadata": {},
   "outputs": [],
   "source": [
    "# %cd ..\n",
    "# import os\n",
    "# print(os.getcwd())"
   ]
  },
  {
   "cell_type": "code",
   "execution_count": null,
   "id": "bb46758d",
   "metadata": {},
   "outputs": [
    {
     "name": "stdout",
     "output_type": "stream",
     "text": [
      "The autoreload extension is already loaded. To reload it, use:\n",
      "  %reload_ext autoreload\n"
     ]
    }
   ],
   "source": [
    "%load_ext autoreload\n",
    "%autoreload 2\n",
    "\n",
    "import os\n",
    "import re\n",
    "import math\n",
    "import json\n",
    "from tqdm import tqdm\n",
    "import random\n",
    "from dotenv import load_dotenv\n",
    "from huggingface_hub import login\n",
    "import matplotlib.pyplot as plt\n",
    "import numpy as np\n",
    "import pickle\n",
    "from openai import OpenAI\n",
    "from sentence_transformers import SentenceTransformer\n",
    "from datasets import load_dataset\n",
    "import chromadb\n",
    "\n",
    "import sys\n",
    "sys.path.append(os.path.abspath('..'))\n",
    "from utils.items import Item\n",
    "from utils.testing import Tester"
   ]
  },
  {
   "cell_type": "code",
   "execution_count": 2,
   "id": "d20d1485",
   "metadata": {},
   "outputs": [
    {
     "data": {
      "text/plain": [
       "True"
      ]
     },
     "execution_count": 2,
     "metadata": {},
     "output_type": "execute_result"
    }
   ],
   "source": [
    "load_dotenv()\n",
    "# os.environ['OPENAI_API_KEY'] = os.getenv('OPENAI_API_KEY', 'your-key-if-not-using-env')\n",
    "# os.environ['HF_TOKEN'] = os.getenv('HF_TOKEN', 'your-key-if-not-using-env')"
   ]
  },
  {
   "cell_type": "markdown",
   "id": "4cbadfc6",
   "metadata": {},
   "source": [
    "## Inference with RAG without using Langchain"
   ]
  },
  {
   "cell_type": "markdown",
   "id": "a24767aa",
   "metadata": {},
   "source": [
    "Preparing the call to the model"
   ]
  },
  {
   "cell_type": "code",
   "execution_count": 3,
   "id": "edeb6e9b",
   "metadata": {},
   "outputs": [],
   "source": [
    "openai = OpenAI()"
   ]
  },
  {
   "cell_type": "code",
   "execution_count": 16,
   "id": "9b94e54e",
   "metadata": {},
   "outputs": [
    {
     "name": "stdout",
     "output_type": "stream",
     "text": [
      "4000\n"
     ]
    }
   ],
   "source": [
    "# Loading the previously saved model\n",
    "with open('../Data/validation.pkl', 'rb') as file:\n",
    "    validation = pickle.load(file)\n",
    "    print(len(validation))"
   ]
  },
  {
   "cell_type": "code",
   "execution_count": 19,
   "id": "3658da8b",
   "metadata": {},
   "outputs": [
    {
     "data": {
      "text/plain": [
       "[<Arlo Q 1080p Hd Security Camera With Audio 2 Pack = $149.99>,\n",
       " <Baja Designs 55-51005 Squadron Sport Flush Mount LED Wide Cornering,1 Pack = $141.95>,\n",
       " <R&M Specialties 1120S Satin Spark Plug Wire Loom Set with Center-Bolt Valve Cover for Small Block Chevy = $80.6>]"
      ]
     },
     "execution_count": 19,
     "metadata": {},
     "output_type": "execute_result"
    }
   ],
   "source": [
    "validation[:3]"
   ]
  },
  {
   "cell_type": "code",
   "execution_count": 20,
   "id": "6017b8a3",
   "metadata": {},
   "outputs": [],
   "source": [
    "def make_context(similars, prices):\n",
    "    message = \"Study the prices of these other items that might be similar to the item you need to estimate.\\n\\n\"\n",
    "    for similar, price in zip(similars, prices):\n",
    "        message += f\"Potentially related product:\\n{similar}\\nPrice is ${price:.2f}\\n\\n\"\n",
    "    return message"
   ]
  },
  {
   "cell_type": "code",
   "execution_count": 21,
   "id": "cef1301d",
   "metadata": {},
   "outputs": [],
   "source": [
    "# Defining the state to call the LLM\n",
    "def messages_for(item, similars, prices):\n",
    "    system_message = \"You estimate prices of items. Reply only with the price, no explanation\"\n",
    "    user_prompt = make_context(similars, prices)\n",
    "    user_prompt += \"And now the question for you:\\n\\n\"\n",
    "    user_prompt += item.test_prompt().replace(\" to the nearest dollar\",\"\").replace(\"\\n\\nPrice is $\",\"\")\n",
    "    return [\n",
    "        {\"role\": \"system\", \"content\": system_message},\n",
    "        {\"role\": \"user\", \"content\": user_prompt},\n",
    "        {\"role\": \"assistant\", \"content\": \"Price is $\"}\n",
    "    ]"
   ]
  },
  {
   "cell_type": "markdown",
   "id": "7e19b63e",
   "metadata": {},
   "source": [
    "Calling the previously stored collection"
   ]
  },
  {
   "cell_type": "code",
   "execution_count": 23,
   "id": "a75341aa",
   "metadata": {},
   "outputs": [],
   "source": [
    "DB = \"DB_products_vectorstore\"\n",
    "collection_name = \"Amazon_reviews_products\""
   ]
  },
  {
   "cell_type": "code",
   "execution_count": 26,
   "id": "d9d13ac1",
   "metadata": {},
   "outputs": [],
   "source": [
    "client = chromadb.PersistentClient(path=\"../Data/chromaDB\")\n",
    "collection = client.get_or_create_collection(collection_name)"
   ]
  },
  {
   "cell_type": "markdown",
   "id": "7844ee9a",
   "metadata": {},
   "source": [
    "Preparing the query"
   ]
  },
  {
   "cell_type": "code",
   "execution_count": 9,
   "id": "fcccbb79",
   "metadata": {},
   "outputs": [],
   "source": [
    "model = SentenceTransformer('sentence-transformers/all-MiniLM-L6-v2')"
   ]
  },
  {
   "cell_type": "code",
   "execution_count": 10,
   "id": "b2399753",
   "metadata": {},
   "outputs": [],
   "source": [
    "def description(item):\n",
    "    text = item.prompt.replace(\"How much does this cost to the nearest dollar?\\n\\n\", \"\")\n",
    "    return text.split(\"\\n\\nPrice is $\")[0]"
   ]
  },
  {
   "cell_type": "code",
   "execution_count": 11,
   "id": "063bb45f",
   "metadata": {},
   "outputs": [],
   "source": [
    "def vector(item):\n",
    "    return model.encode([description(item)])"
   ]
  },
  {
   "cell_type": "code",
   "execution_count": 34,
   "id": "c3e274a1",
   "metadata": {},
   "outputs": [],
   "source": [
    "def find_similars(item):\n",
    "    results = collection.query(query_embeddings=vector(item).astype(float).tolist(), n_results=5)\n",
    "    documents = results['documents'][0][:]\n",
    "    prices = [m['price'] for m in results['metadatas'][0][:]]\n",
    "    return documents, prices"
   ]
  },
  {
   "cell_type": "code",
   "execution_count": 35,
   "id": "a74d1c2e",
   "metadata": {},
   "outputs": [
    {
     "name": "stdout",
     "output_type": "stream",
     "text": [
      "Study the prices of these other items that might be similar to the item you need to estimate.\n",
      "\n",
      "Potentially related product:\n",
      "Arlo Pro 3 – Wire-Free Security 2 Camera System | 2K with HDR, Indoor/Outdoor, Color Night Vision, Spotlight, 160° View, 2-Way Audio, Siren | Works with Alexa | (Renewed)\n",
      "ARLO Arlo Pro 3 Wire-Free Sec 2 Cam Sys White Wire-free and weather-resistant design, works with Alexa and Google Assistant, and includes Arlo Secure Trial with cloud recording 2K video with HDR zoom in on objects and see clearer details and colors in 2K HDR Color night vision see what’s lurking with color night vision or black and white. Battery Life - 3-6 months. Charge Time to Full (via camera)- 3.5 hrs. Charge time to\n",
      "Price is $242.99\n",
      "\n",
      "Potentially related product:\n",
      "Arlo Pro Wire-Free HD Camera Security System Kit)\n",
      "Your World, Just a Tap Away Whether you're using a smartphone, tablet or computer, you can check in to Arlo with only a few clicks. The free Arlo app is available for iOS, Android, Apple TV and web browsers. View live anytime and receive instant email or mobile alerts whenever motion or audio is detected. Never Miss a Moment Again Arlo records motion or sound-triggered events and saves them in your cloud library to be viewed, downloaded and shared for 7 days, for free. Your Schedule, Your Terms Use Smart s... Arlo Pro Wire-Free HD Camera Security System kit) Brand New in box. The product ships with all relevant accessories Brand Arlo, Connectivity Technology Wireless, Video Capture Resolution\n",
      "Price is $599.00\n",
      "\n",
      "Potentially related product:\n",
      "Arlo Ultra - 4K UHD Wire-Free Security 1 Camera System\n",
      "Arlo Ultra 4K wire-free security camera delivers ultimate peace of mind with advanced video and audio quality. Easy to install, place the wire-free camera around your house and monitor your home or business with a wider angle view. With Ultra’s 4K, zoom in on objects to see more details. With advanced night vision and integrated spotlight you’ll see color video even at night. The integrated spotlight lights up the night or helps toward off unwanted visitors. Advanced noise cancelling technology minimizes background noise for crystal clear, two-way conversations. Get long-lasting charge with the rechargeable battery. Remotely access your video recordings directly from your Arlo Smart Hub. Arlo Ultra also includes 1\n",
      "Price is $324.95\n",
      "\n",
      "Potentially related product:\n",
      "Arlo Ultra - 4K UHD Wire-Free Security 2 Camera System | Indoor/Outdoor with Color Night Vision, 180° View, 2-Way Audio, Spotlight, Siren | Compatible with Alexa and HomeKit | (Renewed)\n",
      "Arlo Ultra - 4K UHD Wire-Free Security 2 Camera System | Indoor/Outdoor with Color Night Vision, 180° View, 2-Way Audio, Spotlight, Siren | Compatible with Alexa and HomeKit | (Renewed) UHD video quality - Zoom in to see sharp details with Arlo Ultra’s 4K & HDR advanced image quality technology 180 Degree diagonal field of view - See more with a wider angle lens that has auto image correction reducing the fish eye effect Enhanced\n",
      "Price is $299.99\n",
      "\n",
      "Potentially related product:\n",
      "Arlo Pro - Wireless Home Security Camera Starter System | Rechargeable, Night vision, Indoor/Outdoor | 3 camera kit with wall and outdoor mount\n",
      "Arlo Pro is a 100% wire-free indoor/outdoor security camera with rechargeable batteries and audio and can be added to any Arlo base station system. Arlo Pro includes rechargeable batteries, motion and sound-activated alerts, 2-way audio, a 100+ decibel siren, and 7 days of free cloud HD video recordings. Arlo covers every angle to help keep you safe and protected.Note Place the camera within the WiFi's range for the device to work effectively. Works with Amazon Alexa/Echo Show/Fire TV/Google Assistant View your live video with a simple voice command. Works\n",
      "Price is $549.99\n",
      "\n",
      "\n"
     ]
    }
   ],
   "source": [
    "documents, prices = find_similars(validation[0])\n",
    "print(make_context(documents, prices))"
   ]
  },
  {
   "cell_type": "code",
   "execution_count": 36,
   "id": "9edc029c",
   "metadata": {},
   "outputs": [],
   "source": [
    "# print(messages_for(validation[0], documents, prices))"
   ]
  },
  {
   "cell_type": "code",
   "execution_count": 37,
   "id": "cb2edf36",
   "metadata": {},
   "outputs": [],
   "source": [
    "def get_price(s):\n",
    "    s = s.replace('$','').replace(',','')\n",
    "    match = re.search(r\"[-+]?\\d*\\.\\d+|\\d+\", s)\n",
    "    return float(match.group()) if match else 0"
   ]
  },
  {
   "cell_type": "markdown",
   "id": "1a6a2451",
   "metadata": {},
   "source": [
    "# Calling the Model"
   ]
  },
  {
   "cell_type": "code",
   "execution_count": 38,
   "id": "63bc91bc",
   "metadata": {},
   "outputs": [],
   "source": [
    "def gpt_4o_mini_rag(item):\n",
    "    documents, prices = find_similars(item)\n",
    "    response = openai.chat.completions.create(\n",
    "        model=\"gpt-4o-mini\", \n",
    "        messages=messages_for(item, documents, prices),\n",
    "        seed=42,\n",
    "        max_tokens=5\n",
    "    )\n",
    "    reply = response.choices[0].message.content\n",
    "    return get_price(reply)"
   ]
  },
  {
   "cell_type": "code",
   "execution_count": 39,
   "id": "c1e3fcc7",
   "metadata": {},
   "outputs": [
    {
     "name": "stdout",
     "output_type": "stream",
     "text": [
      "GPT estimate:  129.99\n",
      "Real value:  149.99\n"
     ]
    }
   ],
   "source": [
    "print(\"GPT estimate: \", gpt_4o_mini_rag(validation[0]))\n",
    "print(\"Real value: \",validation[0].price)"
   ]
  },
  {
   "cell_type": "markdown",
   "id": "ff613e05",
   "metadata": {},
   "source": [
    "## Making Inference with RAG using GPT-4o-mini\n",
    "\n",
    "Remember the number validation data is 4000 datapoints. I will initially test over just 250. The Tester class has a size variable set to 250."
   ]
  },
  {
   "cell_type": "code",
   "execution_count": null,
   "id": "3ecae46f",
   "metadata": {},
   "outputs": [
    {
     "name": "stdout",
     "output_type": "stream",
     "text": [
      "\u001b[92m1: Guess: $129.99 Truth: $149.99 Error: $20.00 SLE: 0.02 Item: Arlo Q 1080p Hd Security Camera With Aud...\u001b[0m\n",
      "\u001b[92m2: Guess: $141.95 Truth: $141.95 Error: $0.00 SLE: 0.00 Item: Baja Designs 55-51005 Squadron Sport Flu...\u001b[0m\n",
      "\u001b[93m3: Guess: $149.99 Truth: $80.60 Error: $69.39 SLE: 0.38 Item: R&M Specialties 1120S Satin Spark Plug W...\u001b[0m\n",
      "\u001b[93m4: Guess: $29.99 Truth: $94.99 Error: $65.00 SLE: 1.28 Item: Logitech Deluxe Access Keyboard\u001b[0m\n",
      "\u001b[91m5: Guess: $319.00 Truth: $199.00 Error: $120.00 SLE: 0.22 Item: Shure PGXD4=-X8 Digital Wireless Receive...\u001b[0m\n",
      "\u001b[93m6: Guess: $199.99 Truth: $144.14 Error: $55.85 SLE: 0.11 Item: Barnett Performance Products Complete Di...\u001b[0m\n",
      "\u001b[93m7: Guess: $136.99 Truth: $187.50 Error: $50.51 SLE: 0.10 Item: Dell Optiplex 9020 Business Tower Comput...\u001b[0m\n",
      "\u001b[92m8: Guess: $120.00 Truth: $138.00 Error: $18.00 SLE: 0.02 Item: Fujifilm Finepix S6000fd 6.3MP Digital C...\u001b[0m\n",
      "\u001b[92m9: Guess: $168.82 Truth: $163.47 Error: $5.35 SLE: 0.00 Item: URO Parts 1078202866 Tail Light Lens, Ri...\u001b[0m\n",
      "\u001b[92m10: Guess: $19.99 Truth: $2.85 Error: $17.14 SLE: 2.88 Item: (Taelectric) AC Adapter for Drillmaster ...\u001b[0m\n",
      "\u001b[92m11: Guess: $75.99 Truth: $37.95 Error: $38.04 SLE: 0.46 Item: LEGO Elves The Capture of Sophie Jones 4...\u001b[0m\n",
      "\u001b[93m12: Guess: $269.99 Truth: $224.55 Error: $45.44 SLE: 0.03 Item: 1A Auto Engine Exhaust Manifold & Cataly...\u001b[0m\n",
      "\u001b[92m13: Guess: $329.99 Truth: $398.86 Error: $68.87 SLE: 0.04 Item: MSI MPG Intel Z490 Gaming Carbon WiFi LG...\u001b[0m\n",
      "\u001b[93m14: Guess: $59.99 Truth: $10.99 Error: $49.00 SLE: 2.65 Item: FEANTEEK USB to RS485 Converter ,RS485 A...\u001b[0m\n",
      "\u001b[93m15: Guess: $198.00 Truth: $139.00 Error: $59.00 SLE: 0.12 Item: NOVA TIG Welding Foot Pedal, AHP Welders...\u001b[0m\n",
      "\u001b[92m16: Guess: $24.99 Truth: $26.99 Error: $2.00 SLE: 0.01 Item: GearIT 18/3 18 AWG Portable Power Cable ...\u001b[0m\n",
      "\u001b[92m17: Guess: $187.00 Truth: $178.00 Error: $9.00 SLE: 0.00 Item: Billingham Galbin 10 Binocular Case (Sag...\u001b[0m\n",
      "\u001b[92m18: Guess: $1.75 Truth: $2.15 Error: $0.40 SLE: 0.02 Item: Yu-Gi-Oh! - Shine Palace (SOVR-EN091) - ...\u001b[0m\n",
      "\u001b[92m19: Guess: $169.95 Truth: $211.84 Error: $41.89 SLE: 0.05 Item: Viair 27520 Compressor Kit,Silver,12v 15...\u001b[0m\n",
      "\u001b[93m20: Guess: $189.99 Truth: $289.95 Error: $99.96 SLE: 0.18 Item: Stark USA 65045 Drywall Lift 16' Yellow ...\u001b[0m\n",
      "\u001b[92m21: Guess: $199.99 Truth: $163.19 Error: $36.80 SLE: 0.04 Item: Lauren 6 String Acoustic Bass Guitar, Ri...\u001b[0m\n",
      "\u001b[93m22: Guess: $599.00 Truth: $849.00 Error: $250.00 SLE: 0.12 Item: Zhiyun Crane 3S Pro Kit [Official] Handh...\u001b[0m\n",
      "\u001b[92m23: Guess: $244.99 Truth: $247.98 Error: $2.99 SLE: 0.00 Item: 2018 Dell Latitude 7390 13.3 inch FHD La...\u001b[0m\n",
      "\u001b[92m24: Guess: $14.99 Truth: $20.00 Error: $5.01 SLE: 0.07 Item: Oregon 83-012 Toro[790] Small Engine Oil...\u001b[0m\n",
      "\u001b[92m25: Guess: $355.00 Truth: $304.21 Error: $50.79 SLE: 0.02 Item: Westbrass D272HFP-12 Develosah 2-Handle ...\u001b[0m\n",
      "\u001b[92m26: Guess: $60.99 Truth: $61.35 Error: $0.36 SLE: 0.00 Item: Wilkinson Vintage Tone Alnico 5 PAF Styl...\u001b[0m\n",
      "\u001b[92m27: Guess: $139.99 Truth: $138.61 Error: $1.38 SLE: 0.00 Item: Hy-Gain VB-23FM ~Yagi Antenna, 2m, 3 Ele...\u001b[0m\n",
      "\u001b[91m28: Guess: $129.99 Truth: $477.99 Error: $348.00 SLE: 1.68 Item: SpeedForm Rear Window Louvers; Textured ...\u001b[0m\n",
      "\u001b[92m29: Guess: $134.67 Truth: $109.98 Error: $24.69 SLE: 0.04 Item: ASTSH Wireless Apple Carplay Android Aut...\u001b[0m\n",
      "\u001b[92m30: Guess: $349.99 Truth: $379.99 Error: $30.00 SLE: 0.01 Item: Fms Rc Planes for Adults Remote Control ...\u001b[0m\n",
      "\u001b[92m31: Guess: $32.00 Truth: $58.00 Error: $26.00 SLE: 0.34 Item: Star Wars Revenge of the Sith - Darth Si...\u001b[0m\n",
      "\u001b[92m32: Guess: $90.00 Truth: $72.00 Error: $18.00 SLE: 0.05 Item: CODELOCKS KL1006KIT-SG Zinc Silver Grey ...\u001b[0m\n",
      "\u001b[92m33: Guess: $469.00 Truth: $429.99 Error: $39.01 SLE: 0.01 Item: airmaxxx Air Compressors 480 Chrome & 33...\u001b[0m\n",
      "\u001b[92m34: Guess: $94.99 Truth: $132.54 Error: $37.55 SLE: 0.11 Item: ClosetMaid 52845 ShelfTrack Adjustable U...\u001b[0m\n",
      "\u001b[92m35: Guess: $269.99 Truth: $285.99 Error: $16.00 SLE: 0.00 Item: IVISII RGB Video Light, Full Color LED P...\u001b[0m\n",
      "\u001b[92m36: Guess: $190.45 Truth: $171.52 Error: $18.93 SLE: 0.01 Item: CarPartsDepot Rear Primered Bumper Cover...\u001b[0m\n",
      "\u001b[92m37: Guess: $25.99 Truth: $36.99 Error: $11.00 SLE: 0.12 Item: 12 in. x 24 in. Chain Link Copper Alumin...\u001b[0m\n",
      "\u001b[92m38: Guess: $136.90 Truth: $103.99 Error: $32.91 SLE: 0.07 Item: Dee Zee DZ86985 Heavyweight Bed Mat\u001b[0m\n",
      "\u001b[92m39: Guess: $272.00 Truth: $243.51 Error: $28.49 SLE: 0.01 Item: GM Genuine Parts 21647 Radiator\u001b[0m\n",
      "\u001b[93m40: Guess: $299.99 Truth: $216.51 Error: $83.48 SLE: 0.11 Item: HP 600 G1 Intel Core i5 3.2GHz SFF Compu...\u001b[0m\n",
      "\u001b[91m41: Guess: $75.00 Truth: $199.36 Error: $124.36 SLE: 0.94 Item: TRUE 831932 Temperature Control\u001b[0m\n",
      "\u001b[92m42: Guess: $5.99 Truth: $7.99 Error: $2.00 SLE: 0.06 Item: BAISDY 12Pcs Pastel Highlighters Mild Mu...\u001b[0m\n",
      "\u001b[92m43: Guess: $91.60 Truth: $85.00 Error: $6.60 SLE: 0.01 Item: GE WR60X10257 Genuine OEM Evaporator Fan...\u001b[0m\n",
      "\u001b[92m44: Guess: $176.99 Truth: $176.99 Error: $0.00 SLE: 0.00 Item: mirrea Modern Outdoor Porch Light Patio ...\u001b[0m\n",
      "\u001b[93m45: Guess: $272.00 Truth: $449.13 Error: $177.13 SLE: 0.25 Item: Reversible Torque Wrench, 3/8\" Drive-100...\u001b[0m\n",
      "\u001b[93m46: Guess: $389.99 Truth: $319.99 Error: $70.00 SLE: 0.04 Item: Polaris General Windshield - Full Foldin...\u001b[0m\n",
      "\u001b[92m47: Guess: $35.00 Truth: $42.03 Error: $7.03 SLE: 0.03 Item: 16x25x4 MERV 8 White-Rodgers FR1400M-108...\u001b[0m\n",
      "\u001b[91m48: Guess: $37.99 Truth: $128.53 Error: $90.54 SLE: 1.44 Item: Union Creative Code Geass: Lelouch of Th...\u001b[0m\n",
      "\u001b[91m49: Guess: $272.96 Truth: $152.70 Error: $120.26 SLE: 0.33 Item: Waverly Banjo Tuning Pegs, Nickel, Set o...\u001b[0m\n",
      "\u001b[92m50: Guess: $125.95 Truth: $122.95 Error: $3.00 SLE: 0.00 Item: Dorman 620-636 Engine Cooling Fan Assemb...\u001b[0m\n",
      "\u001b[92m51: Guess: $242.70 Truth: $219.79 Error: $22.91 SLE: 0.01 Item: UNITY AUTOMOTIVE 2-15240-001 Rear 2 Whee...\u001b[0m\n",
      "\u001b[92m52: Guess: $197.95 Truth: $206.95 Error: $9.00 SLE: 0.00 Item: Arlen Ness 18-821 Black Big Sucker Stage...\u001b[0m\n",
      "\u001b[92m53: Guess: $220.90 Truth: $220.81 Error: $0.09 SLE: 0.00 Item: SPPC Chrome Projector Headlights For Vol...\u001b[0m\n",
      "\u001b[91m54: Guess: $49.99 Truth: $187.74 Error: $137.75 SLE: 1.71 Item: Pocket scarf Fashionable Chandelier leta...\u001b[0m\n",
      "\u001b[93m55: Guess: $260.00 Truth: $193.40 Error: $66.60 SLE: 0.09 Item: DENSO 471-7050 A/C Compressor\u001b[0m\n",
      "\u001b[92m56: Guess: $139.98 Truth: $159.98 Error: $20.00 SLE: 0.02 Item: Rockford Fosgate R168X2 6x8\" 220W 2 Way ...\u001b[0m\n",
      "\u001b[92m57: Guess: $1.50 Truth: $2.01 Error: $0.51 SLE: 0.03 Item: Yu-Gi-Oh! - Soul Release (MRD-058) - Met...\u001b[0m\n",
      "\u001b[92m58: Guess: $320.00 Truth: $325.00 Error: $5.00 SLE: 0.00 Item: Ultra Articulating Keyboard Tray by ESI ...\u001b[0m\n",
      "\u001b[91m59: Guess: $149.00 Truth: $352.95 Error: $203.95 SLE: 0.74 Item: Schluter Kerdi 108 Sq Ft Waterproofing M...\u001b[0m\n",
      "\u001b[92m60: Guess: $1,050.00 Truth: $981.00 Error: $69.00 SLE: 0.00 Item: Design Toscano Electra, Maiden of Light ...\u001b[0m\n",
      "\u001b[92m61: Guess: $45.99 Truth: $49.29 Error: $3.30 SLE: 0.00 Item: Valuetoner Remanufactured Ink Cartridge ...\u001b[0m\n",
      "\u001b[92m62: Guess: $164.46 Truth: $195.98 Error: $31.52 SLE: 0.03 Item: Detroit Axle - Complete Rack and Pinion ...\u001b[0m\n",
      "\u001b[92m63: Guess: $89.99 Truth: $112.50 Error: $22.51 SLE: 0.05 Item: WUHAN WUCR18T Crash 18-Inch Thin\u001b[0m\n",
      "\u001b[92m64: Guess: $179.00 Truth: $169.00 Error: $10.00 SLE: 0.00 Item: ZGCINE Mini Charging V Mount Battery,99W...\u001b[0m\n",
      "\u001b[92m65: Guess: $260.00 Truth: $252.79 Error: $7.21 SLE: 0.00 Item: D.I.D. (DKS-015G 530ZVM-X Gold Chain and...\u001b[0m\n",
      "\u001b[92m66: Guess: $115.00 Truth: $137.99 Error: $22.99 SLE: 0.03 Item: Brooks England Scape Handlebar roll, Mud...\u001b[0m\n",
      "\u001b[91m67: Guess: $499.00 Truth: $899.00 Error: $400.00 SLE: 0.35 Item: Electro-Voice ZXA1SUB 12\" Compact Powere...\u001b[0m\n",
      "\u001b[92m68: Guess: $206.50 Truth: $203.40 Error: $3.10 SLE: 0.00 Item: Brock Replacement for Pair Set Combinati...\u001b[0m\n",
      "\u001b[92m69: Guess: $59.99 Truth: $70.99 Error: $11.00 SLE: 0.03 Item: HD Splined Steel F+R Drive Shafts Blue f...\u001b[0m\n",
      "\u001b[93m70: Guess: $189.00 Truth: $147.00 Error: $42.00 SLE: 0.06 Item: MagnaFlow 94056 Universal Catalytic Conv...\u001b[0m\n",
      "\u001b[92m71: Guess: $19.99 Truth: $20.99 Error: $1.00 SLE: 0.00 Item: CNC Router Bits 1/8\" Shank Straight Rout...\u001b[0m\n",
      "\u001b[92m72: Guess: $196.95 Truth: $215.29 Error: $18.34 SLE: 0.01 Item: ACC Brand Carpet Compatible with 1994 to...\u001b[0m\n",
      "\u001b[92m73: Guess: $185.45 Truth: $208.88 Error: $23.43 SLE: 0.01 Item: Road One Cavalry M/T Mud Tire RL1295 275...\u001b[0m\n",
      "\u001b[92m74: Guess: $22.95 Truth: $14.99 Error: $7.96 SLE: 0.16 Item: Logitech Design Collection Limited Editi...\u001b[0m\n",
      "\u001b[91m75: Guess: $95.99 Truth: $259.99 Error: $164.00 SLE: 0.98 Item: Genuine Goat Leather Cymbal Carrying Cas...\u001b[0m\n",
      "\u001b[92m76: Guess: $149.99 Truth: $179.99 Error: $30.00 SLE: 0.03 Item: Star S07UF06C Under Sink Counter Carbon ...\u001b[0m\n",
      "\u001b[92m77: Guess: $219.99 Truth: $188.99 Error: $31.00 SLE: 0.02 Item: Moroso 85602 Air and Oil Separator for C...\u001b[0m\n",
      "\u001b[92m78: Guess: $29.99 Truth: $19.38 Error: $10.61 SLE: 0.18 Item: uxcell Piston Ring Pliers Install Remove...\u001b[0m\n",
      "\u001b[93m79: Guess: $148.50 Truth: $106.84 Error: $41.66 SLE: 0.11 Item: TOYOTA Genuine (PT924-48140-10) Cargo Li...\u001b[0m\n",
      "\u001b[92m80: Guess: $146.99 Truth: $146.99 Error: $0.00 SLE: 0.00 Item: Lloyd Mats, Compatible With Toyota Sienn...\u001b[0m\n",
      "\u001b[92m81: Guess: $155.99 Truth: $150.96 Error: $5.03 SLE: 0.00 Item: CURT 13119 Class 3 Trailer Hitch, 2-Inch...\u001b[0m\n",
      "\u001b[92m82: Guess: $329.06 Truth: $337.98 Error: $8.92 SLE: 0.00 Item: NEW BILSTEIN FRONT & REAR SHOCKS FOR 97-...\u001b[0m\n",
      "\u001b[92m83: Guess: $575.00 Truth: $688.00 Error: $113.00 SLE: 0.03 Item: Belltech 664ND Lowering Kit with Nitro D...\u001b[0m\n",
      "\u001b[92m84: Guess: $14.99 Truth: $7.30 Error: $7.69 SLE: 0.43 Item: Chase Paw Patrol Diecast Car 1:55 Scale\u001b[0m\n",
      "\u001b[92m85: Guess: $37.99 Truth: $44.99 Error: $7.00 SLE: 0.03 Item: EnDoc 6 3/4 Colored Envelopes - 500 Pack...\u001b[0m\n",
      "\u001b[92m86: Guess: $339.37 Truth: $333.45 Error: $5.92 SLE: 0.00 Item: RockTrix RT102 12in ATV Wheels 4x156 Rim...\u001b[0m\n",
      "\u001b[93m87: Guess: $199.00 Truth: $154.23 Error: $44.77 SLE: 0.06 Item: Litex E-WOD52WW5C All Weather Collection...\u001b[0m\n",
      "\u001b[92m88: Guess: $330.00 Truth: $297.16 Error: $32.84 SLE: 0.01 Item: Injen Technology SP1986BLK Black Mega Ra...\u001b[0m\n",
      "\u001b[92m89: Guess: $352.41 Truth: $321.41 Error: $31.00 SLE: 0.01 Item: Pair Front Left Right Shocks Struts w/Sp...\u001b[0m\n",
      "\u001b[92m90: Guess: $129.95 Truth: $141.23 Error: $11.28 SLE: 0.01 Item: Kodak Tri-x400 135-36 36mm Black and Whi...\u001b[0m\n",
      "\u001b[91m91: Guess: $406.00 Truth: $288.00 Error: $118.00 SLE: 0.12 Item: Sony X700-2K/4K UHD - 2D/3D - Wi-Fi - SA...\u001b[0m\n",
      "\u001b[93m92: Guess: $299.99 Truth: $425.00 Error: $125.01 SLE: 0.12 Item: Custom Cable Connection 22 AWG 8 Conduct...\u001b[0m\n",
      "\u001b[92m93: Guess: $207.90 Truth: $207.90 Error: $0.00 SLE: 0.00 Item: WeatherTech Custom Fit FloorLiner for Hy...\u001b[0m\n",
      "\u001b[93m94: Guess: $189.99 Truth: $124.99 Error: $65.00 SLE: 0.17 Item: Husky Liners - Weatherbeater | Fits 2019...\u001b[0m\n",
      "\u001b[92m95: Guess: $202.50 Truth: $237.39 Error: $34.89 SLE: 0.03 Item: Mustee 27W Composite 2-Basin Wall Mount ...\u001b[0m\n",
      "\u001b[92m96: Guess: $149.99 Truth: $185.00 Error: $35.01 SLE: 0.04 Item: AKKON - For GMC Yukon/Yukon XL Denali Hy...\u001b[0m\n",
      "\u001b[92m97: Guess: $136.77 Truth: $136.77 Error: $0.00 SLE: 0.00 Item: GEARFLAG Neoprene Seat Cover Custom fits...\u001b[0m\n",
      "\u001b[92m98: Guess: $116.67 Truth: $123.41 Error: $6.74 SLE: 0.00 Item: MOOG CK620024 Control Arm and Ball Joint...\u001b[0m\n",
      "\u001b[92m99: Guess: $129.00 Truth: $109.00 Error: $20.00 SLE: 0.03 Item: Sound Professionals LOW NOISE IN-EAR BIN...\u001b[0m\n",
      "\u001b[92m100: Guess: $349.99 Truth: $351.54 Error: $1.55 SLE: 0.00 Item: AEM 21-797C Cold Air Intake System (Non-...\u001b[0m\n",
      "\u001b[92m101: Guess: $1.00 Truth: $1.86 Error: $0.86 SLE: 0.13 Item: Yu-Gi-Oh! - Ghostrick Scare (SHSP-EN074)...\u001b[0m\n",
      "\u001b[92m102: Guess: $169.95 Truth: $156.95 Error: $13.00 SLE: 0.01 Item: Mishimoto - MMOP-EXTFC In-Line Oil Therm...\u001b[0m\n",
      "\u001b[93m103: Guess: $273.78 Truth: $224.76 Error: $49.02 SLE: 0.04 Item: Kohler TS99764-4-BL Honesty Rite-Temp Sh...\u001b[0m\n",
      "\u001b[92m104: Guess: $64.99 Truth: $50.99 Error: $14.00 SLE: 0.06 Item: Small Table Lamp for Bedroom Clear Glass...\u001b[0m\n",
      "\u001b[92m105: Guess: $269.99 Truth: $279.99 Error: $10.00 SLE: 0.00 Item: AmScope M220C-E2 Digital Monocular Compo...\u001b[0m\n",
      "\u001b[93m106: Guess: $139.95 Truth: $86.95 Error: $53.00 SLE: 0.22 Item: Nikon TREX EXO Binocular Carry System\u001b[0m\n",
      "\u001b[91m107: Guess: $215.00 Truth: $116.18 Error: $98.82 SLE: 0.37 Item: Control Arms w/Ball Joint Front Lower Le...\u001b[0m\n",
      "\u001b[92m108: Guess: $346.41 Truth: $391.41 Error: $45.00 SLE: 0.01 Item: For Ford F-150 2006 2007 2008 OEM AC Com...\u001b[0m\n",
      "\u001b[92m109: Guess: $163.19 Truth: $147.76 Error: $15.43 SLE: 0.01 Item: Koni (8040 1354Sport) Rear Sport Shock f...\u001b[0m\n",
      "\u001b[92m110: Guess: $214.99 Truth: $204.99 Error: $10.00 SLE: 0.00 Item: RYC AC Compressor and A/C Clutch FG227 (...\u001b[0m\n",
      "\u001b[91m111: Guess: $189.99 Truth: $469.99 Error: $280.00 SLE: 0.81 Item: BLUU SEQUOIA 12 FT Solar Cantilever Umbr...\u001b[0m\n",
      "\u001b[93m112: Guess: $399.99 Truth: $592.90 Error: $192.91 SLE: 0.15 Item: Blue Ox BX1130 Base Plate for Jeep Patri...\u001b[0m\n",
      "\u001b[93m113: Guess: $191.00 Truth: $145.78 Error: $45.22 SLE: 0.07 Item: TYC Left Headlight Assembly Compatible w...\u001b[0m\n",
      "\u001b[92m114: Guess: $159.00 Truth: $169.00 Error: $10.00 SLE: 0.00 Item: DTA 50131 Front Complete Strut Assemblie...\u001b[0m\n",
      "\u001b[92m115: Guess: $249.95 Truth: $269.96 Error: $20.01 SLE: 0.01 Item: WAC Smart Fans Odyssey Indoor and Outdoo...\u001b[0m\n",
      "\u001b[92m116: Guess: $180.00 Truth: $183.23 Error: $3.23 SLE: 0.00 Item: Refurbished Pack of 4 OEM Fuel Injectors...\u001b[0m\n",
      "\u001b[92m117: Guess: $185.00 Truth: $208.99 Error: $23.99 SLE: 0.01 Item: HP LaserJet Pro 400 M401N M401 CZ195A Pr...\u001b[0m\n",
      "\u001b[91m118: Guess: $269.99 Truth: $634.11 Error: $364.12 SLE: 0.73 Item: Walter Surface Technologies 30A277 Quick...\u001b[0m\n",
      "\u001b[93m119: Guess: $199.99 Truth: $264.99 Error: $65.00 SLE: 0.08 Item: Frame It All Two Inch Series 7' x 8' x 1...\u001b[0m\n",
      "\u001b[92m120: Guess: $99.99 Truth: $89.99 Error: $10.00 SLE: 0.01 Item: LINCO Lincostore Lighting Photo Light So...\u001b[0m\n",
      "\u001b[93m121: Guess: $499.99 Truth: $813.99 Error: $314.00 SLE: 0.24 Item: 2017 Edition Dell Inspiron 15.6\" Truelif...\u001b[0m\n",
      "\u001b[91m122: Guess: $350.10 Truth: $200.83 Error: $149.27 SLE: 0.31 Item: Evan Fischer Bumper KIT Compatible with ...\u001b[0m\n",
      "\u001b[91m123: Guess: $399.99 Truth: $945.98 Error: $545.99 SLE: 0.74 Item: VEVOR 2 HP Dust Collector, Portable Cycl...\u001b[0m\n",
      "\u001b[92m124: Guess: $35.99 Truth: $66.57 Error: $30.58 SLE: 0.36 Item: Philips USB C Hub with Power Pass-Throug...\u001b[0m\n",
      "\u001b[92m125: Guess: $269.99 Truth: $249.99 Error: $20.00 SLE: 0.01 Item: TAC Running Boards Fit Toyota 4Runner 20...\u001b[0m\n",
      "\u001b[93m126: Guess: $189.99 Truth: $268.62 Error: $78.63 SLE: 0.12 Item: ACDelco Gold 515113 Front Wheel Hub and ...\u001b[0m\n",
      "\u001b[92m127: Guess: $179.99 Truth: $181.93 Error: $1.94 SLE: 0.00 Item: 2016 Polaris RZR XP 4 Turbo OEM Full Syn...\u001b[0m\n",
      "\u001b[92m128: Guess: $599.99 Truth: $609.99 Error: $10.00 SLE: 0.00 Item: OEDRO Front & Rear Bumper Compatible wit...\u001b[0m\n",
      "\u001b[92m129: Guess: $849.99 Truth: $965.00 Error: $115.01 SLE: 0.02 Item: HP Color LaserJet Enterprise M652n Print...\u001b[0m\n",
      "\u001b[92m130: Guess: $160.99 Truth: $140.99 Error: $20.00 SLE: 0.02 Item: MBI AUTO - Primered, Rear Bumper Cover R...\u001b[0m\n",
      "\u001b[92m131: Guess: $199.99 Truth: $205.99 Error: $6.00 SLE: 0.00 Item: Carrier and Bearing Puller Kit, Compatib...\u001b[0m\n",
      "\u001b[93m132: Guess: $149.99 Truth: $225.97 Error: $75.98 SLE: 0.17 Item: Front Cv Shaft Axles Replacement Part Fo...\u001b[0m\n",
      "\u001b[92m133: Guess: $29.99 Truth: $19.99 Error: $10.00 SLE: 0.15 Item: maxim enterprise, inc. Double Decker Woo...\u001b[0m\n",
      "\u001b[92m134: Guess: $239.99 Truth: $289.99 Error: $50.00 SLE: 0.04 Item: 1080p 1x7 7 Port HDMI Extender Splitter ...\u001b[0m\n",
      "\u001b[92m135: Guess: $201.99 Truth: $182.78 Error: $19.21 SLE: 0.01 Item: ACDelco GM Genuine Parts 22817848 Altern...\u001b[0m\n",
      "\u001b[91m136: Guess: $196.00 Truth: $458.25 Error: $262.25 SLE: 0.72 Item: hansgrohe Vivenis Modern 1-Handle 1-Hole...\u001b[0m\n",
      "\u001b[92m137: Guess: $92.50 Truth: $110.62 Error: $18.12 SLE: 0.03 Item: SilverStone Technology ML03B Milo Series...\u001b[0m\n",
      "\u001b[92m138: Guess: $58.99 Truth: $91.99 Error: $33.00 SLE: 0.19 Item: A-Premium Electric Fuel Pump Module Asse...\u001b[0m\n",
      "\u001b[91m139: Guess: $699.00 Truth: $499.00 Error: $200.00 SLE: 0.11 Item: Klipsch RP-502S Reference Premiere Surro...\u001b[0m\n",
      "\u001b[91m140: Guess: $699.00 Truth: $478.50 Error: $220.50 SLE: 0.14 Item: HP 15.6\" Touchscreen Newest Flagship HD ...\u001b[0m\n",
      "\u001b[93m141: Guess: $95.00 Truth: $158.58 Error: $63.58 SLE: 0.26 Item: PEX Manifold Radiant Floor Heating Set 2...\u001b[0m\n",
      "\u001b[92m142: Guess: $244.99 Truth: $231.99 Error: $13.00 SLE: 0.00 Item: Approved Performance K37476-FRP Front an...\u001b[0m\n",
      "\u001b[91m143: Guess: $397.99 Truth: $763.33 Error: $365.34 SLE: 0.42 Item: R1 Concepts eLINE Series Front Rear Blac...\u001b[0m\n",
      "\u001b[92m144: Guess: $43.99 Truth: $27.00 Error: $16.99 SLE: 0.22 Item: CMS 8GB (1X8GB) DDR4 17000 2133MHz Non E...\u001b[0m\n",
      "\u001b[92m145: Guess: $418.40 Truth: $381.36 Error: $37.04 SLE: 0.01 Item: R1 Concepts Front Rear Brakes and Rotors...\u001b[0m\n",
      "\u001b[93m146: Guess: $749.99 Truth: $574.00 Error: $175.99 SLE: 0.07 Item: HP Pavilion x360 15.6 inch 2-in-1 Laptop...\u001b[0m\n",
      "\u001b[92m147: Guess: $49.99 Truth: $73.53 Error: $23.54 SLE: 0.14 Item: Ankama Monster Slaughter - Control a Mon...\u001b[0m\n",
      "\u001b[92m148: Guess: $156.81 Truth: $187.76 Error: $30.95 SLE: 0.03 Item: FEELON 5 Pieces LB Front and Rear Car Se...\u001b[0m\n",
      "\u001b[92m149: Guess: $149.99 Truth: $136.99 Error: $13.00 SLE: 0.01 Item: Wireless Magnetic Backup Camera for Car ...\u001b[0m\n",
      "\u001b[93m150: Guess: $366.89 Truth: $290.41 Error: $76.48 SLE: 0.05 Item: Covercraft - SSC8426CAGY Carhartt SeatSa...\u001b[0m\n",
      "\u001b[92m151: Guess: $229.99 Truth: $281.50 Error: $51.51 SLE: 0.04 Item: AgraTronix 07101, DHT-1-24 Portable Hay ...\u001b[0m\n",
      "\u001b[92m152: Guess: $12.99 Truth: $12.99 Error: $0.00 SLE: 0.00 Item: YHCUUCC Cute Animals Duplex Outlet Cover...\u001b[0m\n",
      "\u001b[92m153: Guess: $281.99 Truth: $284.87 Error: $2.88 SLE: 0.00 Item: EBC S5KF1616 Stage-5 Superstreet Brake K...\u001b[0m\n",
      "\u001b[92m154: Guess: $139.99 Truth: $124.99 Error: $15.00 SLE: 0.01 Item: Renzetti Apprentise Rotary Vise A6001\u001b[0m\n",
      "\u001b[92m155: Guess: $389.99 Truth: $369.99 Error: $20.00 SLE: 0.00 Item: 60\" Turbina Industrial 3 Blade Indoor Ou...\u001b[0m\n",
      "\u001b[92m156: Guess: $257.50 Truth: $232.94 Error: $24.56 SLE: 0.01 Item: Reese 44716 Class III-IV Custom-Fit Hitc...\u001b[0m\n",
      "\u001b[92m157: Guess: $249.99 Truth: $299.00 Error: $49.01 SLE: 0.03 Item: VANGUARD Spirit ED Binocular, Black\u001b[0m\n",
      "\u001b[92m158: Guess: $499.99 Truth: $499.95 Error: $0.04 SLE: 0.00 Item: Toptiny Hard Folding Truck Bed Tonneau C...\u001b[0m\n",
      "\u001b[92m159: Guess: $211.95 Truth: $211.95 Error: $0.00 SLE: 0.00 Item: Blau J1A7004-A Motor Oil Change Kit - Co...\u001b[0m\n",
      "\u001b[92m160: Guess: $29.99 Truth: $28.84 Error: $1.15 SLE: 0.00 Item: Shower Filter For Hard Water Shower Head...\u001b[0m\n",
      "\u001b[91m161: Guess: $299.00 Truth: $198.00 Error: $101.00 SLE: 0.17 Item: Kinugawa Overall Turbo Repair Kit Compat...\u001b[0m\n",
      "\u001b[92m162: Guess: $185.00 Truth: $172.99 Error: $12.01 SLE: 0.00 Item: Dell Optiplex 9020 Ultra Small Tiny Desk...\u001b[0m\n",
      "\u001b[91m163: Guess: $147.34 Truth: $247.92 Error: $100.58 SLE: 0.27 Item: Dorman 699-5103 Accelerator Pedal Compat...\u001b[0m\n",
      "\u001b[92m164: Guess: $498.52 Truth: $584.08 Error: $85.56 SLE: 0.02 Item: Centerforce DF395010 Dual Friction Clutc...\u001b[0m\n",
      "\u001b[92m165: Guess: $24.99 Truth: $7.93 Error: $17.06 SLE: 1.14 Item: Genuine Polaris Part Number 3070172 - SP...\u001b[0m\n",
      "\u001b[92m166: Guess: $49.99 Truth: $72.00 Error: $22.01 SLE: 0.13 Item: Kinazium Construction Set: Create Mazes,...\u001b[0m\n",
      "\u001b[92m167: Guess: $149.99 Truth: $158.98 Error: $8.99 SLE: 0.00 Item: Franke PT-40S Pecera Series Glass Cuttin...\u001b[0m\n",
      "\u001b[92m168: Guess: $200.99 Truth: $182.23 Error: $18.76 SLE: 0.01 Item: GM Genuine Parts 92191939 Engine Cooling...\u001b[0m\n",
      "\u001b[91m169: Guess: $39.95 Truth: $161.99 Error: $122.04 SLE: 1.91 Item: AMI 8803B Blue Billet Hook\u001b[0m\n",
      "\u001b[93m170: Guess: $1,179.00 Truth: $889.00 Error: $290.00 SLE: 0.08 Item: Cordoba Fusion 14 Maple Crossover Cutawa...\u001b[0m\n",
      "\u001b[91m171: Guess: $139.99 Truth: $242.48 Error: $102.49 SLE: 0.30 Item: ASUS USB3.0_HZ-3B Docking Universal Lapt...\u001b[0m\n",
      "\u001b[92m172: Guess: $62.00 Truth: $62.00 Error: $0.00 SLE: 0.00 Item: NOPTEG Mini Electric Tankless Water Heat...\u001b[0m\n",
      "\u001b[92m173: Guess: $399.00 Truth: $449.00 Error: $50.00 SLE: 0.01 Item: Shure SM7B Dynamic Vocal Mic Bundle w/ M...\u001b[0m\n",
      "\u001b[93m174: Guess: $19.99 Truth: $72.99 Error: $53.00 SLE: 1.59 Item: UpBright Car 15V DC Adapter Compatible w...\u001b[0m\n",
      "\u001b[93m175: Guess: $179.99 Truth: $296.74 Error: $116.75 SLE: 0.25 Item: HP EliteDesk 800 G2 Business Desktop Min...\u001b[0m\n",
      "\u001b[92m176: Guess: $159.99 Truth: $124.95 Error: $35.04 SLE: 0.06 Item: Tuff Duck Granite, Grout and Marble Seal...\u001b[0m\n",
      "\u001b[92m177: Guess: $121.06 Truth: $121.83 Error: $0.77 SLE: 0.00 Item: Mevotech Original Grade Control Arm and ...\u001b[0m\n",
      "\u001b[92m178: Guess: $115.00 Truth: $113.47 Error: $1.53 SLE: 0.00 Item: Sound Storm EVO2000.1 EVO 2000 Watt, 2 O...\u001b[0m\n",
      "\u001b[92m179: Guess: $114.99 Truth: $112.25 Error: $2.74 SLE: 0.00 Item: Rear Passenger Seat and Foot Pegs Kit fo...\u001b[0m\n",
      "\u001b[92m180: Guess: $329.00 Truth: $349.00 Error: $20.00 SLE: 0.00 Item: Apple 13in MacBook Air (2017 Newest Vers...\u001b[0m\n",
      "\u001b[92m181: Guess: $379.95 Truth: $349.95 Error: $30.00 SLE: 0.01 Item: Rough Country HD2 Running Boards for 15-...\u001b[0m\n",
      "\u001b[92m182: Guess: $54.98 Truth: $62.99 Error: $8.01 SLE: 0.02 Item: DIAMOND SELECT TOYS Marvel Animated X-Me...\u001b[0m\n",
      "\u001b[92m183: Guess: $115.00 Truth: $143.37 Error: $28.37 SLE: 0.05 Item: DEWALT 20V MAX Impact Driver, Brushless,...\u001b[0m\n",
      "\u001b[92m184: Guess: $122.99 Truth: $122.99 Error: $0.00 SLE: 0.00 Item: 2002-2008 SX 65 SURGE Orange Senge Graph...\u001b[0m\n",
      "\u001b[92m185: Guess: $299.99 Truth: $299.99 Error: $0.00 SLE: 0.00 Item: PEDAL COMMANDER for Honda Civic (2012-20...\u001b[0m\n",
      "\u001b[92m186: Guess: $21.99 Truth: $11.99 Error: $10.00 SLE: 0.33 Item: Soft Cover Spiral Sketchpad Notebooks - ...\u001b[0m\n",
      "\u001b[92m187: Guess: $40.99 Truth: $39.00 Error: $1.99 SLE: 0.00 Item: YAME 8x8ft Vinyl Deepwater Undersea Unde...\u001b[0m\n",
      "\u001b[92m188: Guess: $49.99 Truth: $39.99 Error: $10.00 SLE: 0.05 Item: VONLUCE Modern Swing Arm Wall Mount Ligh...\u001b[0m\n",
      "\u001b[93m189: Guess: $161.92 Truth: $218.96 Error: $57.04 SLE: 0.09 Item: MagnaFlow 7in Round Center/Center Perfor...\u001b[0m\n",
      "\u001b[93m190: Guess: $349.00 Truth: $288.00 Error: $61.00 SLE: 0.04 Item: Fujifilm TCL-X100 Tele Conversion Lens f...\u001b[0m\n",
      "\u001b[92m191: Guess: $101.04 Truth: $70.69 Error: $30.35 SLE: 0.12 Item: GEARWRENCH 7 Pc. 12 Pt. Stubby Ratchetin...\u001b[0m\n",
      "\u001b[92m192: Guess: $198.99 Truth: $163.96 Error: $35.03 SLE: 0.04 Item: Sedona Split 6 Beadlock Wheel (14X7 / 4/...\u001b[0m\n",
      "\u001b[92m193: Guess: $98.90 Truth: $111.16 Error: $12.26 SLE: 0.01 Item: Lorell Classroom Activity Table Standard...\u001b[0m\n",
      "\u001b[92m194: Guess: $231.41 Truth: $236.41 Error: $5.00 SLE: 0.00 Item: AC Compressor & A/C Clutch For Suzuki XL...\u001b[0m\n",
      "\u001b[92m195: Guess: $169.99 Truth: $143.48 Error: $26.51 SLE: 0.03 Item: Dell OptiPlex 790 Business Desktop Compu...\u001b[0m\n",
      "\u001b[92m196: Guess: $249.00 Truth: $279.00 Error: $30.00 SLE: 0.01 Item: Loupedeck+ The Photo and Video Editing C...\u001b[0m\n",
      "\u001b[92m197: Guess: $79.99 Truth: $57.99 Error: $22.00 SLE: 0.10 Item: JBL ENDURANCE PEAK - True Wireless Earbu...\u001b[0m\n",
      "\u001b[93m198: Guess: $299.99 Truth: $225.95 Error: $74.04 SLE: 0.08 Item: XtremepowerUS Heavy Duty Weight Distribu...\u001b[0m\n",
      "\u001b[93m199: Guess: $34.99 Truth: $83.95 Error: $48.96 SLE: 0.74 Item: Phase 10 Twist\u001b[0m\n",
      "\u001b[92m200: Guess: $84.99 Truth: $91.02 Error: $6.03 SLE: 0.00 Item: Custom 1 Line Conch Shell Aluminum Addre...\u001b[0m\n",
      "\u001b[92m201: Guess: $149.99 Truth: $182.33 Error: $32.34 SLE: 0.04 Item: Delta Faucet 3-Spray Touch-Clean Shower ...\u001b[0m\n",
      "\u001b[92m202: Guess: $79.99 Truth: $69.95 Error: $10.04 SLE: 0.02 Item: Panasonic SL-SV590 Portable CD Player an...\u001b[0m\n",
      "\u001b[92m203: Guess: $2.08 Truth: $1.03 Error: $1.05 SLE: 0.17 Item: Cosmas 5560WN Weathered Nickel Cabinet H...\u001b[0m\n",
      "\u001b[92m204: Guess: $34.99 Truth: $18.65 Error: $16.34 SLE: 0.37 Item: Amazon Basics 67-Inch Monopod, Black\u001b[0m\n",
      "\u001b[92m205: Guess: $3.99 Truth: $10.75 Error: $6.76 SLE: 0.73 Item: American Greetings Doc McStuffins Lunche...\u001b[0m\n",
      "\u001b[92m206: Guess: $150.00 Truth: $168.09 Error: $18.09 SLE: 0.01 Item: For BMW X3 Outer Tail Light 2011 12 13 1...\u001b[0m\n",
      "\u001b[91m207: Guess: $236.00 Truth: $141.26 Error: $94.74 SLE: 0.26 Item: Kingston Brass KB8362NFL NuWave French R...\u001b[0m\n",
      "\u001b[92m208: Guess: $126.95 Truth: $102.95 Error: $24.00 SLE: 0.04 Item: WORLDS BEST CABLES 6 Foot - Canare 4S11 ...\u001b[0m\n",
      "\u001b[93m209: Guess: $499.99 Truth: $665.22 Error: $165.23 SLE: 0.08 Item: ASUS VivoBook S17 S712 Thin and Light 17...\u001b[0m\n",
      "\u001b[92m210: Guess: $149.00 Truth: $126.97 Error: $22.03 SLE: 0.03 Item: SAMSUNG Galaxy Watch 4 Classic 46mm Smar...\u001b[0m\n",
      "\u001b[92m211: Guess: $39.99 Truth: $43.00 Error: $3.01 SLE: 0.01 Item: Junior Pictionary Mania\u001b[0m\n",
      "\u001b[92m212: Guess: $189.99 Truth: $189.00 Error: $0.99 SLE: 0.00 Item: Homacer 5-in-1 Design Solid Natural Pine...\u001b[0m\n",
      "\u001b[92m213: Guess: $799.99 Truth: $799.99 Error: $0.00 SLE: 0.00 Item: Shoei Neotec II Flip-Up Motorcycle Helme...\u001b[0m\n",
      "\u001b[92m214: Guess: $210.00 Truth: $190.77 Error: $19.23 SLE: 0.01 Item: Reese 44650 Class 3 Trailer Hitch, 2 Inc...\u001b[0m\n",
      "\u001b[92m215: Guess: $85.00 Truth: $69.99 Error: $15.01 SLE: 0.04 Item: Donner Alchemy Guitar Effect Pedal True ...\u001b[0m\n",
      "\u001b[92m216: Guess: $79.99 Truth: $73.00 Error: $6.99 SLE: 0.01 Item: Azel D-508F: NON-PROGRAMMABLE DIGITAL SL...\u001b[0m\n",
      "\u001b[92m217: Guess: $15.99 Truth: $7.99 Error: $8.00 SLE: 0.41 Item: Miss Arts Designed for Galaxy S22 Ultra ...\u001b[0m\n",
      "\u001b[93m218: Guess: $99.99 Truth: $33.95 Error: $66.04 SLE: 1.13 Item: Kichler 15276BK Accessory Stake 120V, Bl...\u001b[0m\n",
      "\u001b[93m219: Guess: $129.00 Truth: $74.43 Error: $54.57 SLE: 0.30 Item: Creative Co-Op EC0252 Glass & Mango Wood...\u001b[0m\n",
      "\u001b[92m220: Guess: $619.77 Truth: $619.50 Error: $0.27 SLE: 0.00 Item: 4-1/2\" Metal Cutting Band Saw 4x6 Horizo...\u001b[0m\n",
      "\u001b[92m221: Guess: $489.99 Truth: $479.99 Error: $10.00 SLE: 0.00 Item: ClutchMaxPRO Performance Stage 4 Clutch ...\u001b[0m\n",
      "\u001b[93m222: Guess: $99.99 Truth: $27.99 Error: $72.00 SLE: 1.56 Item: Ultimaxx 58MM Complete Lens Filter Acces...\u001b[0m\n",
      "\u001b[91m223: Guess: $549.99 Truth: $323.89 Error: $226.10 SLE: 0.28 Item: HONLM7236PNC - HON Foundation Desk Shell...\u001b[0m\n",
      "\u001b[91m224: Guess: $194.30 Truth: $823.49 Error: $629.19 SLE: 2.07 Item: Tamiya 58441 Off Road Buggy Champ 2009 R...\u001b[0m\n",
      "\u001b[92m225: Guess: $235.00 Truth: $202.11 Error: $32.89 SLE: 0.02 Item: ZEBRA ZP 450 Label Thermal Bar Code Mono...\u001b[0m\n",
      "\u001b[92m226: Guess: $97.71 Truth: $97.71 Error: $0.00 SLE: 0.00 Item: Vertex VTK23429CD Replica Top End Piston...\u001b[0m\n",
      "\u001b[92m227: Guess: $59.99 Truth: $45.90 Error: $14.09 SLE: 0.07 Item: PHIXART Outdoor String Lights 43ft LED S...\u001b[0m\n",
      "\u001b[93m228: Guess: $140.00 Truth: $66.48 Error: $73.52 SLE: 0.54 Item: Filterbuy 12x36x2 Air Filter MERV 8 Dust...\u001b[0m\n",
      "\u001b[92m229: Guess: $149.99 Truth: $145.99 Error: $4.00 SLE: 0.00 Item: Capcom Pink Mega Man Wearable Helmet Meg...\u001b[0m\n",
      "\u001b[91m230: Guess: $109.95 Truth: $341.25 Error: $231.30 SLE: 1.27 Item: Peakworks Fall Protection Flame Resistan...\u001b[0m\n",
      "\u001b[93m231: Guess: $299.00 Truth: $440.89 Error: $141.89 SLE: 0.15 Item: Complete Set of 8 Lug Billet Hub Centric...\u001b[0m\n",
      "\u001b[92m232: Guess: $122.00 Truth: $138.35 Error: $16.35 SLE: 0.02 Item: Texas Instruments TI-84 Plus CE Graphing...\u001b[0m\n",
      "\u001b[92m233: Guess: $139.99 Truth: $139.99 Error: $0.00 SLE: 0.00 Item: Laney Electric Guitar Mini Amplifier, Bl...\u001b[0m\n",
      "\u001b[92m234: Guess: $161.00 Truth: $188.00 Error: $27.00 SLE: 0.02 Item: Set Of (2) Rotary Lift SPO10 Equalizer C...\u001b[0m\n",
      "\u001b[92m235: Guess: $14.99 Truth: $22.00 Error: $7.01 SLE: 0.13 Item: Port-A-Bag 18\" TRASH COMPACTOR BAGS 15-p...\u001b[0m\n",
      "\u001b[93m236: Guess: $159.00 Truth: $199.00 Error: $40.00 SLE: 0.05 Item: LILLIPUT A7S 7\" On Camera Field Monitor ...\u001b[0m\n",
      "\u001b[92m237: Guess: $53.99 Truth: $56.15 Error: $2.16 SLE: 0.00 Item: WPS Sealed Battery - YTX12-BS CTX12-BS\u001b[0m\n",
      "\u001b[92m238: Guess: $254.99 Truth: $254.99 Error: $0.00 SLE: 0.00 Item: Rigid Industries 70231 M-Series D2 Drivi...\u001b[0m\n",
      "\u001b[92m239: Guess: $27.99 Truth: $44.99 Error: $17.00 SLE: 0.21 Item: Innergie 60W C6 GaN Technology PD 3.0 US...\u001b[0m\n",
      "\u001b[93m240: Guess: $149.99 Truth: $233.36 Error: $83.37 SLE: 0.19 Item: Lincoln Electric ArcSpecs Auto-Darkening...\u001b[0m\n",
      "\u001b[93m241: Guess: $191.45 Truth: $115.64 Error: $75.81 SLE: 0.25 Item: Motorcraft - Rod Asy - Drag Link (P) (MD...\u001b[0m\n",
      "\u001b[91m242: Guess: $399.99 Truth: $762.39 Error: $362.40 SLE: 0.41 Item: Aeromotive 18313 Phantom Series Drop-In ...\u001b[0m\n",
      "\u001b[93m243: Guess: $299.95 Truth: $249.95 Error: $50.00 SLE: 0.03 Item: PIONEER TS-Z65C 330W 17cm 2-Way Componen...\u001b[0m\n",
      "\u001b[92m244: Guess: $579.99 Truth: $639.00 Error: $59.01 SLE: 0.01 Item: acer 2022 Aspire 5 Thin & Light Business...\u001b[0m\n",
      "\u001b[93m245: Guess: $49.99 Truth: $108.66 Error: $58.67 SLE: 0.59 Item: IVY Classic 37057 Premium 10-Inch Dry an...\u001b[0m\n",
      "\u001b[92m246: Guess: $66.00 Truth: $66.00 Error: $0.00 SLE: 0.00 Item: Brock Replacement Set Driver and Passeng...\u001b[0m\n",
      "\u001b[92m247: Guess: $71.70 Truth: $50.10 Error: $21.60 SLE: 0.12 Item: AutoandArt Replacement Passengers Front ...\u001b[0m\n",
      "\u001b[92m248: Guess: $114.30 Truth: $128.94 Error: $14.64 SLE: 0.01 Item: ACDelco Professional 19304544 Throttle B...\u001b[0m\n",
      "\u001b[92m249: Guess: $399.99 Truth: $359.00 Error: $40.99 SLE: 0.01 Item: Asus 2023 Newest C433 Ultrathin Clamshel...\u001b[0m\n",
      "\u001b[91m250: Guess: $189.50 Truth: $92.51 Error: $96.99 SLE: 0.51 Item: Leviton MS603-FW 60 Amp, 600 Volt, Toggl...\u001b[0m\n"
     ]
    },
    {
     "data": {
      "image/png": "[encoded data removed]",
      "text/plain": [
       "<Figure size 1200x800 with 1 Axes>"
      ]
     },
     "metadata": {},
     "output_type": "display_data"
    }
   ],
   "source": [
    "Tester.test(gpt_4o_mini_rag, validation)"
   ]
  },
  {
   "cell_type": "code",
   "execution_count": null,
   "id": "a674df2c",
   "metadata": {},
   "outputs": [],
   "source": []
  },
  {
   "cell_type": "code",
   "execution_count": null,
   "id": "ecc36475",
   "metadata": {},
   "outputs": [],
   "source": []
  },
  {
   "cell_type": "code",
   "execution_count": null,
   "id": "d83c8211",
   "metadata": {},
   "outputs": [],
   "source": []
  },
  {
   "cell_type": "code",
   "execution_count": null,
   "id": "99f9f30e",
   "metadata": {},
   "outputs": [],
   "source": []
  },
  {
   "cell_type": "code",
   "execution_count": null,
   "id": "29fc9a97",
   "metadata": {},
   "outputs": [],
   "source": []
  },
  {
   "cell_type": "code",
   "execution_count": null,
   "id": "3cf7ba91",
   "metadata": {},
   "outputs": [],
   "source": []
  },
  {
   "cell_type": "code",
   "execution_count": null,
   "id": "fc72eeaa",
   "metadata": {},
   "outputs": [],
   "source": []
  },
  {
   "cell_type": "code",
   "execution_count": null,
   "id": "152a5893",
   "metadata": {},
   "outputs": [],
   "source": []
  },
  {
   "cell_type": "code",
   "execution_count": null,
   "id": "be6282d0",
   "metadata": {},
   "outputs": [],
   "source": []
  },
  {
   "cell_type": "code",
   "execution_count": null,
   "id": "a2bd9484",
   "metadata": {},
   "outputs": [],
   "source": []
  },
  {
   "cell_type": "code",
   "execution_count": null,
   "id": "396b01e3",
   "metadata": {},
   "outputs": [],
   "source": []
  },
  {
   "cell_type": "code",
   "execution_count": null,
   "id": "b69c1baf",
   "metadata": {},
   "outputs": [],
   "source": []
  },
  {
   "cell_type": "code",
   "execution_count": null,
   "id": "cfb01ae5",
   "metadata": {},
   "outputs": [],
   "source": []
  },
  {
   "cell_type": "code",
   "execution_count": null,
   "id": "d8e8744c",
   "metadata": {},
   "outputs": [],
   "source": []
  },
  {
   "cell_type": "code",
   "execution_count": null,
   "id": "225b2918",
   "metadata": {},
   "outputs": [],
   "source": []
  },
  {
   "cell_type": "code",
   "execution_count": null,
   "id": "55bdaa97",
   "metadata": {},
   "outputs": [],
   "source": []
  },
  {
   "cell_type": "code",
   "execution_count": null,
   "id": "d5c3f34d",
   "metadata": {},
   "outputs": [],
   "source": []
  },
  {
   "cell_type": "code",
   "execution_count": null,
   "id": "29afa4cd",
   "metadata": {},
   "outputs": [],
   "source": []
  },
  {
   "cell_type": "code",
   "execution_count": null,
   "id": "bf0be626",
   "metadata": {},
   "outputs": [],
   "source": []
  },
  {
   "cell_type": "code",
   "execution_count": null,
   "id": "d57c4135",
   "metadata": {},
   "outputs": [],
   "source": []
  },
  {
   "cell_type": "code",
   "execution_count": null,
   "id": "583eb4cc",
   "metadata": {},
   "outputs": [],
   "source": []
  },
  {
   "cell_type": "code",
   "execution_count": null,
   "id": "4d6bb14b",
   "metadata": {},
   "outputs": [],
   "source": []
  }
 ],
 "metadata": {
  "kernelspec": {
   "display_name": "Python 3",
   "language": "python",
   "name": "python3"
  },
  "language_info": {
   "codemirror_mode": {
    "name": "ipython",
    "version": 3
   },
   "file_extension": ".py",
   "mimetype": "text/x-python",
   "name": "python",
   "nbconvert_exporter": "python",
   "pygments_lexer": "ipython3",
   "version": "3.12.0"
  }
 },
 "nbformat": 4,
 "nbformat_minor": 5
}
